{
  "nbformat": 4,
  "nbformat_minor": 0,
  "metadata": {
    "language_info": {
      "codemirror_mode": {
        "name": "ipython",
        "version": 3
      },
      "file_extension": ".py",
      "mimetype": "text/x-python",
      "name": "python",
      "nbconvert_exporter": "python",
      "pygments_lexer": "ipython3",
      "version": "3.8.3-final"
    },
    "orig_nbformat": 2,
    "kernelspec": {
      "name": "python3",
      "display_name": "Python 3"
    },
    "colab": {
      "name": "spin_glass_class.ipynb",
      "provenance": [],
      "collapsed_sections": [],
      "toc_visible": true,
      "include_colab_link": true
    },
    "accelerator": "GPU"
  },
  "cells": [
    {
      "cell_type": "markdown",
      "metadata": {
        "id": "view-in-github",
        "colab_type": "text"
      },
      "source": [
        "<a href=\"https://colab.research.google.com/github/dinesh110598/Spin_glass_NN/blob/master/main.ipynb\" target=\"_parent\"><img src=\"https://colab.research.google.com/assets/colab-badge.svg\" alt=\"Open In Colab\"/></a>"
      ]
    },
    {
      "cell_type": "markdown",
      "metadata": {
        "id": "VVQzGF2lGJlc",
        "colab_type": "text"
      },
      "source": [
        "# Classification of different types of spin glass phases\n",
        "\n",
        "Spin glass phases typically occur in frustrated spin systems where minimum energy cannot be attained in all lattice sites. They can occur in two possible situations:\n",
        "1. Disorder in values of coupling constants. Eg: Edwards Anderson (EA) spin glass phase\n",
        "2. Geometric constraints on neighbouring spin values. Eg: Antiferromagnetic triangular Ising glass phase\n",
        "\n",
        "Main agenda: \n",
        "As it turns out, distinguishing these two kinds of spin glass phases is non-trivial and not possible by calculating quantities like magnetization, susceptibility, two point correlations. Our aim will be to feed simulated thermal ensembles of EA spin glass and triangular antiferromagnetic spin glass labelled categorically, to a convolutional neural network and see whether it accurately learns the inherent difference in their statistics "
      ]
    },
    {
      "cell_type": "markdown",
      "metadata": {
        "id": "O6X6OPtPXIWZ",
        "colab_type": "text"
      },
      "source": [
        "# Classify Square Uniform EA and Triangular AFM lattices"
      ]
    },
    {
      "cell_type": "code",
      "metadata": {
        "id": "C2x39WLNOh7f",
        "colab_type": "code",
        "colab": {
          "base_uri": "https://localhost:8080/",
          "height": 265
        },
        "outputId": "b4f50bbf-4a64-413f-f14b-fff4d8138764"
      },
      "source": [
        "!curl https://colab.chainer.org/install | sh -"
      ],
      "execution_count": null,
      "outputs": [
        {
          "output_type": "stream",
          "text": [
            "  % Total    % Received % Xferd  Average Speed   Time    Time     Time  Current\n",
            "                                 Dload  Upload   Total   Spent    Left  Speed\n",
            "100  1580  100  1580    0     0   2449      0 --:--:-- --:--:-- --:--:--  2445\n",
            "+ apt -y -q install cuda-libraries-dev-10-0\n",
            "Reading package lists...\n",
            "Building dependency tree...\n",
            "Reading state information...\n",
            "cuda-libraries-dev-10-0 is already the newest version (10.0.130-1).\n",
            "0 upgraded, 0 newly installed, 0 to remove and 11 not upgraded.\n",
            "+ pip install -q cupy-cuda100  chainer \n",
            "\u001b[K     |████████████████████████████████| 348.0MB 24kB/s \n",
            "\u001b[?25h+ set +ex\n",
            "Installation succeeded!\n"
          ],
          "name": "stdout"
        }
      ]
    },
    {
      "cell_type": "code",
      "metadata": {
        "id": "JK7PK2EaXdPd",
        "colab_type": "code",
        "colab": {}
      },
      "source": [
        "import math\n",
        "import numpy as np\n",
        "import cupy as cp\n",
        "import matplotlib.pyplot as plt\n",
        "import tensorflow.keras as tfk\n",
        "import tensorflow as tf\n",
        "from numba import cuda, float32, int32"
      ],
      "execution_count": null,
      "outputs": []
    },
    {
      "cell_type": "code",
      "metadata": {
        "id": "3FVDX0wwENEr",
        "colab_type": "code",
        "colab": {
          "base_uri": "https://localhost:8080/",
          "height": 36
        },
        "outputId": "8b601ffe-a282-4305-898e-4d7861fb5460"
      },
      "source": [
        "from google.colab import drive\n",
        "from google.colab import output\n",
        "drive.mount('/content/drive', force_remount=True)\n",
        "folder_path = \"/content/drive/My Drive/Project Presentations/Spin_glass_phase_classification/\""
      ],
      "execution_count": null,
      "outputs": [
        {
          "output_type": "stream",
          "text": [
            "Mounted at /content/drive\n"
          ],
          "name": "stdout"
        }
      ]
    },
    {
      "cell_type": "markdown",
      "metadata": {
        "id": "9bOwfuamc5Up",
        "colab_type": "text"
      },
      "source": [
        "### Necessary cuda kernels"
      ]
    },
    {
      "cell_type": "code",
      "metadata": {
        "id": "gmYHVVZuYNEg",
        "colab_type": "code",
        "colab": {}
      },
      "source": [
        "@cuda.jit\n",
        "def update_red(spin, seed, T):\n",
        "    J = -1.0  # Nearest neighbour coupling constant\n",
        "\n",
        "    def random_uniform(x, y, z):\n",
        "        seed[x, y, z] = np.int32((seed[x, y, z]*1664525 + 1013904223) % 2**31)\n",
        "        return seed[x, y, z] / (2**31)\n",
        "\n",
        "    def bvc (x):\n",
        "        if x == spin.shape[0]:\n",
        "            x = 0\n",
        "        return x       \n",
        "\n",
        "    def sum_nn(x, y, z):  # This adds spins of six neighbours instead of 4 subject to\n",
        "        #many constraints characteristic of triangular lattices\n",
        "\n",
        "        value = 0\n",
        "        value += spin[bvc(x+1), y, z]\n",
        "        if (x % 2 == 0):\n",
        "            value += spin[bvc(x+1), y-1, z]\n",
        "        else:\n",
        "            value += spin[bvc(x+1), bvc(y+1), z]\n",
        "\n",
        "        value += spin[x-1, y, z]\n",
        "        if (x % 2 == 0):\n",
        "            value += spin[x-1, y-1, z]\n",
        "        else:\n",
        "            value += spin[x-1, bvc(y+1), z]\n",
        "\n",
        "        value += spin[x, bvc(y+1), z]\n",
        "        value += spin[x, y-1, z]\n",
        "\n",
        "        return value\n",
        "\n",
        "    def calc(x, y, z):\n",
        "        probs = random_uniform(x, y, z)\n",
        "        if (probs < math.exp(-2*J*spin[x, y, z]*sum_nn(x, y, z)/T[0])):\n",
        "            spin[x, y, z] *= np.int8(-1)\n",
        "\n",
        "    x, y, z = cuda.grid(3)\n",
        "    p, q = x % 3, y % 2\n",
        "\n",
        "    if x < spin.shape[0] and y < spin.shape[1] and z < spin.shape[2]:\n",
        "        if (p == 0 and q == 0) or (p == 1 and q == 1):\n",
        "            calc(x, y, z)\n",
        "\n",
        "@cuda.jit\n",
        "def update_blue(spin, seed, T):\n",
        "    J = -1.0  # Nearest neighbour coupling constant\n",
        "\n",
        "    def random_uniform(x, y, z):\n",
        "        seed[x, y, z] = np.int32((seed[x, y, z]*1664525 + 1013904223) % 2**31)\n",
        "        return seed[x, y, z] / (2**31)\n",
        "\n",
        "    def bvc (x):\n",
        "        if x == spin.shape[0]:\n",
        "            x = 0\n",
        "        return x\n",
        "\n",
        "    def sum_nn(x, y, z):  # This adds spins of six neighbours instead of 4 subject to\n",
        "        #many constraints characteristic of triangular lattices\n",
        "\n",
        "        value = 0\n",
        "        value += spin[bvc(x+1), y, z]\n",
        "        if (x % 2 == 0):\n",
        "            value += spin[bvc(x+1), y-1, z]\n",
        "        else:\n",
        "            value += spin[bvc(x+1), bvc(y+1), z]\n",
        "\n",
        "        value += spin[x-1, y, z]\n",
        "        if (x % 2 == 0):\n",
        "            value += spin[x-1, y-1, z]\n",
        "        else:\n",
        "            value += spin[x-1, bvc(y+1), z]\n",
        "\n",
        "        value += spin[x, bvc(y+1), z]\n",
        "        value += spin[x, y-1, z]\n",
        "\n",
        "        return value\n",
        "\n",
        "    def calc(x, y, z):\n",
        "        probs = random_uniform(x, y, z)\n",
        "        if (probs < math.exp(-2*J*spin[x, y, z]*sum_nn(x, y, z)/T[0])):\n",
        "            spin[x, y, z] *= np.int8(-1)\n",
        "\n",
        "    x, y, z = cuda.grid(3)\n",
        "    p, q = x % 3, y % 2\n",
        "\n",
        "    if x < spin.shape[0] and y < spin.shape[1] and z < spin.shape[2]:\n",
        "        if (p == 1 and q == 0) or (p == 2 and q == 1):\n",
        "            calc(x, y, z)\n",
        "\n",
        "@cuda.jit\n",
        "def update_green (spin, seed, T):\n",
        "    J = -1.0  # Nearest neighbour coupling constant\n",
        "\n",
        "    def random_uniform(x, y, z):\n",
        "        seed[x, y, z] = np.int32((seed[x, y, z]*1664525 + 1013904223) % 2**31)\n",
        "        return seed[x, y, z] / (2**31)\n",
        "\n",
        "    def bvc (x):\n",
        "        if x == spin.shape[0]:\n",
        "            x = 0\n",
        "        return x\n",
        "\n",
        "    def sum_nn(x, y, z):  # This adds spins of six neighbours instead of 4 subject to\n",
        "        #many constraints characteristic of triangular lattices\n",
        "\n",
        "        value = 0\n",
        "        value += spin[bvc(x+1), y, z]\n",
        "        if (x % 2 == 0):\n",
        "            value += spin[bvc(x+1), y-1, z]\n",
        "        else:\n",
        "            value += spin[bvc(x+1), bvc(y+1), z]\n",
        "\n",
        "        value += spin[x-1, y, z]\n",
        "        if (x % 2 == 0):\n",
        "            value += spin[x-1, y-1, z]\n",
        "        else:\n",
        "            value += spin[x-1, bvc(y+1), z]\n",
        "\n",
        "        value += spin[x, bvc(y+1), z]\n",
        "        value += spin[x, y-1, z]\n",
        "\n",
        "        return value\n",
        "\n",
        "    def calc(x, y, z):\n",
        "        probs = random_uniform(x, y, z)\n",
        "        if (probs < math.exp(-2*J*spin[x, y, z]*sum_nn(x, y, z)/T[0])):\n",
        "            spin[x, y, z] *= np.int8(-1)\n",
        "\n",
        "    x, y, z = cuda.grid(3)\n",
        "    p, q = x % 3, y % 2\n",
        "\n",
        "    if x < spin.shape[0] and y < spin.shape[1] and z < spin.shape[2]:\n",
        "        if (p == 2 and q == 0) or (p == 0 and q == 1):\n",
        "            calc(x, y, z)\n",
        "\n",
        "@cuda.jit\n",
        "def calc_energy_Tri (spin, energy):\n",
        "    def bvc (x):\n",
        "        if x == spin.shape[1]:\n",
        "            x = 0\n",
        "        return x\n",
        "    \n",
        "    def sum_nn(x, y, z):  # This adds spins of six neighbours instead of 4 subject to\n",
        "        #many constraints characteristic of triangular lattices\n",
        "\n",
        "        value = 0\n",
        "        value += spin[bvc(x+1), y, z]\n",
        "        if (x % 2 == 0):\n",
        "            value += spin[bvc(x+1), y-1, z]\n",
        "        else:\n",
        "            value += spin[bvc(x+1), bvc(y+1), z]\n",
        "\n",
        "        value += spin[x-1, y, z]\n",
        "        if (x % 2 == 0):\n",
        "            value += spin[x-1, y-1, z]\n",
        "        else:\n",
        "            value += spin[x-1, bvc(y+1), z]\n",
        "\n",
        "        value += spin[x, bvc(y+1), z]\n",
        "        value += spin[x, y-1, z]\n",
        "\n",
        "        return value\n",
        "    \n",
        "    ener = 0\n",
        "    z = cuda.grid (1)\n",
        "    for x in range (spin.shape[0]):\n",
        "        for y in range (spin.shape[1]):\n",
        "            ener -= spin[x,y,z]*sum_nn(x,y,z)\n",
        "    energy[z] = 0.5*ener"
      ],
      "execution_count": null,
      "outputs": []
    },
    {
      "cell_type": "code",
      "metadata": {
        "id": "HONUgn-senDC",
        "colab_type": "code",
        "colab": {}
      },
      "source": [
        "@cuda.jit\n",
        "def update_black(spin, seed, T, Jnn):\n",
        "    def random_uniform(x, y, z):\n",
        "        seed[x, y, z] = np.int32((seed[x, y, z]*1664525 + 1013904223) % 2**31)\n",
        "        return seed[x, y, z] / (2**31)\n",
        "\n",
        "    def bvc(x):\n",
        "        if x == spin.shape[0]:\n",
        "            return 0\n",
        "        else:\n",
        "            return x\n",
        "\n",
        "    def sum_nn(x, y, z):\n",
        "        sum = 0\n",
        "        sum += Jnn[x, y, 0]*spin[bvc(x+1), y, z]\n",
        "        sum += Jnn[x, y, 1]*spin[x, bvc(y+1), z]\n",
        "        sum += Jnn[x-1, y, 0]*spin[x-1, y, z]\n",
        "        sum += Jnn[x, y-1, 1]*spin[x, y-1, z]\n",
        "        return sum\n",
        "\n",
        "    def calc(x, y, z):\n",
        "        probs = random_uniform(x, y, z)\n",
        "        delta = 2*spin[x, y, z]*sum_nn(x, y, z)\n",
        "        if probs < math.exp(-delta/T[0]):\n",
        "            spin[x, y, z] *= np.int8(-1)\n",
        "            #energy[z] += delta\n",
        "\n",
        "    x, y, z = cuda.grid(3)\n",
        "    p, q = x % 2, y % 2\n",
        "    if x < spin.shape[0] and y < spin.shape[1] and z < spin.shape[2]:\n",
        "        if (p == 0 and q == 0) or (p == 1 and q == 1):\n",
        "            calc(x, y, z)\n",
        "\n",
        "@cuda.jit\n",
        "def update_white(spin, seed, T, Jnn):\n",
        "    def random_uniform(x, y, z):\n",
        "        seed[x, y, z] = np.int32((seed[x, y, z]*1664525 + 1013904223) % 2**31)\n",
        "        return seed[x, y, z] / (2**31)\n",
        "\n",
        "    def bvc(x):\n",
        "        if x == spin.shape[0]:\n",
        "            return 0\n",
        "        else:\n",
        "            return x\n",
        "\n",
        "    def sum_nn(x, y, z):\n",
        "        sum = 0\n",
        "        sum += Jnn[x, y, 0]*spin[bvc(x+1), y, z]\n",
        "        sum += Jnn[x, y, 1]*spin[x, bvc(y+1), z]\n",
        "        sum += Jnn[x-1, y, 0]*spin[x-1, y, z]\n",
        "        sum += Jnn[x, y-1, 1]*spin[x, y-1, z]\n",
        "        return sum\n",
        "\n",
        "    def calc(x, y, z):\n",
        "        probs = random_uniform(x, y, z)\n",
        "        delta = 2*spin[x, y, z]*sum_nn(x, y, z)\n",
        "        if probs < math.exp(-delta/T[0]):\n",
        "            spin[x, y, z] *= np.int8(-1)\n",
        "            #energy[z] += delta\n",
        "\n",
        "    x, y, z = cuda.grid(3)\n",
        "    p, q = x % 2, y % 2\n",
        "    if x < spin.shape[0] and y < spin.shape[1] and z < spin.shape[2]:\n",
        "        if (p == 1 and q == 0) or (p == 0 and q == 1):\n",
        "            calc(x, y, z)\n",
        "\n",
        "@cuda.jit\n",
        "def parallel_temper(spin, T, seed, energy):\n",
        "    z = cuda.grid(1)\n",
        "\n",
        "    rand_n = 0 if float32(seed[0, 0, 0]/2**31) < 0.5 else 1\n",
        "    ptr = 2*z + rand_n\n",
        "    if ptr < energy.shape[0]-1:\n",
        "        val0 = 1./T[ptr]\n",
        "        val1 = 1./T[ptr+1]\n",
        "        e0 = energy[ptr]\n",
        "        e1 = energy[ptr+1]\n",
        "        rand_unif = float32(seed[0, 1, z] / 2**31)\n",
        "        arg = (e0 - e1)*(val0 - val1)\n",
        "        if (arg < 0):\n",
        "            if rand_unif < math.exp(arg):\n",
        "                T[ptr] = 1/val1\n",
        "                T[ptr+1] = 1/val0\n",
        "        else:\n",
        "            T[ptr] = 1/val1\n",
        "            T[ptr+1] = 1/val0\n",
        "\n",
        "@cuda.jit\n",
        "def calc_energy (spin, J_nn, energy): #m_ threads on a single block...\n",
        "    def bvc(x):\n",
        "        if x == spin.shape[1]:\n",
        "            return 0\n",
        "        else:\n",
        "            return x\n",
        "\n",
        "    z = cuda.grid (1)\n",
        "    len_ = spin.shape[1]\n",
        "    ener = 0\n",
        "    for x in range(len_):\n",
        "        for y in range(len_):\n",
        "            ener -= J_nn[x,y,0] * spin[x,y,z]*spin[bvc(x+1),y,z]\n",
        "            ener -= J_nn[x,y,1] * spin[x,y,z]*spin[x,bvc(y+1),z]\n",
        "\n",
        "    energy[z] = ener"
      ],
      "execution_count": null,
      "outputs": []
    },
    {
      "cell_type": "markdown",
      "metadata": {
        "id": "QLb-18ZTjIne",
        "colab_type": "text"
      },
      "source": [
        "### Simulator class"
      ]
    },
    {
      "cell_type": "code",
      "metadata": {
        "id": "sICqy3-dem_0",
        "colab_type": "code",
        "colab": {}
      },
      "source": [
        "class SpinGlassData ():\n",
        "    def __init__(self, lat_len= 48, ens_size=80):\n",
        "        self.shape = (lat_len, lat_len)\n",
        "        self.m = ens_size\n",
        "        self.tpb = (8,8,1)\n",
        "        self.spin = cp.random.choice ([1,-1], self.shape+(self.m,)).astype(np.int8)\n",
        "        self.spin2 = cp.random.choice ([1,-1], self.shape+(self.m//2,)).astype(np.int8)\n",
        "        self.seed = cp.random.randint (-10000,10000, size=self.shape+(self.m,),\n",
        "                                       dtype=np.int32)\n",
        "        self.energy = cp.zeros (self.m, np.float32)\n",
        "        self.energy2 = cp.zeros (self.m//2, np.float32)\n",
        "    \n",
        "    def equilib_EA (self):\n",
        "        temp = 0.5\n",
        "        J_nn = cp.random.uniform (-1.73205, 1.73205, self.shape+(2,), dtype=np.float32)\n",
        "        vr_T = cp.linspace (temp, temp+2.5, self.m, dtype=np.float32)\n",
        "        bpg = (self.shape[0]//self.tpb[0],self.shape[1]//self.tpb[1], self.m)\n",
        "        for _ in range(250):\n",
        "            for _ in range (5):\n",
        "                update_black[bpg,self.tpb] (self.spin, self.seed, vr_T, J_nn)\n",
        "                update_white[bpg,self.tpb] (self.spin, self.seed, vr_T, J_nn)\n",
        "            calc_energy[1, self.m](self.spin, J_nn, self.energy)\n",
        "            parallel_temper[1, self.m//2] (self.spin, vr_T, self.seed, self.energy)\n",
        "        vr_T = cp.full (self.m, temp, np.float32)\n",
        "        for _ in range (500):\n",
        "            update_black[bpg, self.tpb] (self.spin, self.seed, vr_T, J_nn)\n",
        "            update_white[bpg, self.tpb] (self.spin, self.seed, vr_T, J_nn)\n",
        "        calc_energy[1, self.m](self.spin, J_nn, self.energy)\n",
        "        order = cp.asnumpy(cp.argsort (self.energy))\n",
        "        return cp.asnumpy(self.spin)[...,order[:self.m//2]]\n",
        "\n",
        "    def equilib_TriAFM (self):\n",
        "        temp = 0.5\n",
        "        bpg = (self.shape[0]//self.tpb[0], self.shape[1]//self.tpb[1], self.m)\n",
        "        vr_T = cp.array ([temp])\n",
        "        for _ in range (500):\n",
        "            update_red[bpg, self.tpb] (self.spin2, self.seed, vr_T)\n",
        "            update_blue[bpg, self.tpb] (self.spin2, self.seed, vr_T)\n",
        "            update_green[bpg, self.tpb] (self.spin2, self.seed, vr_T)\n",
        "        calc_energy_Tri[1, self.m//2](self.spin2, self.energy2)\n",
        "        order = cp.asnumpy(cp.argsort (self.energy2))\n",
        "        return cp.asnumpy(self.spin2)[...,order]\n",
        "    \n",
        "    def generate_train_data (self, train_len=2000):\n",
        "        t_lattice = []\n",
        "        t_label = []\n",
        "        for _ in range (train_len//2):\n",
        "            t_lattice.append (self.equilib_EA())\n",
        "            t_label.append (0)\n",
        "        for _ in range (train_len//2):\n",
        "            t_lattice.append (self.equilib_TriAFM())\n",
        "            t_label.append (1)\n",
        "        t_lattice = (0.5*np.stack (t_lattice)).astype (np.float32)\n",
        "        t_label = np.stack (t_label).astype (np.int8)\n",
        "        t_data = tf.data.Dataset.from_tensor_slices ((t_lattice, t_label))\n",
        "        return t_data.shuffle (buffer_size=train_len)"
      ],
      "execution_count": null,
      "outputs": []
    },
    {
      "cell_type": "markdown",
      "metadata": {
        "id": "L1HS6bAqWBTY",
        "colab_type": "text"
      },
      "source": [
        "### Data generation"
      ]
    },
    {
      "cell_type": "code",
      "metadata": {
        "id": "Yyob6wX7VjKi",
        "colab_type": "code",
        "colab": {}
      },
      "source": [
        "simulator = SpinGlassData ()"
      ],
      "execution_count": null,
      "outputs": []
    },
    {
      "cell_type": "code",
      "metadata": {
        "id": "zgHC9wPlVrt3",
        "colab_type": "code",
        "colab": {}
      },
      "source": [
        "train_data = simulator.generate_train_data (500)\n",
        "output.eval_js('new Audio(\"https://upload.wikimedia.org/wikipedia/commons/0/05/Beep-09.ogg\").play()')"
      ],
      "execution_count": null,
      "outputs": []
    },
    {
      "cell_type": "markdown",
      "metadata": {
        "id": "VjRpYu36LGbL",
        "colab_type": "text"
      },
      "source": [
        "### Saving and Loading Data"
      ]
    },
    {
      "cell_type": "code",
      "metadata": {
        "id": "TvCUeQPamTYr",
        "colab_type": "code",
        "colab": {}
      },
      "source": [
        "def save_dataset (num, train_data):\n",
        "    def serialize_example(lattice, label):\n",
        "        \"\"\"\n",
        "        Creates a tf.train.Example message ready to be written to a file.\n",
        "        \"\"\"\n",
        "\n",
        "        def _bytes_feature(value):\n",
        "            \"\"\"Returns a bytes_list from a string / byte.\"\"\"\n",
        "            #value = tf.io.serialize_tensor(value)\n",
        "            if isinstance(value, type(tf.constant(0))):\n",
        "                value = tf.io.serialize_tensor(value).numpy()\n",
        "            return tf.train.Feature(bytes_list=tf.train.BytesList(value=[value]))\n",
        "\n",
        "        def _int64_feature(value):\n",
        "            \"\"\"Returns an int64_list from a bool / enum / int / uint.\"\"\"\n",
        "            return tf.train.Feature(int64_list=tf.train.Int64List(value=[value]))\n",
        "\n",
        "        # Create a dictionary mapping the feature name to the tf.train.Example-compatible\n",
        "        # data type.\n",
        "        feat = { \n",
        "            'lattice': _bytes_feature(lattice),\n",
        "            'label': _int64_feature(label),\n",
        "        }\n",
        "        # Create a Features message using tf.train.Example.\n",
        "        example_proto = tf.train.Example(features=tf.train.Features(feature=feat))\n",
        "        return tf.reshape(example_proto.SerializeToString(),())\n",
        "\n",
        "    def tf_serialize_example(lattice,label):\n",
        "        tf_string = tf.py_function(\n",
        "            serialize_example,\n",
        "            (lattice,label),  # pass these args to the above function.\n",
        "            tf.string)      # the return type is `tf.string`.\n",
        "        return tf.reshape(tf_string, ()) # The result is a scalar\n",
        "\n",
        "\n",
        "    serialised_dataset = train_data.map (tf_serialize_example)\n",
        "\n",
        "    filename = folder_path+'Training Data/EA_TriAFM2d_48_500('+num+').tfrecord'\n",
        "    writer = tf.data.experimental.TFRecordWriter(filename)\n",
        "    writer.write(serialised_dataset)\n",
        "\n",
        "save_dataset ('4',train_data)"
      ],
      "execution_count": null,
      "outputs": []
    },
    {
      "cell_type": "code",
      "metadata": {
        "id": "ZNBrhObbMPQd",
        "colab_type": "code",
        "colab": {}
      },
      "source": [
        "def extract_dataset (num):\n",
        "    filename = folder_path+'Training Data/EA_TriAFM2d_48_500('+num+').tfrecord'\n",
        "    raw_dataset = tf.data.TFRecordDataset(filename)\n",
        "\n",
        "    def _parse_function(example_proto):\n",
        "        # Parse the input `tf.train.Example` proto using the dictionary below.\n",
        "        feature_description = { \n",
        "            'lattice': tf.io.FixedLenFeature([], tf.string, default_value=''),\n",
        "            'label': tf.io.FixedLenFeature([], tf.int64, default_value=0),\n",
        "        }\n",
        "        return tf.io.parse_single_example(example_proto, feature_description)\n",
        "\n",
        "    parsed_dataset = raw_dataset.map(_parse_function)\n",
        "\n",
        "    def lat_parser (record):\n",
        "        record = (tf.ensure_shape (tf.io.parse_tensor(record['lattice'],tf.float32),\n",
        "                                   simulator.shape+(simulator.m//2,)),\n",
        "                  record['label'])\n",
        "        return record\n",
        "    dataset = parsed_dataset.map (lat_parser)\n",
        "    return dataset\n",
        "\n",
        "train_data = extract_dataset ('1')\n",
        "train_data = train_data.concatenate(extract_dataset ('2'))\n",
        "train_data = train_data.concatenate(extract_dataset ('3'))\n",
        "train_data = train_data.concatenate(extract_dataset ('4'))"
      ],
      "execution_count": null,
      "outputs": []
    },
    {
      "cell_type": "code",
      "metadata": {
        "id": "3Vw9FrEQSQrG",
        "colab_type": "code",
        "colab": {}
      },
      "source": [
        "val_data = train_data.take (400)\n",
        "train_data = train_data.skip (400)\n",
        "train_data = train_data.batch (8)\n",
        "val_data = val_data.batch (8)"
      ],
      "execution_count": null,
      "outputs": []
    },
    {
      "cell_type": "markdown",
      "metadata": {
        "id": "wvnfrOxJZkb3",
        "colab_type": "text"
      },
      "source": [
        "## Neural network initialization and training"
      ]
    },
    {
      "cell_type": "code",
      "metadata": {
        "id": "ttE9H7djGwsy",
        "colab_type": "code",
        "colab": {}
      },
      "source": [
        "brain = tfk. Sequential([\n",
        "    tfk.layers.Conv2D(64, (2,2), activation='relu', input_shape = simulator.shape+(simulator.m//2,)),\n",
        "    tfk.layers.MaxPool2D (),\n",
        "    tfk.layers.Conv2D(64, (2,2), activation='relu'),\n",
        "    tfk.layers.Flatten(),\n",
        "    tfk.layers.Dense(64, activation='relu'),\n",
        "    tfk.layers.Dropout(0.3),\n",
        "    tfk.layers.Dense(2, activation='softmax')\n",
        "])"
      ],
      "execution_count": null,
      "outputs": []
    },
    {
      "cell_type": "code",
      "metadata": {
        "id": "UGBqCfoMador",
        "colab_type": "code",
        "colab": {}
      },
      "source": [
        "brain.compile(optimizer='adam',\n",
        "              loss='sparse_categorical_crossentropy',\n",
        "              metrics=['accuracy'])"
      ],
      "execution_count": null,
      "outputs": []
    },
    {
      "cell_type": "code",
      "metadata": {
        "id": "YgOnaiDKapag",
        "colab_type": "code",
        "colab": {
          "base_uri": "https://localhost:8080/",
          "height": 56
        },
        "outputId": "e7460823-b670-401f-8840-bef8fafbcbd2"
      },
      "source": [
        "hist = brain.fit (train_data, epochs=1, validation_data=val_data)"
      ],
      "execution_count": null,
      "outputs": [
        {
          "output_type": "stream",
          "text": [
            "200/200 [==============================] - 3s 14ms/step - loss: 0.5319 - accuracy: 0.7375 - val_loss: 0.0849 - val_accuracy: 1.0000\n"
          ],
          "name": "stdout"
        }
      ]
    },
    {
      "cell_type": "code",
      "metadata": {
        "id": "blAN7Fo0lC7o",
        "colab_type": "code",
        "colab": {}
      },
      "source": [
        "brain.save(folder_path+'NN Models/EA_TriAFM2d_48.h5')"
      ],
      "execution_count": null,
      "outputs": []
    },
    {
      "cell_type": "markdown",
      "metadata": {
        "id": "eqUwFBjjkYu4",
        "colab_type": "text"
      },
      "source": [
        "Testing neural network accuracy"
      ]
    },
    {
      "cell_type": "code",
      "metadata": {
        "id": "EvCsVILia7kE",
        "colab_type": "code",
        "colab": {}
      },
      "source": [
        "test_data = simulator.generate_train_data (200)\n",
        "output.eval_js('new Audio(\"https://upload.wikimedia.org/wikipedia/commons/0/05/Beep-09.ogg\").play()')"
      ],
      "execution_count": null,
      "outputs": []
    },
    {
      "cell_type": "code",
      "metadata": {
        "id": "4RFwb4oakYDw",
        "colab_type": "code",
        "colab": {
          "base_uri": "https://localhost:8080/",
          "height": 55
        },
        "outputId": "5ded0b3c-7c06-4958-b059-ffb5869f6db2"
      },
      "source": [
        "test_data = test_data.batch (8)\n",
        "brain.evaluate (test_data)"
      ],
      "execution_count": null,
      "outputs": [
        {
          "output_type": "stream",
          "text": [
            "25/25 [==============================] - 0s 4ms/step - loss: 0.0914 - accuracy: 1.0000\n"
          ],
          "name": "stdout"
        },
        {
          "output_type": "execute_result",
          "data": {
            "text/plain": [
              "[0.09139034152030945, 1.0]"
            ]
          },
          "metadata": {
            "tags": []
          },
          "execution_count": 77
        }
      ]
    },
    {
      "cell_type": "markdown",
      "metadata": {
        "id": "9IjeFGnw9NzM",
        "colab_type": "text"
      },
      "source": [
        "We have managed to train a neural network that can classify cold phases of Square Edwards Anderson and Triangular antiferromagnetic models with 100% accuracy..."
      ]
    }
  ]
}
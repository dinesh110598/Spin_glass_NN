{
  "nbformat": 4,
  "nbformat_minor": 0,
  "metadata": {
    "colab": {
      "name": "Project_test.ipynb",
      "provenance": [],
      "collapsed_sections": [],
      "toc_visible": true,
      "authorship_tag": "ABX9TyNzd1ZTCBD5nxHbCgev1mQI",
      "include_colab_link": true
    },
    "kernelspec": {
      "name": "python3",
      "display_name": "Python 3"
    },
    "accelerator": "GPU"
  },
  "cells": [
    {
      "cell_type": "markdown",
      "metadata": {
        "id": "view-in-github",
        "colab_type": "text"
      },
      "source": [
        "<a href=\"https://colab.research.google.com/github/dinesh110598/Spin_glass_NN/blob/master/main.ipynb\" target=\"_parent\"><img src=\"https://colab.research.google.com/assets/colab-badge.svg\" alt=\"Open In Colab\"/></a>"
      ]
    },
    {
      "cell_type": "markdown",
      "metadata": {
        "id": "iQhZYriE8H06"
      },
      "source": [
        "# Classifying ensembles of spin glasses"
      ]
    },
    {
      "cell_type": "markdown",
      "metadata": {
        "id": "2sMPP9Sh5jQD"
      },
      "source": [
        "New notebook to test cuda code"
      ]
    },
    {
      "cell_type": "code",
      "metadata": {
        "id": "PD4U2s6V1zAQ"
      },
      "source": [
        "import numpy as np\n",
        "import math\n",
        "from numba import cuda,float32,int32\n",
        "import pandas as pd\n",
        "import matplotlib.pyplot as plt\n",
        "import tensorflow as tf\n",
        "import tensorflow.keras as tfk\n",
        "import cupy as cp"
      ],
      "execution_count": null,
      "outputs": []
    },
    {
      "cell_type": "code",
      "metadata": {
        "colab": {
          "base_uri": "https://localhost:8080/"
        },
        "id": "QHduM28qSqpk",
        "outputId": "3a5a8336-48ac-4e6b-86ce-5238fe35a558"
      },
      "source": [
        "from google.colab import drive\n",
        "from google.colab import output\n",
        "drive.mount('/content/drive', force_remount=True)\n",
        "folder_path = \"/content/drive/My Drive/Project Presentations/Spin_glass_phase_classification/\""
      ],
      "execution_count": null,
      "outputs": [
        {
          "output_type": "stream",
          "text": [
            "Mounted at /content/drive\n"
          ],
          "name": "stdout"
        }
      ]
    },
    {
      "cell_type": "markdown",
      "metadata": {
        "id": "4rCcB3p-_s1W"
      },
      "source": [
        "### Kernels and Simulator class"
      ]
    },
    {
      "cell_type": "code",
      "metadata": {
        "id": "nhuE_eo9lFVg"
      },
      "source": [
        "@cuda.jit\n",
        "def ising_couplings (J_nn):\n",
        "    x,y = cuda.grid(2)\n",
        "    J_nn [x,y,0] = float32 (1)\n",
        "    J_nn [x,y,1] = float32 (1)\n",
        "\n",
        "@cuda.jit\n",
        "def gaussian_couplings (seed, J_nn):\n",
        "    x, y = cuda.grid (2)\n",
        "    #scale = float32(1.73205)\n",
        "    while True:\n",
        "        seed[x, y, 0] = np.int32((seed[x, y, 0]*1664525 + 1013904223) % 2**31)\n",
        "        seed[x, y, 1] = np.int32((seed[x, y, 1]*1664525 + 1013904223) % 2**31)\n",
        "        u = float32(seed[x, y, 0]/2**30 - 1)\n",
        "        v = float32(seed[x, y, 1]/2**30 - 1)\n",
        "        s = u**2 + v**2\n",
        "        if s>0 and s<1:\n",
        "            break\n",
        "\n",
        "    arg = math.sqrt (-2*math.log(s)/s)\n",
        "    J_nn [x,y,0] = -u*arg\n",
        "    J_nn [x,y,1] = -v*arg\n",
        "\n",
        "@cuda.jit\n",
        "def bimodal_couplings (seed, J_nn):\n",
        "    x, y = cuda.grid (2)\n",
        "    seed[x, y, 0] = np.int32((seed[x, y, 0]*1664525 + 1013904223) % 2**31)\n",
        "    seed[x, y, 1] = np.int32((seed[x, y, 1]*1664525 + 1013904223) % 2**31)\n",
        "    \n",
        "    J_nn[x,y,0] = -1. if (seed[x,y,0]/2**31)<0.5 else 1.\n",
        "    J_nn[x,y,1] = -1. if (seed[x,y,1]/2**31)<0.5 else 1.\n",
        "\n",
        "@cuda.jit\n",
        "def update_black (spin, seed, B, Jnn):\n",
        "    def random_uniform(x, y, z):\n",
        "        seed[x, y, z] = np.int32((seed[x, y, z]*1664525 + 1013904223) % 2**31)\n",
        "        return seed[x, y, z] / (2**31)\n",
        "\n",
        "    def bvc(x):\n",
        "        if x == spin.shape[0]:\n",
        "            return 0\n",
        "        else:\n",
        "            return x\n",
        "\n",
        "    def sum_nn(x, y, z):\n",
        "        sum = 0\n",
        "        sum += Jnn[x,y,0]*spin[bvc(x+1),y,z]\n",
        "        sum += Jnn[x,y,1]*spin[x,bvc(y+1),z]\n",
        "        sum += Jnn[x-1,y,0]*spin[x-1,y,z]\n",
        "        sum += Jnn[x,y-1,1]*spin[x,y-1,z]\n",
        "        return sum\n",
        "    \n",
        "    def calc(x, y, z):\n",
        "        probs = random_uniform(x, y, z)\n",
        "        delta = 2*spin[x,y,z]*sum_nn(x,y,z)\n",
        "        if probs < math.exp(-delta*B[z]):\n",
        "            spin[x, y, z] *= np.int8(-1)\n",
        "            #energy[z] += delta\n",
        "\n",
        "    x, y, z = cuda.grid(3)\n",
        "    p, q = x%2, y%2\n",
        "    if x<spin.shape[0] and y<spin.shape[1] and z<spin.shape[2]:\n",
        "        if (p==0 and q==0) or (p==1 and q==1):\n",
        "            calc (x, y, z)\n",
        "\n",
        "@cuda.jit\n",
        "def update_white(spin, seed, B, Jnn):\n",
        "    def random_uniform(x, y, z):\n",
        "        seed[x, y, z] = np.int32((seed[x, y, z]*1664525 + 1013904223) % 2**31)\n",
        "        return seed[x, y, z] / (2**31)\n",
        "\n",
        "    def bvc(x):\n",
        "        if x == spin.shape[0]:\n",
        "            return 0\n",
        "        else:\n",
        "            return x\n",
        "\n",
        "    def sum_nn(x, y, z):\n",
        "        sum = 0\n",
        "        sum += Jnn[x,y,0]*spin[bvc(x+1),y,z]\n",
        "        sum += Jnn[x,y,1]*spin[x,bvc(y+1),z]\n",
        "        sum += Jnn[x-1,y,0]*spin[x-1,y,z]\n",
        "        sum += Jnn[x,y-1,1]*spin[x,y-1,z]\n",
        "        return sum\n",
        "\n",
        "    def calc(x, y, z):\n",
        "        probs = random_uniform(x, y, z)\n",
        "        delta = 2*spin[x,y,z]*sum_nn(x,y,z)\n",
        "        if probs < math.exp(-delta*B[z]):\n",
        "            spin[x, y, z] *= np.int8(-1)\n",
        "            #energy[z] += delta\n",
        "\n",
        "    x, y, z = cuda.grid(3)\n",
        "    p, q = x % 2, y % 2\n",
        "    if x < spin.shape[0] and y < spin.shape[1] and z < spin.shape[2]:\n",
        "        if (p == 1 and q == 0) or (p == 0 and q == 1):\n",
        "            calc(x, y, z)\n",
        "\n",
        "@cuda.jit\n",
        "def parallel_temper (spin, B, J_nn, seed, energy):\n",
        "    z = cuda.grid(1)\n",
        "    tid = cuda.threadIdx.x\n",
        "    m_ = spin.shape [2]\n",
        "    rand_n = seed[0, 0, tid] % (m_-1) #Returns a number in [0,m_-2]\n",
        "\n",
        "    #We don't want two threads doing the swapping!\n",
        "    val0 = B[rand_n]\n",
        "    val1 = B[rand_n+1]\n",
        "    e0 = energy[rand_n]\n",
        "    e1 = energy[rand_n+1]\n",
        "    rand_unif = np.float32 (seed[0,1,tid] / 2**31)\n",
        "    arg = (e0 - e1)*(val0 - val1)\n",
        "    if (arg < 0):\n",
        "        if rand_unif < math.exp (arg):\n",
        "            B[rand_n] = val1\n",
        "            B[rand_n+1] = val0\n",
        "    else:\n",
        "        B[rand_n] = val1\n",
        "        B[rand_n+1] = val0\n",
        "\n",
        "@cuda.jit\n",
        "def parallel_temper2(spin, B, J_nn, seed, energy):\n",
        "    z = cuda.grid(1)\n",
        "\n",
        "    rand_n = 0 if float32(seed[0, 0, 0]/2**31) < 0.5 else 1\n",
        "    ptr = 2*z + rand_n\n",
        "    if ptr < spin.shape[2]-1:\n",
        "        val0 = B[ptr]\n",
        "        val1 = B[ptr+1]\n",
        "        e0 = energy[ptr]\n",
        "        e1 = energy[ptr+1]\n",
        "        rand_unif = float32(seed[0, 1, z] / 2**31)\n",
        "        arg = (e0 - e1)*(val0 - val1)\n",
        "        if (arg < 0):\n",
        "            if rand_unif < math.exp(arg):\n",
        "                B[ptr] = val1\n",
        "                B[ptr+1] = val0\n",
        "        else:\n",
        "            B[ptr] = val1\n",
        "            B[ptr+1] = val0\n",
        "\n",
        "@cuda.jit\n",
        "def calc_energy (spin, J_nn, energy): #m_ threads on a single block...\n",
        "    def bvc(x):\n",
        "        if x == spin.shape[0]:\n",
        "            return 0\n",
        "        else:\n",
        "            return x\n",
        "\n",
        "    z = cuda.grid (1)\n",
        "    len_ = spin.shape[0]\n",
        "    ener = 0\n",
        "    for x in range(len_):\n",
        "        for y in range(len_):\n",
        "            ener -= J_nn[x,y,0] * spin[x,y,z]*spin[bvc(x+1),y,z]\n",
        "            ener -= J_nn[x,y,1] * spin[x,y,z]*spin[x,bvc(y+1),z]\n",
        "\n",
        "    energy[z] = ener"
      ],
      "execution_count": null,
      "outputs": []
    },
    {
      "cell_type": "code",
      "metadata": {
        "id": "Xi0UJc1JlPNm"
      },
      "source": [
        "class GPUsimulator():\n",
        "    def __init__(self,lat_len, ens_size):\n",
        "        self.shape = (lat_len, lat_len)\n",
        "        self.m = ens_size\n",
        "        self.tpb = (8, 8, 1)\n",
        "        self.bpg = (math.ceil(lat_len/self.tpb[0]), math.ceil(lat_len/self.tpb[1]), self.m)\n",
        "        #spin = (2*np.random.randint (0,2,self.shape+(self.m,))-1).astype(np.int8)\n",
        "        #spin = np.ones (self.shape+(self.m,), np.int8)\n",
        "        self.vr_spin = cp.random.choice ([-1,-1],self.shape+(self.m,)).astype(np.int8)\n",
        "        seed = np.random.randint(0, 2**30, size=self.shape+(self.m,), dtype=np.int32)\n",
        "        self.vr_seed = cuda.to_device(seed)\n",
        "        self.Jnn_vr = cp.random.normal (size=(self.shape+(2,)), dtype=np.float32)\n",
        "        self.vr_energy = cuda.device_array (self.m, dtype=np.float32)\n",
        "\n",
        "    def equilib_cold(self,temp): #Test the parallel_tamper kernel\n",
        "        \"\"\"Yields a thermalised ensemble of EA systems with parallel tempering\"\"\"\n",
        "        #bimodal_couplings[self.bpg[:2], self.tpb[:2]] (self.vr_seed, self.Jnn_vr)\n",
        "        #B = np.linspace (0.6, 2.0, self.m)\n",
        "        vr_beta = cp.linspace (0.6, 2.0, self.m)\n",
        "        for _ in range (5000):\n",
        "            for _ in range (2):\n",
        "                update_black[self.bpg, self.tpb](self.vr_spin, self.vr_seed, \n",
        "                                                vr_beta, self.Jnn_vr)\n",
        "                update_white[self.bpg, self.tpb](self.vr_spin, self.vr_seed, \n",
        "                                                vr_beta, self.Jnn_vr)\n",
        "            calc_energy[1, self.m](self.vr_spin, self.Jnn_vr, self.vr_energy)            \n",
        "            #parallel_temper[(1,), (8,)] (self.vr_spin,vr_beta,self.Jnn_vr,\n",
        "                                          #self.vr_seed, self.vr_energy)\n",
        "            parallel_temper2[1, self.m//2](self.vr_spin,vr_beta,self.Jnn_vr,\n",
        "                                          self.vr_seed, self.vr_energy)\n",
        "        vr_beta = cp.full ((self.m,), 2.)\n",
        "\n",
        "        calc_energy[(1,), (self.m,)](self.vr_spin, self.Jnn_vr, self.vr_energy)\n",
        "        spin = cp.asnumpy (self.vr_spin)\n",
        "        energy = self.vr_energy.copy_to_host()\n",
        "        order = np.argsort(energy)\n",
        "        output = spin[...,order]\n",
        "        avgs = output[0,0,:]\n",
        "        output =  np.multiply (output, avgs)\n",
        "        return output [...,:self.m//2]\n",
        "\n",
        "    def equilib_hot (self, temp):\n",
        "        \"\"\"Yields thermalised ensemble of ferromagnetic Ising Model\"\"\"\n",
        "        #bimodal_couplings[self.bpg[:2], self.tpb[:2]] (self.vr_seed, self.Jnn_vr)\n",
        "        B = (1./temp) * np.ones (self.m, np.float32)\n",
        "        vr_beta = cuda.to_device(B)\n",
        "        calc_energy[(1,), (self.m,)](self.vr_spin, self.Jnn_vr, self.vr_energy)\n",
        "        for _ in range (20000):\n",
        "            update_black[self.bpg, self.tpb](self.vr_spin, self.vr_seed, \n",
        "                                             vr_beta, self.Jnn_vr)\n",
        "            update_white[self.bpg, self.tpb](self.vr_spin, self.vr_seed,\n",
        "                                             vr_beta, self.Jnn_vr)\n",
        "        spin = cp.asnumpy(self.vr_spin)\n",
        "        calc_energy[(1,), (self.m,)](self.vr_spin, self.Jnn_vr, self.vr_energy)\n",
        "        energy = self.vr_energy.copy_to_host()\n",
        "        avgs = spin[0,0,:]\n",
        "        output =  np.multiply (spin, (2*(avgs > 0).astype(np.int8) - 1))\n",
        "        return np.sort(energy)#output\n",
        "\n",
        "    def generate_train_data(self, train_len, T_c=1.3):\n",
        "        \"\"\"Outputs numpy array containing train data with labels\"\"\"\n",
        "        assert (train_len%2 == 0), \"train_len must be even\"\n",
        "        t_lattice = []\n",
        "        t_label = []\n",
        "        for _ in range(train_len):\n",
        "            dice = np.random.randint(0, 1+1)\n",
        "            if dice == 1:\n",
        "                t_lattice.append(self.equilib_hot(0.5).astype(np.float32))\n",
        "                t_label.append(np.int32(1))\n",
        "            else:\n",
        "                t_lattice.append(self.equilib_hot(2.0).astype(np.float32))\n",
        "                t_label.append(np.int32(0))\n",
        "        return np.stack(t_lattice), np.stack(t_label)\n",
        "\n",
        "    def generate_cold_data (self, train_len):\n",
        "        t_lattice = []\n",
        "        for _ in range((2*train_len)//self.m):\n",
        "            t_lattice.append (self.equilib_cold(0.5).astype(np.float32))\n",
        "        t_lattice = np.concatenate (t_lattice, axis=-1)\n",
        "        return np.moveaxis (t_lattice, -1, 0)\n",
        "\n",
        "\n",
        "    def neural_data(self, low, high, step, brain):\n",
        "        avg_size = 20\n",
        "        train_len = math.ceil(((high - low) / step))\n",
        "        # Denotes size of train_lattice\n",
        "        t_lattice = []\n",
        "        temp = np.float32(low)\n",
        "        for _ in range(train_len):\n",
        "            for _ in range(avg_size):\n",
        "                t_lattice.append(self.equilib(temp).astype(np.float32))\n",
        "            temp += np.float32(step)\n",
        "        t_lattice = np.stack (t_lattice)\n",
        "\n",
        "        predictions = brain.predict(t_lattice)\n",
        "\n",
        "        datax = np.empty(train_len, np.float32)\n",
        "        datay = np.empty(train_len, np.float32)\n",
        "        dummy = np.empty(avg_size, np.float32)\n",
        "        temp = np.float32(low)\n",
        "        for i in range(train_len):\n",
        "            datax[i] = temp\n",
        "            for j in range (avg_size):\n",
        "                dummy[j] = predictions [i*avg_size + j][1]\n",
        "            datay[i] = np.mean (dummy)\n",
        "            temp += step\n",
        "        _, ax = plt.subplots()\n",
        "        ax.plot(datax, datay, 'r-', linewidth=2)\n",
        "        ax.grid()\n",
        "        plt.show()"
      ],
      "execution_count": null,
      "outputs": []
    },
    {
      "cell_type": "markdown",
      "metadata": {
        "id": "CFo6tTSWAIxm"
      },
      "source": [
        "### Data preparation"
      ]
    },
    {
      "cell_type": "code",
      "metadata": {
        "id": "w_5Lc2Tp5brU"
      },
      "source": [
        "simulator = GPUsimulator (20,200)\n",
        "np.save(folder_path+'Coupling_constants/NADE_couplings.npy',cp.asnumpy(simulator.Jnn_vr))"
      ],
      "execution_count": null,
      "outputs": []
    },
    {
      "cell_type": "code",
      "metadata": {
        "id": "YMCmPGC86Spb",
        "colab": {
          "base_uri": "https://localhost:8080/"
        },
        "outputId": "b9cc6249-e2cc-43c1-c7f6-e3e24a5c3af5"
      },
      "source": [
        "simulator.equilib_cold (0.5)"
      ],
      "execution_count": null,
      "outputs": [
        {
          "output_type": "execute_result",
          "data": {
            "text/plain": [
              "array([[[ 1,  1,  1, ...,  1,  1,  1],\n",
              "        [ 1, -1,  1, ...,  1,  1, -1],\n",
              "        [-1, -1, -1, ..., -1, -1,  1],\n",
              "        ...,\n",
              "        [ 1,  1,  1, ...,  1,  1,  1],\n",
              "        [-1, -1, -1, ..., -1, -1, -1],\n",
              "        [ 1,  1,  1, ...,  1,  1,  1]],\n",
              "\n",
              "       [[ 1,  1,  1, ...,  1,  1,  1],\n",
              "        [-1, -1, -1, ..., -1,  1, -1],\n",
              "        [ 1,  1,  1, ...,  1, -1,  1],\n",
              "        ...,\n",
              "        [ 1,  1,  1, ...,  1,  1,  1],\n",
              "        [-1, -1, -1, ..., -1, -1, -1],\n",
              "        [ 1,  1,  1, ...,  1,  1,  1]],\n",
              "\n",
              "       [[-1, -1, -1, ..., -1, -1, -1],\n",
              "        [-1, -1, -1, ..., -1,  1, -1],\n",
              "        [-1, -1, -1, ..., -1,  1, -1],\n",
              "        ...,\n",
              "        [-1, -1, -1, ..., -1, -1, -1],\n",
              "        [-1, -1, -1, ..., -1, -1, -1],\n",
              "        [ 1,  1,  1, ...,  1,  1,  1]],\n",
              "\n",
              "       ...,\n",
              "\n",
              "       [[-1, -1, -1, ...,  1, -1,  1],\n",
              "        [ 1,  1,  1, ..., -1,  1, -1],\n",
              "        [-1, -1, -1, ...,  1, -1,  1],\n",
              "        ...,\n",
              "        [-1, -1, -1, ..., -1, -1, -1],\n",
              "        [ 1,  1,  1, ..., -1,  1,  1],\n",
              "        [ 1,  1,  1, ..., -1,  1,  1]],\n",
              "\n",
              "       [[-1,  1,  1, ..., -1, -1, -1],\n",
              "        [-1,  1,  1, ..., -1, -1, -1],\n",
              "        [-1,  1,  1, ...,  1, -1, -1],\n",
              "        ...,\n",
              "        [ 1, -1, -1, ..., -1, -1, -1],\n",
              "        [ 1,  1,  1, ...,  1,  1,  1],\n",
              "        [ 1,  1,  1, ..., -1,  1,  1]],\n",
              "\n",
              "       [[-1, -1, -1, ..., -1, -1, -1],\n",
              "        [ 1, -1,  1, ...,  1,  1, -1],\n",
              "        [ 1, -1, -1, ..., -1,  1,  1],\n",
              "        ...,\n",
              "        [-1, -1, -1, ..., -1, -1, -1],\n",
              "        [ 1,  1,  1, ...,  1,  1,  1],\n",
              "        [ 1,  1,  1, ...,  1,  1,  1]]], dtype=int8)"
            ]
          },
          "metadata": {
            "tags": []
          },
          "execution_count": 66
        }
      ]
    },
    {
      "cell_type": "code",
      "metadata": {
        "id": "EMA4tNOw6XEk"
      },
      "source": [
        "simulator.equilib_hot (0.5)/400"
      ],
      "execution_count": null,
      "outputs": []
    },
    {
      "cell_type": "code",
      "metadata": {
        "id": "K40VPX62SVsd"
      },
      "source": [
        "t_lattice = simulator.generate_cold_data (10000)\n",
        "output.eval_js('new Audio(\"https://upload.wikimedia.org/wikipedia/commons/0/05/Beep-09.ogg\").play()')"
      ],
      "execution_count": null,
      "outputs": []
    },
    {
      "cell_type": "code",
      "metadata": {
        "id": "vc909PSHK9Nr"
      },
      "source": [
        "np.save (folder_path+'Training Data/NADEdata2.npy', t_lattice)"
      ],
      "execution_count": null,
      "outputs": []
    },
    {
      "cell_type": "code",
      "metadata": {
        "colab": {
          "base_uri": "https://localhost:8080/"
        },
        "id": "U4uZO51h0_J0",
        "outputId": "fd326cce-38ac-4994-c203-34a38c5de3ad"
      },
      "source": [
        "t_lattice.shape"
      ],
      "execution_count": null,
      "outputs": [
        {
          "output_type": "execute_result",
          "data": {
            "text/plain": [
              "(10000, 20, 20)"
            ]
          },
          "metadata": {
            "tags": []
          },
          "execution_count": 72
        }
      ]
    },
    {
      "cell_type": "code",
      "metadata": {
        "id": "SUm46HVW6hX8",
        "colab": {
          "base_uri": "https://localhost:8080/"
        },
        "outputId": "4369e7b7-d0d1-41d4-8356-55fc57be7540"
      },
      "source": [
        "!nvidia-smi -L"
      ],
      "execution_count": null,
      "outputs": [
        {
          "output_type": "stream",
          "text": [
            "GPU 0: Tesla P100-PCIE-16GB (UUID: GPU-62f0c3ae-7a5b-4d9b-5d45-10baa93c25e7)\n"
          ],
          "name": "stdout"
        }
      ]
    },
    {
      "cell_type": "code",
      "metadata": {
        "id": "AdIeo_1nhUYG"
      },
      "source": [
        "#Very long runtime expected...\n",
        "train_len = 20\n",
        "train_lattice, train_label = simulator.generate_train_data (train_len)"
      ],
      "execution_count": null,
      "outputs": []
    },
    {
      "cell_type": "code",
      "metadata": {
        "id": "yhTb6T4pXZhm",
        "colab": {
          "base_uri": "https://localhost:8080/",
          "height": 54
        },
        "outputId": "2cbe8dd5-f80b-4ee4-9205-8e5b73e14678"
      },
      "source": [
        "train_label"
      ],
      "execution_count": null,
      "outputs": [
        {
          "output_type": "execute_result",
          "data": {
            "text/plain": [
              "array([1, 1, 0, 0, 1, 0, 1, 0, 1, 1, 1, 1, 0, 0, 0, 0, 1, 0, 1, 0],\n",
              "      dtype=int32)"
            ]
          },
          "metadata": {
            "tags": []
          },
          "execution_count": 7
        }
      ]
    },
    {
      "cell_type": "code",
      "metadata": {
        "id": "WfTEM0QuCYIA"
      },
      "source": [
        "train_path = '/content/drive/My Drive/Project Presentations/Spin_glass_phase_classification/Training Data'\n",
        "np.save (train_path+'/SqEA2k_48_40_lattice.npy',train_lattice)\n",
        "np.save (train_path+'/SqEA2k_48_40_label.npy',train_label)"
      ],
      "execution_count": null,
      "outputs": []
    },
    {
      "cell_type": "code",
      "metadata": {
        "id": "JLNwK5WpDmLe"
      },
      "source": [
        "def __serialize (self, feature1, labels):\n",
        "        def _int64_feature(value):\n",
        "        \"\"\"Returns an int64_list from a bool / enum / int / uint.\"\"\"\n",
        "        return tf.train.Feature(int64_list=tf.train.Int64List(value=[value]))\n",
        "\n",
        "        def _bytes_feature(value):\n",
        "            \"\"\"Returns a bytes_list from a string / byte.\"\"\"\n",
        "            if isinstance(value, type(tf.constant(0))):\n",
        "                value = value.numpy() \n",
        "            return tf.train.Feature(bytes_list=tf.train.BytesList(value=[value]))\n",
        "        \"\"\"\n",
        "        Creates a tf.train.Example message ready to be written to a file.\n",
        "        \"\"\"\n",
        "        # Create a dictionary mapping the feature name to the tf.train.Example-compatible\n",
        "        # data type.\n",
        "        feature = {\n",
        "            'lattices': _bytes_feature(tf.io.serialize_tensor(feature1)),\n",
        "            'labels': _int64_feature(labels),\n",
        "        }\n",
        "\n",
        "        # Create a Features message using tf.train.Example.\n",
        "\n",
        "        example_proto = tf.train.Example(features=tf.train.Features(feature=feature))\n",
        "        return example_proto.SerializeToString()"
      ],
      "execution_count": null,
      "outputs": []
    },
    {
      "cell_type": "markdown",
      "metadata": {
        "id": "lpOms04e8TnA"
      },
      "source": [
        "# Classifying individual lattices with fixed coupling constants"
      ]
    },
    {
      "cell_type": "markdown",
      "metadata": {
        "id": "tA-X_obr8irp"
      },
      "source": [
        "We first draw a set of coupling constants for a lattice of fixed size from a desired distribution. Then, simulate individual lattices using parallel tempering and train in cold and hot temperatures using a CNN to see if there's a sharp change in the effective \"phase parameter\"... "
      ]
    },
    {
      "cell_type": "code",
      "metadata": {
        "id": "uiJVi2V48gXZ"
      },
      "source": [
        "import numpy as np\n",
        "import math\n",
        "from numba import cuda, float32, int32\n",
        "import tensorflow.keras as tfk\n",
        "import tensorflow as tf\n",
        "import cupy as cp\n",
        "import matplotlib.pyplot as plt"
      ],
      "execution_count": null,
      "outputs": []
    },
    {
      "cell_type": "code",
      "metadata": {
        "id": "ze70LQvPKJpJ",
        "colab": {
          "base_uri": "https://localhost:8080/"
        },
        "outputId": "a1b1efee-e9dc-4e64-bd73-9553db59a7a4"
      },
      "source": [
        "from google.colab import drive\n",
        "from google.colab import output\n",
        "drive.mount('/content/drive', force_remount=True)\n",
        "folder_path = \"/content/drive/My Drive/Project Presentations/Spin_glass_phase_classification/\""
      ],
      "execution_count": null,
      "outputs": [
        {
          "output_type": "stream",
          "text": [
            "Mounted at /content/drive\n"
          ],
          "name": "stdout"
        }
      ]
    },
    {
      "cell_type": "markdown",
      "metadata": {
        "id": "hEBGhvqfJMUd"
      },
      "source": [
        "## EA model"
      ]
    },
    {
      "cell_type": "code",
      "metadata": {
        "id": "dqWSbEML-fCq"
      },
      "source": [
        "#J_nn = np.random.uniform (-1.732051, 1.732051, size=(48,48,2)).astype(np.float32)\n",
        "#np.save (folder_path+'Coupling_constants/Jnn_uniform.npy', J_nn)\n",
        "\n",
        "#J_nn = np.random.normal (size=(48,48,2)).astype(np.float32)\n",
        "#np.save (folder_path+'Coupling_constants/Jnn_gaussian.npy', J_nn)\n",
        "\n",
        "#J_nn = np.ones (shape=48*48*2, dtype=np.float32)\n",
        "#pos = np.random.choice (48*48*2, size=48*48, replace=False)\n",
        "#J_nn [pos] = -1\n",
        "#J_nn = np.reshape (J_nn, (48,48,2))\n",
        "#np.save (folder_path+'Coupling_constants/Jnn_bimodal.npy', J_nn)"
      ],
      "execution_count": null,
      "outputs": []
    },
    {
      "cell_type": "code",
      "metadata": {
        "id": "h5UgmwbwS2qe"
      },
      "source": [
        "@cuda.jit\n",
        "def update_black (spin, T, Jnn, seed):\n",
        "    def random_uniform(n, x, y):\n",
        "        seed[n, x, y] = np.int32((seed[n, x, y]*1664525 + 1013904223) % 2**31)\n",
        "        return seed[n, x, y] / (2**31)\n",
        "\n",
        "    def bvc(x):\n",
        "        if x == spin.shape[1]:\n",
        "            x = 0\n",
        "        return x\n",
        "\n",
        "    def sum_nn(n, x, y):\n",
        "        sum = 0\n",
        "        sum += Jnn[x,y,0]*spin[n,bvc(x+1),y]\n",
        "        sum += Jnn[x,y,1]*spin[n,x,bvc(y+1)]\n",
        "        sum += Jnn[x-1,y,0]*spin[n,x-1,y]\n",
        "        sum += Jnn[x,y-1,1]*spin[n,x,y-1]\n",
        "        return sum\n",
        "    \n",
        "    def calc(n, x, y):\n",
        "        probs = random_uniform(n, x, y)\n",
        "        delta = 2*spin[n,x,y]*sum_nn(n,x,y)\n",
        "        if probs < math.exp(-delta/T[n]):\n",
        "            spin[n, x, y] *= np.int8(-1)\n",
        "            #energy[z] += delta\n",
        "\n",
        "    n, x, y = cuda.grid(3)\n",
        "    p, q = x%2, y%2\n",
        "    if n<spin.shape[0] and x<spin.shape[1] and y<spin.shape[2]:\n",
        "        if (p==0 and q==0) or (p==1 and q==1):\n",
        "            calc (n, x, y)\n",
        "\n",
        "@cuda.jit\n",
        "def update_white (spin, T, Jnn, seed):\n",
        "    def random_uniform(n, x, y):\n",
        "        seed[n, x, y] = np.int32((seed[n, x, y]*1664525 + 1013904223) % 2**31)\n",
        "        return seed[n, x, y] / (2**31)\n",
        "\n",
        "    def bvc(x):\n",
        "        if x == spin.shape[1]:\n",
        "            x = 0\n",
        "        return x\n",
        "\n",
        "    def sum_nn(n, x, y):\n",
        "        sum = 0\n",
        "        sum += Jnn[x,y,0]*spin[n,bvc(x+1),y]\n",
        "        sum += Jnn[x,y,1]*spin[n,x,bvc(y+1)]\n",
        "        sum += Jnn[x-1,y,0]*spin[n,x-1,y]\n",
        "        sum += Jnn[x,y-1,1]*spin[n,x,y-1]\n",
        "        return sum\n",
        "    \n",
        "    def calc(n, x, y):\n",
        "        probs = random_uniform(n, x, y)\n",
        "        delta = 2*spin[n,x,y]*sum_nn(n,x,y)\n",
        "        if probs < math.exp(-delta/T[n]):\n",
        "            spin[n, x, y] *= np.int8(-1)\n",
        "            #energy[z] += delta\n",
        "\n",
        "    n, x, y = cuda.grid(3)\n",
        "    p, q = x%2, y%2\n",
        "    if n<spin.shape[0] and x<spin.shape[1] and y<spin.shape[2]:\n",
        "        if (p==0 and q==1) or (p==1 and q==0):\n",
        "            calc (n, x, y)\n",
        "\n",
        "@cuda.jit\n",
        "def parallel_temper (spin, B, J_nn, seed, energy):\n",
        "    z = cuda.grid(1)\n",
        "    tid = cuda.threadIdx.x\n",
        "    m_ = spin.shape [2]\n",
        "    rand_n = seed[0, 0, tid] % (m_-1) #Returns a number in [0,m_-2]\n",
        "\n",
        "    #We don't want two threads doing the swapping!\n",
        "    val0 = B[rand_n]\n",
        "    val1 = B[rand_n+1]\n",
        "    e0 = energy[rand_n]\n",
        "    e1 = energy[rand_n+1]\n",
        "    rand_unif = np.float32 (seed[0,1,tid] / 2**31)\n",
        "    arg = (e0 - e1)*(val0 - val1)\n",
        "    if (arg < 0):\n",
        "        if rand_unif < math.exp (arg):\n",
        "            B[rand_n] = val1\n",
        "            B[rand_n+1] = val0\n",
        "    else:\n",
        "        B[rand_n] = val1\n",
        "        B[rand_n+1] = val0\n",
        "\n",
        "@cuda.jit\n",
        "def parallel_temper2(spin, T, seed, energy):\n",
        "    z = cuda.grid(1)\n",
        "\n",
        "    rand_n = 0 if float32(seed[0, 0, 0]/2**31) < 0.5 else 1\n",
        "    ptr = 2*z + rand_n\n",
        "    if ptr < energy.shape[0]-1:\n",
        "        val0 = 1./T[ptr]\n",
        "        val1 = 1./T[ptr+1]\n",
        "        e0 = energy[ptr]\n",
        "        e1 = energy[ptr+1]\n",
        "        rand_unif = float32(seed[0, 1, z] / 2**31)\n",
        "        arg = (e0 - e1)*(val0 - val1)\n",
        "        if (arg < 0):\n",
        "            if rand_unif < math.exp(arg):\n",
        "                T[ptr] = 1/val1\n",
        "                T[ptr+1] = 1/val0\n",
        "        else:\n",
        "            T[ptr] = 1/val1\n",
        "            T[ptr+1] = 1/val0\n",
        "\n",
        "@cuda.jit\n",
        "def calc_energy (spin, J_nn, energy): #m_ threads on a single block...\n",
        "    def bvc(x):\n",
        "        if x == spin.shape[1]:\n",
        "            return 0\n",
        "        else:\n",
        "            return x\n",
        "\n",
        "    n = cuda.grid (1)\n",
        "    len_ = spin.shape[1]\n",
        "    ener = 0\n",
        "    for x in range(len_):\n",
        "        for y in range(len_):\n",
        "            ener -= J_nn[x,y,0] * spin[n,x,y]*spin[n,bvc(x+1),y]\n",
        "            ener -= J_nn[x,y,1] * spin[n,x,y]*spin[n,x,bvc(y+1)]\n",
        "\n",
        "    energy[n] = ener"
      ],
      "execution_count": null,
      "outputs": []
    },
    {
      "cell_type": "code",
      "metadata": {
        "id": "KwCkeSaeLxGT"
      },
      "source": [
        "class EASimulator ():\n",
        "    def __init__ (self,lat_len= 48, dist= 'uniform'):\n",
        "        \"The accepted values of 'dist' argument are: 'uniform', 'bimodal' or 'gaussian'\"\n",
        "        self.shape = (lat_len, lat_len)\n",
        "        self.lat_len = lat_len\n",
        "        \"\"\"if dist == 'ising':\n",
        "            self.J_nn = cp.asarray (np.ones (self.shape+(2,), np.float32))\n",
        "        else:\n",
        "            self.J_nn = cp.asarray (np.load (folder_path+\"Coupling_constants/Jnn_\"+dist+\".npy\"))\"\"\"\n",
        "        self.J_nn = cp.random.normal (size=self.shape+(2,))\n",
        "        self.tpb = (1,8,8)\n",
        "        self.m = 80\n",
        "        self.spin = cp.random.choice ([-1,1], (self.m,)+self.shape).astype(np.int8)\n",
        "        self.seed = cp.random.randint (-10000,10000, (self.m,)+self.shape, np.int32)\n",
        "        self.energy = cp.zeros (self.m, np.float32)\n",
        "        \n",
        "    def equilib_cold (self, temp):\n",
        "        vr_T = cp.linspace (temp, temp+2.5, self.m, dtype=np.float32)\n",
        "        bpg = (self.m,self.shape[0]//self.tpb[1],self.shape[1]//self.tpb[2])\n",
        "        for _ in range(1000):\n",
        "            for _ in range (5):\n",
        "                update_black[bpg,self.tpb] (self.spin, vr_T, self.J_nn, self.seed)\n",
        "                update_white[bpg,self.tpb] (self.spin, vr_T, self.J_nn, self.seed)\n",
        "            calc_energy[1, self.m](self.spin, self.J_nn, self.energy)\n",
        "            parallel_temper2[1, self.m//2] (self.spin, vr_T, self.seed, self.energy)\n",
        "        vr_T = cp.full (self.m, temp, np.float32)\n",
        "        for _ in range (500):\n",
        "            update_black[bpg, self.tpb] (self.spin, vr_T, self.J_nn, self.seed)\n",
        "            update_white[bpg, self.tpb] (self.spin, vr_T, self.J_nn, self.seed)\n",
        "        calc_energy[1, self.m](self.spin, self.J_nn, self.energy)\n",
        "        return cp.asnumpy(self.energy)#cp.asnumpy(self.spin).astype(np.float32)\n",
        "\n",
        "    def equilib_hot (self, temp):\n",
        "        vr_T = cp.full (self.m, temp, np.float32)\n",
        "        bpg = (self.m,self.shape[0]//self.tpb[1],self.shape[1]//self.tpb[2])\n",
        "        for _ in range (500):\n",
        "            update_black[bpg, self.tpb] (self.spin, vr_T, self.J_nn, self.seed)\n",
        "            update_white[bpg, self.tpb] (self.spin, vr_T, self.J_nn, self.seed)\n",
        "        return cp.asnumpy(self.spin).astype (np.float32)\n",
        "    \n",
        "    def generate_train_data (self,train_len=4000):\n",
        "        t_lattice = []\n",
        "        t_label = []\n",
        "        for _ in range(train_len//(2*self.m)):\n",
        "            t_lattice.append (self.equilib_cold (0.5))\n",
        "            t_label.append (np.ones (self.m, np.int32))\n",
        "        for _ in range(train_len//(2*self.m)):\n",
        "            t_lattice.append (self.equilib_hot (4.5))\n",
        "            t_label.append (np.zeros (self.m, np.int32))\n",
        "        t_lattice = 0.5*np.concatenate (t_lattice)\n",
        "        t_label = np.concatenate (t_label)\n",
        "        t_data = tf.data.Dataset.from_tensor_slices ((t_lattice, t_label))\n",
        "        return t_data.shuffle (buffer_size=train_len)\n",
        "\n",
        "    def generate_cold_data(self, train_len=10000):\n",
        "        t_lattice = []\n",
        "        self.J_nn = cp.random.normal (size= self.shape+(2,))\n",
        "        np.save (folder_path+'Coupling_constants/NADE_couplings.npy',\n",
        "                 cp.asnumpy(self.J_nn))\n",
        "        for _ in range (train_len//self.m):\n",
        "            t_lattice.append (self.equilib_cold (0.5))\n",
        "        return np.concatenate (t_lattice, axis=0)\n",
        "\n",
        "    def neural_data (self, low, high, step, brain):\n",
        "        _len = math.ceil((high - low) / step)\n",
        "        t_lattice = []\n",
        "        datax = []\n",
        "        temp = low\n",
        "        for _ in range (_len):\n",
        "            t_lattice.append (np.stack([self.equilib_cold (temp)], axis=-1))\n",
        "            datax.append (temp)\n",
        "            temp += step\n",
        "        t_lattice = np.concatenate (t_lattice)\n",
        "        datax = np.asarray (datax)\n",
        "        predictions = brain.predict (t_lattice)\n",
        "        datay = np.empty (_len, np.float32)\n",
        "        for i in range (_len):\n",
        "            start = i*self.m\n",
        "            end = (i+1)*self.m\n",
        "            datay[i] = predictions[start:end,0].mean()\n",
        "        graph, ax = plt.subplots()\n",
        "        ax.plot (datax, datay, 'r-', linewidth = 2)\n",
        "        ax.grid ()\n",
        "        plt.show ()\n",
        "        return predictions[:,0]\n",
        "\n",
        "    def temp_energies (self, low, high, step):\n",
        "        _len = math.ceil((high - low) / step)\n",
        "        datax = []\n",
        "        datay = []\n",
        "        error = []\n",
        "        temp = low\n",
        "        for _ in range (_len):\n",
        "            t_energies = (self.equilib_cold (temp))\n",
        "            datax.append (temp)\n",
        "            datay.append (t_energies.mean())\n",
        "            error.append (t_energies.std())\n",
        "            temp += step\n",
        "\n",
        "        datax = np.asarray (datax)\n",
        "        datay = np.asarray (datay)\n",
        "        error = np.asarray (error)/2\n",
        "        plt.plot (datax, datay, 'r-')\n",
        "        plt.fill_between (datax, datay-error, datay+error)\n",
        "        plt.show()"
      ],
      "execution_count": null,
      "outputs": []
    },
    {
      "cell_type": "markdown",
      "metadata": {
        "id": "lRzryNvMyVOw"
      },
      "source": [
        "### Uniform couplings"
      ]
    },
    {
      "cell_type": "code",
      "metadata": {
        "id": "7Avu72v_qYnQ"
      },
      "source": [
        "simulator = EASimulator(dist='uniform')"
      ],
      "execution_count": null,
      "outputs": []
    },
    {
      "cell_type": "code",
      "metadata": {
        "id": "RkvXOgaNq1es",
        "colab": {
          "base_uri": "https://localhost:8080/",
          "height": 36
        },
        "outputId": "05729efc-5516-4ce7-8844-33bc16a74e61"
      },
      "source": [
        "type (simulator.equilib_cold (0.5))"
      ],
      "execution_count": null,
      "outputs": [
        {
          "output_type": "execute_result",
          "data": {
            "text/plain": [
              "cupy.core.core.ndarray"
            ]
          },
          "metadata": {
            "tags": []
          },
          "execution_count": 21
        }
      ]
    },
    {
      "cell_type": "code",
      "metadata": {
        "id": "psas2rh4lst7"
      },
      "source": [
        "train_data = simulator.generate_train_data (8000)\n",
        "output.eval_js('new Audio(\"https://upload.wikimedia.org/wikipedia/commons/0/05/Beep-09.ogg\").play()')"
      ],
      "execution_count": null,
      "outputs": []
    },
    {
      "cell_type": "code",
      "metadata": {
        "id": "CXR2DEcFNinc"
      },
      "source": [
        "def serialize_example(lattice, label):\n",
        "    \"\"\"\n",
        "    Creates a tf.train.Example message ready to be written to a file.\n",
        "    \"\"\"\n",
        "\n",
        "    def _bytes_feature(value):\n",
        "        \"\"\"Returns a bytes_list from a string / byte.\"\"\"\n",
        "        #value = tf.io.serialize_tensor(value)\n",
        "        if isinstance(value, type(tf.constant(0))):\n",
        "            value = tf.io.serialize_tensor(value).numpy()\n",
        "        return tf.train.Feature(bytes_list=tf.train.BytesList(value=[value]))\n",
        "\n",
        "    def _int64_feature(value):\n",
        "        \"\"\"Returns an int64_list from a bool / enum / int / uint.\"\"\"\n",
        "        return tf.train.Feature(int64_list=tf.train.Int64List(value=[value]))\n",
        "\n",
        "    # Create a dictionary mapping the feature name to the tf.train.Example-compatible\n",
        "    # data type.\n",
        "    feat = { \n",
        "        'lattice': _bytes_feature(lattice),\n",
        "        'label': _int64_feature(label),\n",
        "    }\n",
        "    # Create a Features message using tf.train.Example.\n",
        "    example_proto = tf.train.Example(features=tf.train.Features(feature=feat))\n",
        "    return tf.reshape(example_proto.SerializeToString(),())\n",
        "\n",
        "def tf_serialize_example(lattice,label):\n",
        "    tf_string = tf.py_function(\n",
        "        serialize_example,\n",
        "        (lattice,label),  # pass these args to the above function.\n",
        "        tf.string)      # the return type is `tf.string`.\n",
        "    return tf.reshape(tf_string, ()) # The result is a scalar\n",
        "\n",
        "\n",
        "serialised_dataset = train_data.map (tf_serialize_example)\n",
        "\n",
        "filename = folder_path+'Training Data/SqEA2d_48.tfrecord'\n",
        "writer = tf.data.experimental.TFRecordWriter(filename)\n",
        "writer.write(serialised_dataset)"
      ],
      "execution_count": null,
      "outputs": []
    },
    {
      "cell_type": "code",
      "metadata": {
        "id": "S5DbwBLXmc5F"
      },
      "source": [
        "def resize (lattice, label):\n",
        "    lattice = tf.stack ([lattice], axis=-1)\n",
        "    return lattice, label\n",
        "\n",
        "train_data = train_data.batch (simulator.m).map (resize)\n",
        "val_data = train_data.skip (6000)\n",
        "train_data = train_data.take (6000)"
      ],
      "execution_count": null,
      "outputs": []
    },
    {
      "cell_type": "code",
      "metadata": {
        "id": "yZSnfFbtkKmG"
      },
      "source": [
        "brain = tfk. Sequential([\n",
        "    tfk.layers.Conv2D(64, (2,2), activation='relu', input_shape = simulator.shape+(1,)),\n",
        "    tfk.layers.MaxPool2D (),\n",
        "    tfk.layers.Conv2D(64, (2,2), activation='relu'),\n",
        "    tfk.layers.Flatten(),\n",
        "    tfk.layers.Dense(64, activation='relu'),\n",
        "    tfk.layers.Dropout(0.3),\n",
        "    tfk.layers.Dense(2, activation='softmax')\n",
        "])"
      ],
      "execution_count": null,
      "outputs": []
    },
    {
      "cell_type": "code",
      "metadata": {
        "id": "k6vjISSLlvhQ"
      },
      "source": [
        "brain.compile(optimizer='adam',\n",
        "              loss='sparse_categorical_crossentropy',\n",
        "              metrics=['accuracy'])"
      ],
      "execution_count": null,
      "outputs": []
    },
    {
      "cell_type": "code",
      "metadata": {
        "id": "FOHCQdPomNKv",
        "colab": {
          "base_uri": "https://localhost:8080/",
          "height": 93
        },
        "outputId": "76627c8b-dd60-419d-8e60-1a8e7e76119c"
      },
      "source": [
        "hist = brain.fit (train_data, epochs=2, validation_data=val_data)"
      ],
      "execution_count": null,
      "outputs": [
        {
          "output_type": "stream",
          "text": [
            "Epoch 1/2\n",
            "100/100 [==============================] - 2s 19ms/step - loss: 0.0766 - accuracy: 0.9710\n",
            "Epoch 2/2\n",
            "100/100 [==============================] - 2s 17ms/step - loss: 1.7641e-04 - accuracy: 1.0000\n"
          ],
          "name": "stdout"
        }
      ]
    },
    {
      "cell_type": "code",
      "metadata": {
        "id": "bZapvC6boTV-"
      },
      "source": [
        "brain.save(folder_path+'NN Models/SqEA2d_48_uniform.h5')"
      ],
      "execution_count": null,
      "outputs": []
    },
    {
      "cell_type": "code",
      "metadata": {
        "id": "citBNm_ooTEB"
      },
      "source": [
        "brain = tfk.models.load_model (folder_path+'NN Models/SqEA2d_48_uniform.h5')"
      ],
      "execution_count": null,
      "outputs": []
    },
    {
      "cell_type": "code",
      "metadata": {
        "id": "Vl9kuacWCAdt",
        "colab": {
          "base_uri": "https://localhost:8080/",
          "height": 265
        },
        "outputId": "0e27a18e-0014-4d51-dca8-6c2bad64a693"
      },
      "source": [
        "predictions = simulator.neural_data (0.5, 3.5, 0.1, brain)"
      ],
      "execution_count": null,
      "outputs": [
        {
          "output_type": "display_data",
          "data": {
            "image/png": "[encoded data removed]",
            "text/plain": [
              "<Figure size 432x288 with 1 Axes>"
            ]
          },
          "metadata": {
            "tags": [],
            "needs_background": "light"
          }
        }
      ]
    },
    {
      "cell_type": "code",
      "metadata": {
        "id": "PO9IzJWtCATf"
      },
      "source": [
        "output.eval_js('new Audio(\"https://upload.wikimedia.org/wikipedia/commons/0/05/Beep-09.ogg\").play()')"
      ],
      "execution_count": null,
      "outputs": []
    },
    {
      "cell_type": "code",
      "metadata": {
        "id": "CzfuzdxN_yIC"
      },
      "source": [
        ""
      ],
      "execution_count": null,
      "outputs": []
    },
    {
      "cell_type": "markdown",
      "metadata": {
        "id": "90cv5NKCtOeW"
      },
      "source": [
        "### Gaussian couplings"
      ]
    },
    {
      "cell_type": "code",
      "metadata": {
        "id": "yKeKYChftOHb"
      },
      "source": [
        "simulator = EASimulator (dist='gaussian')"
      ],
      "execution_count": null,
      "outputs": []
    },
    {
      "cell_type": "code",
      "metadata": {
        "id": "LXjwGrpFtuly"
      },
      "source": [
        "train_data = simulator.generate_train_data (8000)\n",
        "output.eval_js('new Audio(\"https://upload.wikimedia.org/wikipedia/commons/0/05/Beep-09.ogg\").play()')"
      ],
      "execution_count": null,
      "outputs": []
    },
    {
      "cell_type": "code",
      "metadata": {
        "id": "UTVHofI2t7Dx"
      },
      "source": [
        "def resize (lattice, label):\n",
        "    lattice = tf.stack ([lattice], axis=-1)\n",
        "    return lattice, label\n",
        "\n",
        "val_data = train_data.skip (6000)\n",
        "train_data = train_data.take (6000)"
      ],
      "execution_count": null,
      "outputs": []
    },
    {
      "cell_type": "code",
      "metadata": {
        "id": "oc27rDUdwOLM"
      },
      "source": [
        "val_data = val_data.map (resize)\n",
        "train_data = train_data.map (resize)"
      ],
      "execution_count": null,
      "outputs": []
    },
    {
      "cell_type": "code",
      "metadata": {
        "id": "lxzbN2MBwWgV"
      },
      "source": [
        "brain = tfk. Sequential([\n",
        "    tfk.layers.Conv2D(64, (2,2), activation='relu', input_shape = simulator.shape+(1,)),\n",
        "    tfk.layers.MaxPool2D (),\n",
        "    tfk.layers.Conv2D(64, (2,2), activation='relu'),\n",
        "    tfk.layers.Flatten(),\n",
        "    tfk.layers.Dense(64, activation='relu'),\n",
        "    tfk.layers.Dropout(0.3),\n",
        "    tfk.layers.Dense(2, activation='softmax')\n",
        "])"
      ],
      "execution_count": null,
      "outputs": []
    },
    {
      "cell_type": "code",
      "metadata": {
        "id": "yK_zy-dwwbAP"
      },
      "source": [
        "brain.compile(optimizer='adam',\n",
        "              loss='sparse_categorical_crossentropy',\n",
        "              metrics=['accuracy'])"
      ],
      "execution_count": null,
      "outputs": []
    },
    {
      "cell_type": "code",
      "metadata": {
        "id": "61kxv4OAweM1",
        "colab": {
          "base_uri": "https://localhost:8080/",
          "height": 93
        },
        "outputId": "17272765-0cf2-4faf-e849-c483d8d1198f"
      },
      "source": [
        "hist = brain.fit (train_data, epochs=2, validation_data=val_data)"
      ],
      "execution_count": null,
      "outputs": [
        {
          "output_type": "stream",
          "text": [
            "Epoch 1/2\n",
            "100/100 [==============================] - 1s 10ms/step - loss: 0.0832 - accuracy: 0.9672\n",
            "Epoch 2/2\n",
            "100/100 [==============================] - 1s 9ms/step - loss: 0.0010 - accuracy: 1.0000\n"
          ],
          "name": "stdout"
        }
      ]
    },
    {
      "cell_type": "code",
      "metadata": {
        "id": "aaL0y3MFwhxx"
      },
      "source": [
        "brain.save(folder_path+'NN Models/SqEA2d_48_gaussian.h5')"
      ],
      "execution_count": null,
      "outputs": []
    },
    {
      "cell_type": "code",
      "metadata": {
        "id": "8xYafHTRwvRQ",
        "colab": {
          "base_uri": "https://localhost:8080/",
          "height": 265
        },
        "outputId": "25dbf87b-b571-404b-9ef1-68e179644ce2"
      },
      "source": [
        "predictions = simulator.neural_data (0.5, 3.5, 0.1, brain)\n",
        "output.eval_js('new Audio(\"https://upload.wikimedia.org/wikipedia/commons/0/05/Beep-09.ogg\").play()')"
      ],
      "execution_count": null,
      "outputs": [
        {
          "output_type": "display_data",
          "data": {
            "image/png": "[encoded data removed]",
            "text/plain": [
              "<Figure size 432x288 with 1 Axes>"
            ]
          },
          "metadata": {
            "tags": [],
            "needs_background": "light"
          }
        }
      ]
    },
    {
      "cell_type": "markdown",
      "metadata": {
        "id": "x8gW0A6Vyqjt"
      },
      "source": [
        "### Bimodal couplings"
      ]
    },
    {
      "cell_type": "code",
      "metadata": {
        "id": "-d1H8BalyqkA"
      },
      "source": [
        "simulator = EASimulator (dist='bimodal')"
      ],
      "execution_count": null,
      "outputs": []
    },
    {
      "cell_type": "code",
      "metadata": {
        "id": "kJ6wOU7ivhcd",
        "colab": {
          "base_uri": "https://localhost:8080/",
          "height": 265
        },
        "outputId": "31868fc9-7868-46e4-e562-a50c6f756804"
      },
      "source": [
        "simulator.temp_energies (0.5, 3.5, 0.1)"
      ],
      "execution_count": null,
      "outputs": [
        {
          "output_type": "display_data",
          "data": {
            "image/png": "[encoded data removed]",
            "text/plain": [
              "<Figure size 432x288 with 1 Axes>"
            ]
          },
          "metadata": {
            "tags": [],
            "needs_background": "light"
          }
        }
      ]
    },
    {
      "cell_type": "code",
      "metadata": {
        "id": "AFu34spszRib",
        "colab": {
          "base_uri": "https://localhost:8080/",
          "height": 267
        },
        "outputId": "554ee5d9-9192-4bea-a00a-ccc1b10bb072"
      },
      "source": [
        "simulator2 = EASimulator (dist='ising')\n",
        "simulator2.temp_energies (0.5, 3.0, 0.1)"
      ],
      "execution_count": null,
      "outputs": [
        {
          "output_type": "display_data",
          "data": {
            "image/png": "[encoded data removed]",
            "text/plain": [
              "<Figure size 432x288 with 1 Axes>"
            ]
          },
          "metadata": {
            "tags": [],
            "needs_background": "light"
          }
        }
      ]
    },
    {
      "cell_type": "code",
      "metadata": {
        "id": "59YuBzRsv6OL"
      },
      "source": [
        "output.eval_js('new Audio(\"https://upload.wikimedia.org/wikipedia/commons/0/05/Beep-09.ogg\").play()')"
      ],
      "execution_count": null,
      "outputs": []
    },
    {
      "cell_type": "code",
      "metadata": {
        "id": "l3zy7oELQxoo"
      },
      "source": [
        "spin = simulator.equilib_cold (0.5)\n",
        "val = np.empty (100, np.float32)\n",
        "for i in range (100):\n",
        "    pos = np.random.choice (simulator.m, 2, replace=False)\n",
        "    val[i] = np.abs(np.mean(spin[pos[0]]*spin[pos[1]]))"
      ],
      "execution_count": null,
      "outputs": []
    },
    {
      "cell_type": "code",
      "metadata": {
        "id": "D4TOuKGnS5iR",
        "colab": {
          "base_uri": "https://localhost:8080/",
          "height": 35
        },
        "outputId": "ab5c84ee-7c9c-41df-d0f3-c25d7fc0e1b2"
      },
      "source": [
        "val.mean()"
      ],
      "execution_count": null,
      "outputs": [
        {
          "output_type": "execute_result",
          "data": {
            "text/plain": [
              "0.08648439"
            ]
          },
          "metadata": {
            "tags": []
          },
          "execution_count": 17
        }
      ]
    },
    {
      "cell_type": "code",
      "metadata": {
        "id": "w5y2U3X6yqkY"
      },
      "source": [
        "train_data = simulator.generate_train_data (8000)\n",
        "output.eval_js('new Audio(\"https://upload.wikimedia.org/wikipedia/commons/0/05/Beep-09.ogg\").play()')"
      ],
      "execution_count": null,
      "outputs": []
    },
    {
      "cell_type": "code",
      "metadata": {
        "id": "FPZusvLPyqkm"
      },
      "source": [
        "def resize (lattice, label):\n",
        "    lattice = tf.stack ([lattice], axis=-1)\n",
        "    return lattice, label\n",
        "\n",
        "val_data = train_data.skip (6000)\n",
        "train_data = train_data.take (6000)"
      ],
      "execution_count": null,
      "outputs": []
    },
    {
      "cell_type": "code",
      "metadata": {
        "id": "kQs3pq1myqkt"
      },
      "source": [
        "val_data = val_data.map (resize)\n",
        "train_data = train_data.map (resize)"
      ],
      "execution_count": null,
      "outputs": []
    },
    {
      "cell_type": "code",
      "metadata": {
        "id": "M0XZP89Lyqkz"
      },
      "source": [
        "brain = tfk. Sequential([\n",
        "    tfk.layers.Conv2D(64, (2,2), activation='relu', input_shape = simulator.shape+(1,)),\n",
        "    tfk.layers.MaxPool2D (),\n",
        "    tfk.layers.Conv2D(64, (2,2), activation='relu'),\n",
        "    tfk.layers.Flatten(),\n",
        "    tfk.layers.Dense(64, activation='relu'),\n",
        "    tfk.layers.Dropout(0.3),\n",
        "    tfk.layers.Dense(2, activation='softmax')\n",
        "])"
      ],
      "execution_count": null,
      "outputs": []
    },
    {
      "cell_type": "code",
      "metadata": {
        "id": "iiAtBOivyqk7"
      },
      "source": [
        "brain.compile(optimizer='adam',\n",
        "              loss='sparse_categorical_crossentropy',\n",
        "              metrics=['accuracy'])"
      ],
      "execution_count": null,
      "outputs": []
    },
    {
      "cell_type": "code",
      "metadata": {
        "id": "Hu6YiK8WyqlB",
        "colab": {
          "base_uri": "https://localhost:8080/",
          "height": 93
        },
        "outputId": "00755ea5-3fff-4552-9379-582a68f18af3"
      },
      "source": [
        "hist = brain.fit (train_data, epochs=2, validation_data=val_data)"
      ],
      "execution_count": null,
      "outputs": [
        {
          "output_type": "stream",
          "text": [
            "Epoch 1/2\n",
            "100/100 [==============================] - 1s 10ms/step - loss: 0.0504 - accuracy: 0.9764\n",
            "Epoch 2/2\n",
            "100/100 [==============================] - 1s 9ms/step - loss: 9.0548e-05 - accuracy: 1.0000\n"
          ],
          "name": "stdout"
        }
      ]
    },
    {
      "cell_type": "code",
      "metadata": {
        "id": "-S9KF_bSyqlJ"
      },
      "source": [
        "brain.save(folder_path+'NN Models/SqEA2d_48_bimodal.h5')"
      ],
      "execution_count": null,
      "outputs": []
    },
    {
      "cell_type": "code",
      "metadata": {
        "id": "QPWV1PjyyqlO",
        "colab": {
          "base_uri": "https://localhost:8080/",
          "height": 265
        },
        "outputId": "6bde0283-1900-44c3-b6da-74504bc26449"
      },
      "source": [
        "predictions = simulator.neural_data (0.5, 3.5, 0.1, brain)\n",
        "output.eval_js('new Audio(\"https://upload.wikimedia.org/wikipedia/commons/0/05/Beep-09.ogg\").play()')"
      ],
      "execution_count": null,
      "outputs": [
        {
          "output_type": "display_data",
          "data": {
            "image/png": "[encoded data removed]",
            "text/plain": [
              "<Figure size 432x288 with 1 Axes>"
            ]
          },
          "metadata": {
            "tags": [],
            "needs_background": "light"
          }
        }
      ]
    },
    {
      "cell_type": "code",
      "metadata": {
        "id": "djjS61V5yqlU"
      },
      "source": [
        ""
      ],
      "execution_count": null,
      "outputs": []
    },
    {
      "cell_type": "markdown",
      "metadata": {
        "id": "FD_wKz7cgaAc"
      },
      "source": [
        "## Cold temperature data"
      ]
    },
    {
      "cell_type": "code",
      "metadata": {
        "id": "Uz_oTUqdg49k"
      },
      "source": [
        "simulator = EASimulator (lat_len= 20)"
      ],
      "execution_count": null,
      "outputs": []
    },
    {
      "cell_type": "code",
      "metadata": {
        "colab": {
          "base_uri": "https://localhost:8080/"
        },
        "id": "hf6RoD4Ws-6y",
        "outputId": "af903a99-1fdb-4046-9305-1aaec6085216"
      },
      "source": [
        "simulator.equilib_cold (0.5)"
      ],
      "execution_count": null,
      "outputs": [
        {
          "output_type": "execute_result",
          "data": {
            "text/plain": [
              "array([-308.78836, -333.18546, -302.66705, -314.3654 , -303.9136 ,\n",
              "       -310.64612, -313.37088, -347.43686, -328.92972, -356.00064,\n",
              "       -323.75275, -315.31805, -299.19012, -318.84174, -331.39978,\n",
              "       -331.6618 , -309.55038, -351.001  , -318.98056, -328.44016,\n",
              "       -309.39542, -333.08185, -314.01038, -313.47495, -334.39435,\n",
              "       -331.1323 , -333.27005, -320.21506, -328.5932 , -344.89343,\n",
              "       -325.54092, -338.62866, -315.8757 , -317.50244, -334.36078,\n",
              "       -324.0599 , -343.6459 , -300.1121 , -320.07178, -310.16122,\n",
              "       -312.08643, -320.15863, -314.25433, -314.27054, -292.31824,\n",
              "       -307.68503, -309.52872, -338.1624 , -327.28302, -317.80084,\n",
              "       -308.38873, -327.50742, -298.08252, -307.1099 , -317.87778,\n",
              "       -309.37045, -307.0694 , -330.31754, -334.5789 , -327.29068,\n",
              "       -322.55518, -317.87482, -341.2098 , -313.26266, -318.73407,\n",
              "       -316.97662, -341.08896, -308.88745, -302.09467, -331.23438,\n",
              "       -304.9196 , -319.11633, -289.18448, -282.2694 , -298.72943,\n",
              "       -330.90436, -322.57373, -326.35034, -317.66345, -334.70496],\n",
              "      dtype=float32)"
            ]
          },
          "metadata": {
            "tags": []
          },
          "execution_count": 13
        }
      ]
    },
    {
      "cell_type": "code",
      "metadata": {
        "id": "jq6QHoWkhYoD"
      },
      "source": [
        "t_lattice = simulator.generate_cold_data (train_len=20000)\n",
        "output.eval_js('new Audio(\"https://upload.wikimedia.org/wikipedia/commons/0/05/Beep-09.ogg\").play()')"
      ],
      "execution_count": null,
      "outputs": []
    },
    {
      "cell_type": "code",
      "metadata": {
        "colab": {
          "base_uri": "https://localhost:8080/"
        },
        "id": "oCFe9ZSS3hTk",
        "outputId": "ee75ecf0-c30a-440d-dc35-ae3fbecef420"
      },
      "source": [
        "t_lattice.shape"
      ],
      "execution_count": null,
      "outputs": [
        {
          "output_type": "execute_result",
          "data": {
            "text/plain": [
              "(20000, 20, 20)"
            ]
          },
          "metadata": {
            "tags": []
          },
          "execution_count": 10
        }
      ]
    },
    {
      "cell_type": "code",
      "metadata": {
        "id": "SrPH9GymhpIl"
      },
      "source": [
        "np.save (folder_path+'Training Data/NADEdata.npy', t_lattice)"
      ],
      "execution_count": null,
      "outputs": []
    },
    {
      "cell_type": "code",
      "metadata": {
        "colab": {
          "base_uri": "https://localhost:8080/"
        },
        "id": "ih1oFVC_oQSV",
        "outputId": "706e7bcd-fd89-4de7-9838-96b86d103088"
      },
      "source": [
        "t_lattice[2].mean()"
      ],
      "execution_count": null,
      "outputs": [
        {
          "output_type": "execute_result",
          "data": {
            "text/plain": [
              "0.005"
            ]
          },
          "metadata": {
            "tags": []
          },
          "execution_count": 13
        }
      ]
    },
    {
      "cell_type": "markdown",
      "metadata": {
        "id": "O6X6OPtPXIWZ"
      },
      "source": [
        "# Classify Square Uniform EA and Triangular AFM lattices"
      ]
    },
    {
      "cell_type": "code",
      "metadata": {
        "id": "C2x39WLNOh7f",
        "colab": {
          "base_uri": "https://localhost:8080/",
          "height": 265
        },
        "outputId": "b4f50bbf-4a64-413f-f14b-fff4d8138764"
      },
      "source": [
        "!curl https://colab.chainer.org/install | sh -"
      ],
      "execution_count": null,
      "outputs": [
        {
          "output_type": "stream",
          "text": [
            "  % Total    % Received % Xferd  Average Speed   Time    Time     Time  Current\n",
            "                                 Dload  Upload   Total   Spent    Left  Speed\n",
            "100  1580  100  1580    0     0   2449      0 --:--:-- --:--:-- --:--:--  2445\n",
            "+ apt -y -q install cuda-libraries-dev-10-0\n",
            "Reading package lists...\n",
            "Building dependency tree...\n",
            "Reading state information...\n",
            "cuda-libraries-dev-10-0 is already the newest version (10.0.130-1).\n",
            "0 upgraded, 0 newly installed, 0 to remove and 11 not upgraded.\n",
            "+ pip install -q cupy-cuda100  chainer \n",
            "\u001b[K     |████████████████████████████████| 348.0MB 24kB/s \n",
            "\u001b[?25h+ set +ex\n",
            "Installation succeeded!\n"
          ],
          "name": "stdout"
        }
      ]
    },
    {
      "cell_type": "code",
      "metadata": {
        "id": "JK7PK2EaXdPd"
      },
      "source": [
        "import math\n",
        "import numpy as np\n",
        "import cupy as cp\n",
        "import matplotlib.pyplot as plt\n",
        "import tensorflow.keras as tfk\n",
        "import tensorflow as tf\n",
        "from numba import cuda, float32, int32"
      ],
      "execution_count": null,
      "outputs": []
    },
    {
      "cell_type": "code",
      "metadata": {
        "id": "3FVDX0wwENEr",
        "colab": {
          "base_uri": "https://localhost:8080/",
          "height": 36
        },
        "outputId": "8b601ffe-a282-4305-898e-4d7861fb5460"
      },
      "source": [
        "from google.colab import drive\n",
        "from google.colab import output\n",
        "drive.mount('/content/drive', force_remount=True)\n",
        "folder_path = \"/content/drive/My Drive/Project Presentations/Spin_glass_phase_classification/\""
      ],
      "execution_count": null,
      "outputs": [
        {
          "output_type": "stream",
          "text": [
            "Mounted at /content/drive\n"
          ],
          "name": "stdout"
        }
      ]
    },
    {
      "cell_type": "markdown",
      "metadata": {
        "id": "9bOwfuamc5Up"
      },
      "source": [
        "### Necessary cuda kernels"
      ]
    },
    {
      "cell_type": "code",
      "metadata": {
        "id": "gmYHVVZuYNEg"
      },
      "source": [
        "@cuda.jit\n",
        "def update_red(spin, seed, T):\n",
        "    J = -1.0  # Nearest neighbour coupling constant\n",
        "\n",
        "    def random_uniform(x, y, z):\n",
        "        seed[x, y, z] = np.int32((seed[x, y, z]*1664525 + 1013904223) % 2**31)\n",
        "        return seed[x, y, z] / (2**31)\n",
        "\n",
        "    def bvc (x):\n",
        "        if x == spin.shape[0]:\n",
        "            x = 0\n",
        "        return x       \n",
        "\n",
        "    def sum_nn(x, y, z):  # This adds spins of six neighbours instead of 4 subject to\n",
        "        #many constraints characteristic of triangular lattices\n",
        "\n",
        "        value = 0\n",
        "        value += spin[bvc(x+1), y, z]\n",
        "        if (x % 2 == 0):\n",
        "            value += spin[bvc(x+1), y-1, z]\n",
        "        else:\n",
        "            value += spin[bvc(x+1), bvc(y+1), z]\n",
        "\n",
        "        value += spin[x-1, y, z]\n",
        "        if (x % 2 == 0):\n",
        "            value += spin[x-1, y-1, z]\n",
        "        else:\n",
        "            value += spin[x-1, bvc(y+1), z]\n",
        "\n",
        "        value += spin[x, bvc(y+1), z]\n",
        "        value += spin[x, y-1, z]\n",
        "\n",
        "        return value\n",
        "\n",
        "    def calc(x, y, z):\n",
        "        probs = random_uniform(x, y, z)\n",
        "        if (probs < math.exp(-2*J*spin[x, y, z]*sum_nn(x, y, z)/T[0])):\n",
        "            spin[x, y, z] *= np.int8(-1)\n",
        "\n",
        "    x, y, z = cuda.grid(3)\n",
        "    p, q = x % 3, y % 2\n",
        "\n",
        "    if x < spin.shape[0] and y < spin.shape[1] and z < spin.shape[2]:\n",
        "        if (p == 0 and q == 0) or (p == 1 and q == 1):\n",
        "            calc(x, y, z)\n",
        "\n",
        "@cuda.jit\n",
        "def update_blue(spin, seed, T):\n",
        "    J = -1.0  # Nearest neighbour coupling constant\n",
        "\n",
        "    def random_uniform(x, y, z):\n",
        "        seed[x, y, z] = np.int32((seed[x, y, z]*1664525 + 1013904223) % 2**31)\n",
        "        return seed[x, y, z] / (2**31)\n",
        "\n",
        "    def bvc (x):\n",
        "        if x == spin.shape[0]:\n",
        "            x = 0\n",
        "        return x\n",
        "\n",
        "    def sum_nn(x, y, z):  # This adds spins of six neighbours instead of 4 subject to\n",
        "        #many constraints characteristic of triangular lattices\n",
        "\n",
        "        value = 0\n",
        "        value += spin[bvc(x+1), y, z]\n",
        "        if (x % 2 == 0):\n",
        "            value += spin[bvc(x+1), y-1, z]\n",
        "        else:\n",
        "            value += spin[bvc(x+1), bvc(y+1), z]\n",
        "\n",
        "        value += spin[x-1, y, z]\n",
        "        if (x % 2 == 0):\n",
        "            value += spin[x-1, y-1, z]\n",
        "        else:\n",
        "            value += spin[x-1, bvc(y+1), z]\n",
        "\n",
        "        value += spin[x, bvc(y+1), z]\n",
        "        value += spin[x, y-1, z]\n",
        "\n",
        "        return value\n",
        "\n",
        "    def calc(x, y, z):\n",
        "        probs = random_uniform(x, y, z)\n",
        "        if (probs < math.exp(-2*J*spin[x, y, z]*sum_nn(x, y, z)/T[0])):\n",
        "            spin[x, y, z] *= np.int8(-1)\n",
        "\n",
        "    x, y, z = cuda.grid(3)\n",
        "    p, q = x % 3, y % 2\n",
        "\n",
        "    if x < spin.shape[0] and y < spin.shape[1] and z < spin.shape[2]:\n",
        "        if (p == 1 and q == 0) or (p == 2 and q == 1):\n",
        "            calc(x, y, z)\n",
        "\n",
        "@cuda.jit\n",
        "def update_green (spin, seed, T):\n",
        "    J = -1.0  # Nearest neighbour coupling constant\n",
        "\n",
        "    def random_uniform(x, y, z):\n",
        "        seed[x, y, z] = np.int32((seed[x, y, z]*1664525 + 1013904223) % 2**31)\n",
        "        return seed[x, y, z] / (2**31)\n",
        "\n",
        "    def bvc (x):\n",
        "        if x == spin.shape[0]:\n",
        "            x = 0\n",
        "        return x\n",
        "\n",
        "    def sum_nn(x, y, z):  # This adds spins of six neighbours instead of 4 subject to\n",
        "        #many constraints characteristic of triangular lattices\n",
        "\n",
        "        value = 0\n",
        "        value += spin[bvc(x+1), y, z]\n",
        "        if (x % 2 == 0):\n",
        "            value += spin[bvc(x+1), y-1, z]\n",
        "        else:\n",
        "            value += spin[bvc(x+1), bvc(y+1), z]\n",
        "\n",
        "        value += spin[x-1, y, z]\n",
        "        if (x % 2 == 0):\n",
        "            value += spin[x-1, y-1, z]\n",
        "        else:\n",
        "            value += spin[x-1, bvc(y+1), z]\n",
        "\n",
        "        value += spin[x, bvc(y+1), z]\n",
        "        value += spin[x, y-1, z]\n",
        "\n",
        "        return value\n",
        "\n",
        "    def calc(x, y, z):\n",
        "        probs = random_uniform(x, y, z)\n",
        "        if (probs < math.exp(-2*J*spin[x, y, z]*sum_nn(x, y, z)/T[0])):\n",
        "            spin[x, y, z] *= np.int8(-1)\n",
        "\n",
        "    x, y, z = cuda.grid(3)\n",
        "    p, q = x % 3, y % 2\n",
        "\n",
        "    if x < spin.shape[0] and y < spin.shape[1] and z < spin.shape[2]:\n",
        "        if (p == 2 and q == 0) or (p == 0 and q == 1):\n",
        "            calc(x, y, z)\n",
        "\n",
        "@cuda.jit\n",
        "def calc_energy_Tri (spin, energy):\n",
        "    def bvc (x):\n",
        "        if x == spin.shape[1]:\n",
        "            x = 0\n",
        "        return x\n",
        "    \n",
        "    def sum_nn(x, y, z):  # This adds spins of six neighbours instead of 4 subject to\n",
        "        #many constraints characteristic of triangular lattices\n",
        "\n",
        "        value = 0\n",
        "        value += spin[bvc(x+1), y, z]\n",
        "        if (x % 2 == 0):\n",
        "            value += spin[bvc(x+1), y-1, z]\n",
        "        else:\n",
        "            value += spin[bvc(x+1), bvc(y+1), z]\n",
        "\n",
        "        value += spin[x-1, y, z]\n",
        "        if (x % 2 == 0):\n",
        "            value += spin[x-1, y-1, z]\n",
        "        else:\n",
        "            value += spin[x-1, bvc(y+1), z]\n",
        "\n",
        "        value += spin[x, bvc(y+1), z]\n",
        "        value += spin[x, y-1, z]\n",
        "\n",
        "        return value\n",
        "    \n",
        "    ener = 0\n",
        "    z = cuda.grid (1)\n",
        "    for x in range (spin.shape[0]):\n",
        "        for y in range (spin.shape[1]):\n",
        "            ener -= spin[x,y,z]*sum_nn(x,y,z)\n",
        "    energy[z] = 0.5*ener"
      ],
      "execution_count": null,
      "outputs": []
    },
    {
      "cell_type": "code",
      "metadata": {
        "id": "HONUgn-senDC"
      },
      "source": [
        "@cuda.jit\n",
        "def update_black(spin, seed, T, Jnn):\n",
        "    def random_uniform(x, y, z):\n",
        "        seed[x, y, z] = np.int32((seed[x, y, z]*1664525 + 1013904223) % 2**31)\n",
        "        return seed[x, y, z] / (2**31)\n",
        "\n",
        "    def bvc(x):\n",
        "        if x == spin.shape[0]:\n",
        "            return 0\n",
        "        else:\n",
        "            return x\n",
        "\n",
        "    def sum_nn(x, y, z):\n",
        "        sum = 0\n",
        "        sum += Jnn[x, y, 0]*spin[bvc(x+1), y, z]\n",
        "        sum += Jnn[x, y, 1]*spin[x, bvc(y+1), z]\n",
        "        sum += Jnn[x-1, y, 0]*spin[x-1, y, z]\n",
        "        sum += Jnn[x, y-1, 1]*spin[x, y-1, z]\n",
        "        return sum\n",
        "\n",
        "    def calc(x, y, z):\n",
        "        probs = random_uniform(x, y, z)\n",
        "        delta = 2*spin[x, y, z]*sum_nn(x, y, z)\n",
        "        if probs < math.exp(-delta/T[0]):\n",
        "            spin[x, y, z] *= np.int8(-1)\n",
        "            #energy[z] += delta\n",
        "\n",
        "    x, y, z = cuda.grid(3)\n",
        "    p, q = x % 2, y % 2\n",
        "    if x < spin.shape[0] and y < spin.shape[1] and z < spin.shape[2]:\n",
        "        if (p == 0 and q == 0) or (p == 1 and q == 1):\n",
        "            calc(x, y, z)\n",
        "\n",
        "@cuda.jit\n",
        "def update_white(spin, seed, T, Jnn):\n",
        "    def random_uniform(x, y, z):\n",
        "        seed[x, y, z] = np.int32((seed[x, y, z]*1664525 + 1013904223) % 2**31)\n",
        "        return seed[x, y, z] / (2**31)\n",
        "\n",
        "    def bvc(x):\n",
        "        if x == spin.shape[0]:\n",
        "            return 0\n",
        "        else:\n",
        "            return x\n",
        "\n",
        "    def sum_nn(x, y, z):\n",
        "        sum = 0\n",
        "        sum += Jnn[x, y, 0]*spin[bvc(x+1), y, z]\n",
        "        sum += Jnn[x, y, 1]*spin[x, bvc(y+1), z]\n",
        "        sum += Jnn[x-1, y, 0]*spin[x-1, y, z]\n",
        "        sum += Jnn[x, y-1, 1]*spin[x, y-1, z]\n",
        "        return sum\n",
        "\n",
        "    def calc(x, y, z):\n",
        "        probs = random_uniform(x, y, z)\n",
        "        delta = 2*spin[x, y, z]*sum_nn(x, y, z)\n",
        "        if probs < math.exp(-delta/T[0]):\n",
        "            spin[x, y, z] *= np.int8(-1)\n",
        "            #energy[z] += delta\n",
        "\n",
        "    x, y, z = cuda.grid(3)\n",
        "    p, q = x % 2, y % 2\n",
        "    if x < spin.shape[0] and y < spin.shape[1] and z < spin.shape[2]:\n",
        "        if (p == 1 and q == 0) or (p == 0 and q == 1):\n",
        "            calc(x, y, z)\n",
        "\n",
        "@cuda.jit\n",
        "def parallel_temper(spin, T, seed, energy):\n",
        "    z = cuda.grid(1)\n",
        "\n",
        "    rand_n = 0 if float32(seed[0, 0, 0]/2**31) < 0.5 else 1\n",
        "    ptr = 2*z + rand_n\n",
        "    if ptr < energy.shape[0]-1:\n",
        "        val0 = 1./T[ptr]\n",
        "        val1 = 1./T[ptr+1]\n",
        "        e0 = energy[ptr]\n",
        "        e1 = energy[ptr+1]\n",
        "        rand_unif = float32(seed[0, 1, z] / 2**31)\n",
        "        arg = (e0 - e1)*(val0 - val1)\n",
        "        if (arg < 0):\n",
        "            if rand_unif < math.exp(arg):\n",
        "                T[ptr] = 1/val1\n",
        "                T[ptr+1] = 1/val0\n",
        "        else:\n",
        "            T[ptr] = 1/val1\n",
        "            T[ptr+1] = 1/val0\n",
        "\n",
        "@cuda.jit\n",
        "def calc_energy (spin, J_nn, energy): #m_ threads on a single block...\n",
        "    def bvc(x):\n",
        "        if x == spin.shape[1]:\n",
        "            return 0\n",
        "        else:\n",
        "            return x\n",
        "\n",
        "    z = cuda.grid (1)\n",
        "    len_ = spin.shape[1]\n",
        "    ener = 0\n",
        "    for x in range(len_):\n",
        "        for y in range(len_):\n",
        "            ener -= J_nn[x,y,0] * spin[x,y,z]*spin[bvc(x+1),y,z]\n",
        "            ener -= J_nn[x,y,1] * spin[x,y,z]*spin[x,bvc(y+1),z]\n",
        "\n",
        "    energy[z] = ener"
      ],
      "execution_count": null,
      "outputs": []
    },
    {
      "cell_type": "markdown",
      "metadata": {
        "id": "QLb-18ZTjIne"
      },
      "source": [
        "### Simulator class"
      ]
    },
    {
      "cell_type": "code",
      "metadata": {
        "id": "sICqy3-dem_0"
      },
      "source": [
        "class SpinGlassData ():\n",
        "    def __init__(self, lat_len= 48, ens_size=80):\n",
        "        self.shape = (lat_len, lat_len)\n",
        "        self.m = ens_size\n",
        "        self.tpb = (8,8,1)\n",
        "        self.spin = cp.random.choice ([1,-1], self.shape+(self.m,)).astype(np.int8)\n",
        "        self.spin2 = cp.random.choice ([1,-1], self.shape+(self.m//2,)).astype(np.int8)\n",
        "        self.seed = cp.random.randint (-10000,10000, size=self.shape+(self.m,),\n",
        "                                       dtype=np.int32)\n",
        "        self.energy = cp.zeros (self.m, np.float32)\n",
        "        self.energy2 = cp.zeros (self.m//2, np.float32)\n",
        "    \n",
        "    def equilib_EA (self):\n",
        "        temp = 0.5\n",
        "        J_nn = cp.random.uniform (-1.73205, 1.73205, self.shape+(2,), dtype=np.float32)\n",
        "        vr_T = cp.linspace (temp, temp+2.5, self.m, dtype=np.float32)\n",
        "        bpg = (self.shape[0]//self.tpb[0],self.shape[1]//self.tpb[1], self.m)\n",
        "        for _ in range(250):\n",
        "            for _ in range (5):\n",
        "                update_black[bpg,self.tpb] (self.spin, self.seed, vr_T, J_nn)\n",
        "                update_white[bpg,self.tpb] (self.spin, self.seed, vr_T, J_nn)\n",
        "            calc_energy[1, self.m](self.spin, J_nn, self.energy)\n",
        "            parallel_temper[1, self.m//2] (self.spin, vr_T, self.seed, self.energy)\n",
        "        vr_T = cp.full (self.m, temp, np.float32)\n",
        "        for _ in range (500):\n",
        "            update_black[bpg, self.tpb] (self.spin, self.seed, vr_T, J_nn)\n",
        "            update_white[bpg, self.tpb] (self.spin, self.seed, vr_T, J_nn)\n",
        "        calc_energy[1, self.m](self.spin, J_nn, self.energy)\n",
        "        order = cp.asnumpy(cp.argsort (self.energy))\n",
        "        return cp.asnumpy(self.spin)[...,order[:self.m//2]]\n",
        "\n",
        "    def equilib_TriAFM (self):\n",
        "        temp = 0.5\n",
        "        bpg = (self.shape[0]//self.tpb[0], self.shape[1]//self.tpb[1], self.m)\n",
        "        vr_T = cp.array ([temp])\n",
        "        for _ in range (500):\n",
        "            update_red[bpg, self.tpb] (self.spin2, self.seed, vr_T)\n",
        "            update_blue[bpg, self.tpb] (self.spin2, self.seed, vr_T)\n",
        "            update_green[bpg, self.tpb] (self.spin2, self.seed, vr_T)\n",
        "        calc_energy_Tri[1, self.m//2](self.spin2, self.energy2)\n",
        "        order = cp.asnumpy(cp.argsort (self.energy2))\n",
        "        return cp.asnumpy(self.spin2)[...,order]\n",
        "    \n",
        "    def generate_train_data (self, train_len=2000):\n",
        "        t_lattice = []\n",
        "        t_label = []\n",
        "        for _ in range (train_len//2):\n",
        "            t_lattice.append (self.equilib_EA())\n",
        "            t_label.append (0)\n",
        "        for _ in range (train_len//2):\n",
        "            t_lattice.append (self.equilib_TriAFM())\n",
        "            t_label.append (1)\n",
        "        t_lattice = (0.5*np.stack (t_lattice)).astype (np.float32)\n",
        "        t_label = np.stack (t_label).astype (np.int8)\n",
        "        t_data = tf.data.Dataset.from_tensor_slices ((t_lattice, t_label))\n",
        "        return t_data.shuffle (buffer_size=train_len)"
      ],
      "execution_count": null,
      "outputs": []
    },
    {
      "cell_type": "markdown",
      "metadata": {
        "id": "L1HS6bAqWBTY"
      },
      "source": [
        "### Data generation"
      ]
    },
    {
      "cell_type": "code",
      "metadata": {
        "id": "Yyob6wX7VjKi"
      },
      "source": [
        "simulator = SpinGlassData ()"
      ],
      "execution_count": null,
      "outputs": []
    },
    {
      "cell_type": "code",
      "metadata": {
        "id": "zgHC9wPlVrt3"
      },
      "source": [
        "train_data = simulator.generate_train_data (500)\n",
        "output.eval_js('new Audio(\"https://upload.wikimedia.org/wikipedia/commons/0/05/Beep-09.ogg\").play()')"
      ],
      "execution_count": null,
      "outputs": []
    },
    {
      "cell_type": "markdown",
      "metadata": {
        "id": "VjRpYu36LGbL"
      },
      "source": [
        "### Saving and Loading Data"
      ]
    },
    {
      "cell_type": "code",
      "metadata": {
        "id": "TvCUeQPamTYr"
      },
      "source": [
        "def save_dataset (num, train_data):\n",
        "    def serialize_example(lattice, label):\n",
        "        \"\"\"\n",
        "        Creates a tf.train.Example message ready to be written to a file.\n",
        "        \"\"\"\n",
        "\n",
        "        def _bytes_feature(value):\n",
        "            \"\"\"Returns a bytes_list from a string / byte.\"\"\"\n",
        "            #value = tf.io.serialize_tensor(value)\n",
        "            if isinstance(value, type(tf.constant(0))):\n",
        "                value = tf.io.serialize_tensor(value).numpy()\n",
        "            return tf.train.Feature(bytes_list=tf.train.BytesList(value=[value]))\n",
        "\n",
        "        def _int64_feature(value):\n",
        "            \"\"\"Returns an int64_list from a bool / enum / int / uint.\"\"\"\n",
        "            return tf.train.Feature(int64_list=tf.train.Int64List(value=[value]))\n",
        "\n",
        "        # Create a dictionary mapping the feature name to the tf.train.Example-compatible\n",
        "        # data type.\n",
        "        feat = { \n",
        "            'lattice': _bytes_feature(lattice),\n",
        "            'label': _int64_feature(label),\n",
        "        }\n",
        "        # Create a Features message using tf.train.Example.\n",
        "        example_proto = tf.train.Example(features=tf.train.Features(feature=feat))\n",
        "        return tf.reshape(example_proto.SerializeToString(),())\n",
        "\n",
        "    def tf_serialize_example(lattice,label):\n",
        "        tf_string = tf.py_function(\n",
        "            serialize_example,\n",
        "            (lattice,label),  # pass these args to the above function.\n",
        "            tf.string)      # the return type is `tf.string`.\n",
        "        return tf.reshape(tf_string, ()) # The result is a scalar\n",
        "\n",
        "\n",
        "    serialised_dataset = train_data.map (tf_serialize_example)\n",
        "\n",
        "    filename = folder_path+'Training Data/EA_TriAFM2d_48_500('+num+').tfrecord'\n",
        "    writer = tf.data.experimental.TFRecordWriter(filename)\n",
        "    writer.write(serialised_dataset)\n",
        "\n",
        "save_dataset ('4',train_data)"
      ],
      "execution_count": null,
      "outputs": []
    },
    {
      "cell_type": "code",
      "metadata": {
        "id": "ZNBrhObbMPQd"
      },
      "source": [
        "def extract_dataset (num):\n",
        "    filename = folder_path+'Training Data/EA_TriAFM2d_48_500('+num+').tfrecord'\n",
        "    raw_dataset = tf.data.TFRecordDataset(filename)\n",
        "\n",
        "    def _parse_function(example_proto):\n",
        "        # Parse the input `tf.train.Example` proto using the dictionary below.\n",
        "        feature_description = { \n",
        "            'lattice': tf.io.FixedLenFeature([], tf.string, default_value=''),\n",
        "            'label': tf.io.FixedLenFeature([], tf.int64, default_value=0),\n",
        "        }\n",
        "        return tf.io.parse_single_example(example_proto, feature_description)\n",
        "\n",
        "    parsed_dataset = raw_dataset.map(_parse_function)\n",
        "\n",
        "    def lat_parser (record):\n",
        "        record = (tf.ensure_shape (tf.io.parse_tensor(record['lattice'],tf.float32),\n",
        "                                   simulator.shape+(simulator.m//2,)),\n",
        "                  record['label'])\n",
        "        return record\n",
        "    dataset = parsed_dataset.map (lat_parser)\n",
        "    return dataset\n",
        "\n",
        "train_data = extract_dataset ('1')\n",
        "train_data = train_data.concatenate(extract_dataset ('2'))\n",
        "train_data = train_data.concatenate(extract_dataset ('3'))\n",
        "train_data = train_data.concatenate(extract_dataset ('4'))"
      ],
      "execution_count": null,
      "outputs": []
    },
    {
      "cell_type": "code",
      "metadata": {
        "id": "3Vw9FrEQSQrG"
      },
      "source": [
        "val_data = train_data.take (400)\n",
        "train_data = train_data.skip (400)\n",
        "train_data = train_data.batch (8)\n",
        "val_data = val_data.batch (8)"
      ],
      "execution_count": null,
      "outputs": []
    },
    {
      "cell_type": "markdown",
      "metadata": {
        "id": "wvnfrOxJZkb3"
      },
      "source": [
        "## Neural network initialization and training"
      ]
    },
    {
      "cell_type": "code",
      "metadata": {
        "id": "ttE9H7djGwsy"
      },
      "source": [
        "brain = tfk. Sequential([\n",
        "    tfk.layers.Conv2D(64, (2,2), activation='relu', input_shape = simulator.shape+(simulator.m//2,)),\n",
        "    tfk.layers.MaxPool2D (),\n",
        "    tfk.layers.Conv2D(64, (2,2), activation='relu'),\n",
        "    tfk.layers.Flatten(),\n",
        "    tfk.layers.Dense(64, activation='relu'),\n",
        "    tfk.layers.Dropout(0.3),\n",
        "    tfk.layers.Dense(2, activation='softmax')\n",
        "])"
      ],
      "execution_count": null,
      "outputs": []
    },
    {
      "cell_type": "code",
      "metadata": {
        "id": "UGBqCfoMador"
      },
      "source": [
        "brain.compile(optimizer='adam',\n",
        "              loss='sparse_categorical_crossentropy',\n",
        "              metrics=['accuracy'])"
      ],
      "execution_count": null,
      "outputs": []
    },
    {
      "cell_type": "code",
      "metadata": {
        "id": "YgOnaiDKapag",
        "colab": {
          "base_uri": "https://localhost:8080/",
          "height": 56
        },
        "outputId": "e7460823-b670-401f-8840-bef8fafbcbd2"
      },
      "source": [
        "hist = brain.fit (train_data, epochs=1, validation_data=val_data)"
      ],
      "execution_count": null,
      "outputs": [
        {
          "output_type": "stream",
          "text": [
            "200/200 [==============================] - 3s 14ms/step - loss: 0.5319 - accuracy: 0.7375 - val_loss: 0.0849 - val_accuracy: 1.0000\n"
          ],
          "name": "stdout"
        }
      ]
    },
    {
      "cell_type": "code",
      "metadata": {
        "id": "blAN7Fo0lC7o"
      },
      "source": [
        "brain.save(folder_path+'NN Models/EA_TriAFM2d_48.h5')"
      ],
      "execution_count": null,
      "outputs": []
    },
    {
      "cell_type": "markdown",
      "metadata": {
        "id": "eqUwFBjjkYu4"
      },
      "source": [
        "Testing neural network accuracy"
      ]
    },
    {
      "cell_type": "code",
      "metadata": {
        "id": "EvCsVILia7kE"
      },
      "source": [
        "test_data = simulator.generate_train_data (200)\n",
        "output.eval_js('new Audio(\"https://upload.wikimedia.org/wikipedia/commons/0/05/Beep-09.ogg\").play()')"
      ],
      "execution_count": null,
      "outputs": []
    },
    {
      "cell_type": "code",
      "metadata": {
        "id": "4RFwb4oakYDw",
        "colab": {
          "base_uri": "https://localhost:8080/",
          "height": 55
        },
        "outputId": "5ded0b3c-7c06-4958-b059-ffb5869f6db2"
      },
      "source": [
        "test_data = test_data.batch (8)\n",
        "brain.evaluate (test_data)"
      ],
      "execution_count": null,
      "outputs": [
        {
          "output_type": "stream",
          "text": [
            "25/25 [==============================] - 0s 4ms/step - loss: 0.0914 - accuracy: 1.0000\n"
          ],
          "name": "stdout"
        },
        {
          "output_type": "execute_result",
          "data": {
            "text/plain": [
              "[0.09139034152030945, 1.0]"
            ]
          },
          "metadata": {
            "tags": []
          },
          "execution_count": 77
        }
      ]
    },
    {
      "cell_type": "code",
      "metadata": {
        "id": "ABRZLvVwmhIA"
      },
      "source": [
        ""
      ],
      "execution_count": null,
      "outputs": []
    },
    {
      "cell_type": "markdown",
      "metadata": {
        "id": "PR-sm_MBnadq"
      },
      "source": [
        "# Classify Triangular Uniform EA and Triangular AFM ensembles"
      ]
    },
    {
      "cell_type": "code",
      "metadata": {
        "id": "2RSGhsLRpwtK",
        "colab": {
          "base_uri": "https://localhost:8080/",
          "height": 257
        },
        "outputId": "4d300161-e422-46a0-ba49-0f0353e491e7"
      },
      "source": [
        "!curl https://colab.chainer.org/install | sh -"
      ],
      "execution_count": null,
      "outputs": [
        {
          "output_type": "stream",
          "text": [
            "  % Total    % Received % Xferd  Average Speed   Time    Time     Time  Current\n",
            "                                 Dload  Upload   Total   Spent    Left  Speed\n",
            "\r  0     0    0     0    0     0      0      0 --:--:-- --:--:-- --:--:--     0\r100  1580  100  1580    0     0   8586      0 --:--:-- --:--:-- --:--:--  8540\r100  1580  100  1580    0     0   8540      0 --:--:-- --:--:-- --:--:--  8540\n",
            "+ apt -y -q install cuda-libraries-dev-10-0\n",
            "Reading package lists...\n",
            "Building dependency tree...\n",
            "Reading state information...\n",
            "cuda-libraries-dev-10-0 is already the newest version (10.0.130-1).\n",
            "0 upgraded, 0 newly installed, 0 to remove and 6 not upgraded.\n",
            "+ pip install -q cupy-cuda100  chainer \n",
            "\u001b[K     |████████████████████████████████| 369.6MB 51kB/s \n",
            "\u001b[?25h+ set +ex\n",
            "Installation succeeded!\n"
          ],
          "name": "stdout"
        }
      ]
    },
    {
      "cell_type": "code",
      "metadata": {
        "id": "2_6UVqpip10r"
      },
      "source": [
        "import math\n",
        "import numpy as np\n",
        "import cupy as cp\n",
        "import matplotlib.pyplot as plt\n",
        "import tensorflow.keras as tfk\n",
        "import tensorflow as tf\n",
        "from numba import cuda, float32, int32"
      ],
      "execution_count": null,
      "outputs": []
    },
    {
      "cell_type": "code",
      "metadata": {
        "id": "5N6jqz8hp7xJ",
        "colab": {
          "base_uri": "https://localhost:8080/",
          "height": 35
        },
        "outputId": "09ddda9e-9716-4f48-86ea-19daf1a54d10"
      },
      "source": [
        "from google.colab import drive\n",
        "from google.colab import output\n",
        "drive.mount('/content/drive', force_remount=True)\n",
        "folder_path = \"/content/drive/My Drive/Project Presentations/Spin_glass_phase_classification/\""
      ],
      "execution_count": null,
      "outputs": [
        {
          "output_type": "stream",
          "text": [
            "Mounted at /content/drive\n"
          ],
          "name": "stdout"
        }
      ]
    },
    {
      "cell_type": "markdown",
      "metadata": {
        "id": "6yX0o7uGnwVA"
      },
      "source": [
        "## Necessary cuda kernels"
      ]
    },
    {
      "cell_type": "code",
      "metadata": {
        "id": "zGEyV3aAn-2o"
      },
      "source": [
        "#Triangular AFM Simulation\n",
        "@cuda.jit\n",
        "def update_red(spin, seed, T):\n",
        "    J = -1.0  # Nearest neighbour coupling constant\n",
        "\n",
        "    def random_uniform(x, y, z):\n",
        "        seed[x, y, z] = np.int32((seed[x, y, z]*1664525 + 1013904223) % 2**31)\n",
        "        return seed[x, y, z] / (2**31)\n",
        "\n",
        "    def bvc (x):\n",
        "        if x == spin.shape[0]:\n",
        "            x = 0\n",
        "        return x       \n",
        "\n",
        "    def sum_nn(x, y, z):  # This adds spins of six neighbours instead of 4 subject to\n",
        "        #many constraints characteristic of triangular lattices\n",
        "\n",
        "        value = 0\n",
        "        value += spin[x, bvc(y+1), z]\n",
        "        if (y % 2 == 0):\n",
        "            value += spin[x-1, bvc(y+1),z]\n",
        "        else:\n",
        "            value += spin[bvc(x+1), bvc(y+1), z]\n",
        "\n",
        "        value += spin[x, y-1, z]\n",
        "        if (y % 2 == 0):\n",
        "            value += spin[x-1, y-1, z]\n",
        "        else:\n",
        "            value += spin [bvc(x+1), y-1, z]\n",
        "\n",
        "        value += spin[bvc(x+1), y, z]\n",
        "        value += spin[x-1, y, z]\n",
        "\n",
        "        return value\n",
        "\n",
        "    def calc(x, y, z):\n",
        "        probs = random_uniform(x, y, z)\n",
        "        if (probs < math.exp(-2*J*spin[x, y, z]*sum_nn(x, y, z)/T[0])):\n",
        "            spin[x, y, z] *= np.int8(-1)\n",
        "\n",
        "    x, y, z = cuda.grid(3)\n",
        "    p, q = x % 3, y % 2\n",
        "\n",
        "    if x < spin.shape[0] and y < spin.shape[1] and z < spin.shape[2]:\n",
        "        if (p == 0 and q == 0) or (p == 1 and q == 1):\n",
        "            calc(x, y, z)\n",
        "\n",
        "@cuda.jit\n",
        "def update_blue(spin, seed, T):\n",
        "    J = -1.0  # Nearest neighbour coupling constant\n",
        "\n",
        "    def random_uniform(x, y, z):\n",
        "        seed[x, y, z] = np.int32((seed[x, y, z]*1664525 + 1013904223) % 2**31)\n",
        "        return seed[x, y, z] / (2**31)\n",
        "\n",
        "    def bvc (x):\n",
        "        if x == spin.shape[0]:\n",
        "            x = 0\n",
        "        return x\n",
        "\n",
        "    def sum_nn(x, y, z):  # This adds spins of six neighbours instead of 4 subject to\n",
        "        #many constraints characteristic of triangular lattices\n",
        "\n",
        "        value = 0\n",
        "        value += spin[x, bvc(y+1), z]\n",
        "        if (y % 2 == 0):\n",
        "            value += spin[x-1, bvc(y+1),z]\n",
        "        else:\n",
        "            value += spin[bvc(x+1), bvc(y+1), z]\n",
        "\n",
        "        value += spin[x, y-1, z]\n",
        "        if (y % 2 == 0):\n",
        "            value += spin[x-1, y-1, z]\n",
        "        else:\n",
        "            value += spin [bvc(x+1), y-1, z]\n",
        "\n",
        "        value += spin[bvc(x+1), y, z]\n",
        "        value += spin[x-1, y, z]\n",
        "\n",
        "        return value\n",
        "\n",
        "    def calc(x, y, z):\n",
        "        probs = random_uniform(x, y, z)\n",
        "        if (probs < math.exp(-2*J*spin[x, y, z]*sum_nn(x, y, z)/T[0])):\n",
        "            spin[x, y, z] *= np.int8(-1)\n",
        "\n",
        "    x, y, z = cuda.grid(3)\n",
        "    p, q = x % 3, y % 2\n",
        "\n",
        "    if x < spin.shape[0] and y < spin.shape[1] and z < spin.shape[2]:\n",
        "        if (p == 1 and q == 0) or (p == 2 and q == 1):\n",
        "            calc(x, y, z)\n",
        "\n",
        "@cuda.jit\n",
        "def update_green (spin, seed, T):\n",
        "    J = -1.0  # Nearest neighbour coupling constant\n",
        "\n",
        "    def random_uniform(x, y, z):\n",
        "        seed[x, y, z] = np.int32((seed[x, y, z]*1664525 + 1013904223) % 2**31)\n",
        "        return seed[x, y, z] / (2**31)\n",
        "\n",
        "    def bvc (x):\n",
        "        if x == spin.shape[0]:\n",
        "            x = 0\n",
        "        return x\n",
        "\n",
        "    def sum_nn(x, y, z):  # This adds spins of six neighbours instead of 4 subject to\n",
        "        #many constraints characteristic of triangular lattices\n",
        "\n",
        "        value = 0\n",
        "        value += spin[x, bvc(y+1), z]\n",
        "        if (y % 2 == 0):\n",
        "            value += spin[x-1, bvc(y+1),z]\n",
        "        else:\n",
        "            value += spin[bvc(x+1), bvc(y+1), z]\n",
        "\n",
        "        value += spin[x, y-1, z]\n",
        "        if (y % 2 == 0):\n",
        "            value += spin[x-1, y-1, z]\n",
        "        else:\n",
        "            value += spin [bvc(x+1), y-1, z]\n",
        "\n",
        "        value += spin[bvc(x+1), y, z]\n",
        "        value += spin[x-1, y, z]\n",
        "\n",
        "        return value\n",
        "\n",
        "    def calc(x, y, z):\n",
        "        probs = random_uniform(x, y, z)\n",
        "        if (probs < math.exp(-2*J*spin[x, y, z]*sum_nn(x, y, z)/T[0])):\n",
        "            spin[x, y, z] *= np.int8(-1)\n",
        "\n",
        "    x, y, z = cuda.grid(3)\n",
        "    p, q = x % 3, y % 2\n",
        "\n",
        "    if x < spin.shape[0] and y < spin.shape[1] and z < spin.shape[2]:\n",
        "        if (p == 2 and q == 0) or (p == 0 and q == 1):\n",
        "            calc(x, y, z)\n",
        "\n",
        "@cuda.jit\n",
        "def calc_energy_Tri (spin, energy):\n",
        "    def bvc (x):\n",
        "        if x == spin.shape[1]:\n",
        "            x = 0\n",
        "        return x\n",
        "    \n",
        "    def sum_nn_part(x, y, z):  # This adds spins of six neighbours instead of 4 subject to\n",
        "        #many constraints characteristic of triangular lattices\n",
        "\n",
        "        value = 0\n",
        "        value += spin[x, bvc(y+1), z]\n",
        "        if (y % 2 == 0):\n",
        "            value += spin[x-1, bvc(y+1),z]\n",
        "        else:\n",
        "            value += spin[bvc(x+1), bvc(y+1), z]\n",
        "\n",
        "        value += spin[bvc(x+1), y, z]\n",
        "        return value\n",
        "    \n",
        "    ener = 0\n",
        "    z = cuda.grid (1)\n",
        "    for x in range (spin.shape[0]):\n",
        "        for y in range (spin.shape[1]):\n",
        "            ener -= spin[x,y,z]*sum_nn_part(x,y,z)\n",
        "    energy[z] = ener"
      ],
      "execution_count": null,
      "outputs": []
    },
    {
      "cell_type": "code",
      "metadata": {
        "id": "2uXjjSzmoW_L"
      },
      "source": [
        "#Triangular EA Simulation\n",
        "@cuda.jit\n",
        "def update_red_ea(spin, seed, T, J_nn):\n",
        "\n",
        "    def random_uniform(x, y, z):\n",
        "        seed[x, y, z] = np.int32((seed[x, y, z]*1664525 + 1013904223) % 2**31)\n",
        "        return seed[x, y, z] / (2**31)\n",
        "\n",
        "    def bvc (x):\n",
        "        if x == spin.shape[0]:\n",
        "            x = 0\n",
        "        return x       \n",
        "\n",
        "    def sum_nn(x, y, z):  # This adds spins of six neighbours instead of 4 subject to\n",
        "        #many constraints characteristic of triangular lattices\n",
        "        value = 0.\n",
        "        if (y % 2 == 0):\n",
        "            value += J_nn[x,y,0]*spin[x, bvc(y+1), z]\n",
        "            value += J_nn[x-1, bvc(y+1),2]*spin[x-1, bvc(y+1), z]\n",
        "            value += J_nn[x,y,2]*spin[x, y-1, z]\n",
        "            value += J_nn[x-1,y-1,0]*spin[x-1, y-1, z]\n",
        "        else:\n",
        "            value += J_nn[x,y,0]*spin[bvc(x+1), bvc(y+1), z]\n",
        "            value += J_nn[x,bvc(y+1),2]*spin[x, bvc(y+1), z]\n",
        "            value += J_nn[x,y,2]*spin[bvc(x+1), y-1, z]\n",
        "            value += J_nn[x,y-1,0]*spin[x, y-1, z]\n",
        "\n",
        "        value += J_nn[x,y,1]*spin[bvc(x+1), y, z]\n",
        "        value += J_nn[x-1,y,1]*spin[x-1, y, z]\n",
        "        return value\n",
        "\n",
        "    def calc(x, y, z):\n",
        "        probs = random_uniform(x, y, z)\n",
        "        if (probs < math.exp(2*spin[x, y, z]*sum_nn(x, y, z)/T[0])):\n",
        "            spin[x, y, z] *= np.int8(-1)\n",
        "\n",
        "    x, y, z = cuda.grid(3)\n",
        "    p, q = x % 3, y % 2\n",
        "\n",
        "    if x < spin.shape[0] and y < spin.shape[1] and z < spin.shape[2]:\n",
        "        if (p == 0 and q == 0) or (p == 1 and q == 1):\n",
        "            calc(x, y, z)\n",
        "\n",
        "@cuda.jit\n",
        "def update_blue_ea(spin, seed, T, J_nn):\n",
        "\n",
        "    def random_uniform(x, y, z):\n",
        "        seed[x, y, z] = np.int32((seed[x, y, z]*1664525 + 1013904223) % 2**31)\n",
        "        return seed[x, y, z] / (2**31)\n",
        "\n",
        "    def bvc (x):\n",
        "        if x == spin.shape[0]:\n",
        "            x = 0\n",
        "        return x       \n",
        "\n",
        "    def sum_nn(x, y, z):  # This adds spins of six neighbours instead of 4 subject to\n",
        "        #many constraints characteristic of triangular lattices\n",
        "        value = 0.\n",
        "        if (y % 2 == 0):\n",
        "            value += J_nn[x,y,0]*spin[x, bvc(y+1), z]\n",
        "            value += J_nn[x-1, bvc(y+1),2]*spin[x-1, bvc(y+1), z]\n",
        "            value += J_nn[x,y,2]*spin[x, y-1, z]\n",
        "            value += J_nn[x-1,y-1,0]*spin[x-1, y-1, z]\n",
        "        else:\n",
        "            value += J_nn[x,y,0]*spin[bvc(x+1), bvc(y+1), z]\n",
        "            value += J_nn[x,bvc(y+1),2]*spin[x, bvc(y+1), z]\n",
        "            value += J_nn[x,y,2]*spin[bvc(x+1), y-1, z]\n",
        "            value += J_nn[x,y-1,0]*spin[x, y-1, z]\n",
        "\n",
        "        value += J_nn[x,y,1]*spin[bvc(x+1), y, z]\n",
        "        value += J_nn[x-1,y,1]*spin[x-1, y, z]\n",
        "        return value\n",
        "\n",
        "    def calc(x, y, z):\n",
        "        probs = random_uniform(x, y, z)\n",
        "        if (probs < math.exp(2*spin[x, y, z]*sum_nn(x, y, z)/T[0])):\n",
        "            spin[x, y, z] *= np.int8(-1)\n",
        "\n",
        "    x, y, z = cuda.grid(3)\n",
        "    p, q = x % 3, y % 2\n",
        "\n",
        "    if x < spin.shape[0] and y < spin.shape[1] and z < spin.shape[2]:\n",
        "        if (p == 1 and q == 0) or (p == 2 and q == 1):\n",
        "            calc(x, y, z)\n",
        "\n",
        "#Triangular EA Simulation\n",
        "@cuda.jit\n",
        "def update_green_ea(spin, seed, T, J_nn):\n",
        "\n",
        "    def random_uniform(x, y, z):\n",
        "        seed[x, y, z] = np.int32((seed[x, y, z]*1664525 + 1013904223) % 2**31)\n",
        "        return seed[x, y, z] / (2**31)\n",
        "\n",
        "    def bvc (x):\n",
        "        if x == spin.shape[0]:\n",
        "            x = 0\n",
        "        return x       \n",
        "\n",
        "    def sum_nn(x, y, z):  # This adds spins of six neighbours instead of 4 subject to\n",
        "        #many constraints characteristic of triangular lattices\n",
        "        value = 0.\n",
        "        if (y % 2 == 0):\n",
        "            value += J_nn[x,y,0]*spin[x, bvc(y+1), z]\n",
        "            value += J_nn[x-1,bvc(y+1),2]*spin[x-1, bvc(y+1), z]\n",
        "            value += J_nn[x,y,2]*spin[x, y-1, z]\n",
        "            value += J_nn[x-1,y-1,0]*spin[x-1, y-1, z]\n",
        "        else:\n",
        "            value += J_nn[x,y,0]*spin[bvc(x+1), bvc(y+1), z]\n",
        "            value += J_nn[x,bvc(y+1),2]*spin[x, bvc(y+1), z]\n",
        "            value += J_nn[x,y,2]*spin[bvc(x+1), y-1, z]\n",
        "            value += J_nn[x,y-1,0]*spin[x, y-1, z]\n",
        "\n",
        "        value += J_nn[x,y,1]*spin[bvc(x+1), y, z]\n",
        "        value += J_nn[x-1,y,1]*spin[x-1, y, z]\n",
        "        return value\n",
        "\n",
        "    def calc(x, y, z):\n",
        "        probs = random_uniform(x, y, z)\n",
        "        if (probs < math.exp(2*spin[x, y, z]*sum_nn(x, y, z)/T[0])):\n",
        "            spin[x, y, z] *= np.int8(-1)\n",
        "\n",
        "    x, y, z = cuda.grid(3)\n",
        "    p, q = x % 3, y % 2\n",
        "\n",
        "    if x < spin.shape[0] and y < spin.shape[1] and z < spin.shape[2]:\n",
        "        if (p == 2 and q == 0) or (p == 0 and q == 1):\n",
        "            calc(x, y, z)\n",
        "\n",
        "@cuda.jit\n",
        "def parallel_temper(spin, T, seed, energy):\n",
        "    z = cuda.grid(1)\n",
        "\n",
        "    rand_n = 0 if float32(seed[0, 0, 0]/2**31) < 0.5 else 1\n",
        "    ptr = 2*z + rand_n\n",
        "    if ptr < energy.shape[0]-1:\n",
        "        val0 = 1./T[ptr]\n",
        "        val1 = 1./T[ptr+1]\n",
        "        e0 = energy[ptr]\n",
        "        e1 = energy[ptr+1]\n",
        "        rand_unif = float32(seed[0, 1, z] / 2**31)\n",
        "        arg = (e0 - e1)*(val0 - val1)\n",
        "        if (arg < 0):\n",
        "            if rand_unif < math.exp(arg):\n",
        "                T[ptr] = 1/val1\n",
        "                T[ptr+1] = 1/val0\n",
        "        else:\n",
        "            T[ptr] = 1/val1\n",
        "            T[ptr+1] = 1/val0\n",
        "\n",
        "@cuda.jit\n",
        "def calc_energy_Triea (spin, energy, J_nn):\n",
        "    def bvc (x):\n",
        "        if x == spin.shape[1]:\n",
        "            x = 0\n",
        "        return x\n",
        "    \n",
        "    def sum_nn_part(x, y, z):  # This adds spins of six neighbours instead of 4 subject to\n",
        "        #many constraints characteristic of triangular lattices\n",
        "        value = 0.\n",
        "        if (x % 2 == 0):\n",
        "            value += J_nn[x,y,0]*spin[x, bvc(y+1), z]\n",
        "            value += J_nn[x,y,2]*spin[x, y-1, z]\n",
        "        else:\n",
        "            value += J_nn[x,y,0]*spin[bvc(x+1), bvc(y+1), z]\n",
        "            value += J_nn[x,y,2]*spin[bvc(x+1), y-1, z]\n",
        "\n",
        "        value += J_nn[x,y,1]*spin[bvc(x+1), y, z]\n",
        "        return value\n",
        "    \n",
        "    ener = 0\n",
        "    z = cuda.grid (1)\n",
        "    for x in range (spin.shape[0]):\n",
        "        for y in range (spin.shape[1]):\n",
        "            ener -= spin[x,y,z]*sum_nn_part(x,y,z)\n",
        "    energy[z] = ener"
      ],
      "execution_count": null,
      "outputs": []
    },
    {
      "cell_type": "markdown",
      "metadata": {
        "id": "XgjxS2gzRq6g"
      },
      "source": [
        "## Simulator Class"
      ]
    },
    {
      "cell_type": "code",
      "metadata": {
        "id": "tkKDLhxunlIE"
      },
      "source": [
        "class SpinGlassData ():\n",
        "    def __init__(self, lat_len= 48, ens_size=80):\n",
        "        self.shape = (lat_len, lat_len)\n",
        "        self.m = ens_size\n",
        "        self.tpb = (8,8,1)\n",
        "        self.spin = cp.random.choice ([1,-1], self.shape+(self.m,)).astype(np.int8)\n",
        "        self.spin2 = cp.random.choice ([1,-1], self.shape+(self.m//2,)).astype(np.int8)\n",
        "        self.seed = cp.random.randint (-10000,10000, size=self.shape+(self.m,),\n",
        "                                       dtype=np.int32)\n",
        "        self.energy = cp.zeros (self.m, np.float32)\n",
        "        self.energy2 = cp.zeros (self.m//2, np.float32)\n",
        "        self.Jnn = cp.random.choice ([-1,1], self.shape+(3,)).astype(np.float32)\n",
        "    \n",
        "    def equilib_SqEA (self):\n",
        "        temp = 0.5\n",
        "        J_nn = cp.random.uniform (-1.73205, 1.73205, self.shape+(2,), dtype=np.float32)\n",
        "        vr_T = cp.linspace (temp, temp+2.5, self.m, dtype=np.float32)\n",
        "        bpg = (self.shape[0]//self.tpb[0],self.shape[1]//self.tpb[1], self.m)\n",
        "        for _ in range(250):\n",
        "            for _ in range (5):\n",
        "                update_black[bpg,self.tpb] (self.spin, self.seed, vr_T, J_nn)\n",
        "                update_white[bpg,self.tpb] (self.spin, self.seed, vr_T, J_nn)\n",
        "            calc_energy[1, self.m](self.spin, J_nn, self.energy)\n",
        "            parallel_temper[1, self.m//2] (self.spin, vr_T, self.seed, self.energy)\n",
        "        vr_T = cp.full (self.m, temp, np.float32)\n",
        "        for _ in range (500):\n",
        "            update_black[bpg, self.tpb] (self.spin, self.seed, vr_T, J_nn)\n",
        "            update_white[bpg, self.tpb] (self.spin, self.seed, vr_T, J_nn)\n",
        "        calc_energy[1, self.m](self.spin, J_nn, self.energy)\n",
        "        order = np.argsort (cp.asnumpy (self.energy))\n",
        "        return cp.asnumpy(self.spin)[...,order[:self.m//2]]\n",
        "\n",
        "    def equilib_TriEA (self):\n",
        "        temp = 0.5\n",
        "        J_nn = cp.random.choice ([-1,1], self.shape+(3,)).astype(np.float32)\n",
        "        #Coupling constants are bimodal\n",
        "        vr_T = cp.linspace (temp, temp+2.5, self.m, dtype=np.float32)\n",
        "        bpg = (self.shape[0]//self.tpb[0],self.shape[1]//self.tpb[1], self.m)\n",
        "        for _ in range(200):\n",
        "            for _ in range (4):\n",
        "                update_red_ea[bpg,self.tpb] (self.spin, self.seed, vr_T, J_nn)\n",
        "                update_blue_ea[bpg,self.tpb] (self.spin, self.seed, vr_T, J_nn)\n",
        "                update_green_ea[bpg,self.tpb] (self.spin, self.seed, vr_T, J_nn)\n",
        "            calc_energy_Triea[1, self.m](self.spin, self.energy, J_nn)\n",
        "            parallel_temper[1, self.m//2] (self.spin, vr_T, self.seed, self.energy)\n",
        "        vr_T = cp.full (self.m, temp, np.float32)\n",
        "        for _ in range (500):\n",
        "            update_red_ea[bpg,self.tpb] (self.spin, self.seed, vr_T, J_nn)\n",
        "            update_blue_ea[bpg,self.tpb] (self.spin, self.seed, vr_T, J_nn)\n",
        "            update_green_ea[bpg,self.tpb] (self.spin, self.seed, vr_T, J_nn)\n",
        "        calc_energy_Triea[1, self.m](self.spin, self.energy, J_nn)\n",
        "        order = np.argsort(cp.asnumpy (self.energy))\n",
        "        return cp.asnumpy(self.spin)[...,order[:self.m//2]]\n",
        "\n",
        "    def equilib_TriEA2 (self):\n",
        "        temp = 0.5\n",
        "        vr_T = cp.linspace (temp, temp+2.5, self.m, dtype=np.float32)\n",
        "        bpg = (self.shape[0]//self.tpb[0],self.shape[1]//self.tpb[1], self.m)\n",
        "        for _ in range(200):\n",
        "            for _ in range (4):\n",
        "                update_red_ea[bpg,self.tpb] (self.spin, self.seed, vr_T, self.Jnn)\n",
        "                update_blue_ea[bpg,self.tpb] (self.spin, self.seed, vr_T, self.Jnn)\n",
        "                update_green_ea[bpg,self.tpb] (self.spin, self.seed, vr_T, self.Jnn)\n",
        "            calc_energy_Triea[1, self.m](self.spin, self.energy, self.Jnn)\n",
        "            parallel_temper[1, self.m//2] (self.spin, vr_T, self.seed, self.energy)\n",
        "        vr_T = cp.full (self.m, temp, np.float32)\n",
        "        for _ in range (500):\n",
        "            update_red_ea[bpg,self.tpb] (self.spin, self.seed, vr_T, self.Jnn)\n",
        "            update_blue_ea[bpg,self.tpb] (self.spin, self.seed, vr_T, self.Jnn)\n",
        "            update_green_ea[bpg,self.tpb] (self.spin, self.seed, vr_T, self.Jnn)\n",
        "        calc_energy_Triea[1, self.m](self.spin, self.energy, self.Jnn)\n",
        "        order = np.argsort(cp.asnumpy (self.energy))\n",
        "        return cp.asnumpy(self.spin)[...,order[:self.m//2]]\n",
        "\n",
        "    def equilib_TriAFM (self):\n",
        "        temp = 0.5\n",
        "        bpg = (self.shape[0]//self.tpb[0], self.shape[1]//self.tpb[1], self.m)\n",
        "        vr_T = cp.array ([temp])\n",
        "        for _ in range (500):\n",
        "            update_red[bpg, self.tpb] (self.spin2, self.seed, vr_T)\n",
        "            update_blue[bpg, self.tpb] (self.spin2, self.seed, vr_T)\n",
        "            update_green[bpg, self.tpb] (self.spin2, self.seed, vr_T)\n",
        "        calc_energy_Tri[1, self.m//2](self.spin2, self.energy2)\n",
        "        order = np.argsort(cp.asnumpy (self.energy2))\n",
        "        return cp.asnumpy(self.spin2)[...,order]\n",
        "    \n",
        "    def generate_train_data (self, model='TriAFM', train_len=500):\n",
        "        t_lattice = []\n",
        "        if model == 'TriAFM':\n",
        "            for _ in range (train_len):\n",
        "                t_lattice.append (self.equilib_TriAFM())\n",
        "        elif model == 'TriEA':\n",
        "            for _ in range (train_len):\n",
        "                t_lattice.append (self.equilib_TriEA())\n",
        "        elif model == 'SqEA':\n",
        "            for _ in range (train_len):\n",
        "                t_lattice.append (self.equilib_SqEA())\n",
        "        elif model== 'TriEAconst':\n",
        "            for _ in range (train_len):\n",
        "                t_lattice.append (self.equilib_TriEA2())\n",
        "        else:\n",
        "            raise Exception(\"Input correct value for argument 'model'\")\n",
        "        t_lattice = (0.5*np.stack (t_lattice)).astype (np.float32)\n",
        "        return t_lattice"
      ],
      "execution_count": null,
      "outputs": []
    },
    {
      "cell_type": "code",
      "metadata": {
        "id": "i64K_IJ9pd5h"
      },
      "source": [
        "simulator = SpinGlassData ()"
      ],
      "execution_count": null,
      "outputs": []
    },
    {
      "cell_type": "markdown",
      "metadata": {
        "id": "1WyQOm_6qOUK"
      },
      "source": [
        "## Generate Train Data"
      ]
    },
    {
      "cell_type": "code",
      "metadata": {
        "id": "lxG8l7w_qLTZ"
      },
      "source": [
        "train_lattice = simulator.generate_train_data ('TriEAconst', 500)\n",
        "output.eval_js('new Audio(\"https://upload.wikimedia.org/wikipedia/commons/0/05/Beep-09.ogg\").play()')"
      ],
      "execution_count": null,
      "outputs": []
    },
    {
      "cell_type": "code",
      "metadata": {
        "id": "naQbC6PoloUX",
        "colab": {
          "base_uri": "https://localhost:8080/",
          "height": 35
        },
        "outputId": "89fe715c-9286-4008-a948-1628341b55ba"
      },
      "source": [
        "train_lattice.mean(axis=(1,2,3)).shape"
      ],
      "execution_count": null,
      "outputs": [
        {
          "output_type": "execute_result",
          "data": {
            "text/plain": [
              "(500,)"
            ]
          },
          "metadata": {
            "tags": []
          },
          "execution_count": 21
        }
      ]
    },
    {
      "cell_type": "code",
      "metadata": {
        "id": "fFQFkdriq4v4"
      },
      "source": [
        "np.save (folder_path+'Training Data/TriEA500_48_40_bim(2).npy', train_lattice)"
      ],
      "execution_count": null,
      "outputs": []
    },
    {
      "cell_type": "markdown",
      "metadata": {
        "id": "tLz8zs5bv7fo"
      },
      "source": [
        "## Load saved data and create dataset"
      ]
    },
    {
      "cell_type": "code",
      "metadata": {
        "id": "54fPi6kutzKl"
      },
      "source": [
        "train_lattice = []\n",
        "train_label = []\n",
        "#train_lattice.append (np.load(folder_path+'Training Data/TriAFM_48_40_500(1).npy'))\n",
        "#train_label.append (np.zeros (500, np.int32))\n",
        "#train_lattice.append (np.load(folder_path+'Training Data/TriAFM_48_40_500(2).npy'))\n",
        "#train_label.append (np.zeros (500, np.int32))\n",
        "#train_lattice.append (np.load(folder_path+'Training Data/TriEA_48_40_500(1).npy'))\n",
        "#train_label.append (np.ones (500, np.int32))\n",
        "#train_lattice.append (np.load(folder_path+'Training Data/TriEA_48_40_500(2).npy'))\n",
        "#train_label.append (np.ones (500, np.int32))\n",
        "train_lattice.append (np.load(folder_path+'Training Data/TriEA500_48_40_cons(1).npy'))\n",
        "train_label.append (np.ones (500, np.int32))\n",
        "train_lattice.append (np.load(folder_path+'Training Data/TriEA500_48_40_cons(2).npy'))\n",
        "train_label.append (np.ones (500, np.int32))\n",
        "\n",
        "train_lattice = np.concatenate (train_lattice)\n",
        "train_label = np.concatenate (train_label)\n",
        "\n",
        "#train_data = tf.data.Dataset.from_tensor_slices ((train_lattice,train_label)).shuffle(2000)"
      ],
      "execution_count": null,
      "outputs": []
    },
    {
      "cell_type": "code",
      "metadata": {
        "id": "3tg4Aikxx7KT"
      },
      "source": [
        "val_data = train_data.take (400)\n",
        "train_data = train_data.skip (400)\n",
        "train_data = train_data.batch (8)\n",
        "val_data = val_data.batch (8)"
      ],
      "execution_count": null,
      "outputs": []
    },
    {
      "cell_type": "markdown",
      "metadata": {
        "id": "1C22fOMIz-M9"
      },
      "source": [
        "## Neural network initialization and training"
      ]
    },
    {
      "cell_type": "code",
      "metadata": {
        "id": "qZSBwpBsz-NM"
      },
      "source": [
        "brain = tfk. Sequential([\n",
        "    tfk.layers.Conv2D(64, (2,2), activation='relu', input_shape = simulator.shape+(simulator.m//2,)),\n",
        "    tfk.layers.MaxPool2D (),\n",
        "    tfk.layers.Conv2D(64, (2,2), activation='relu'),\n",
        "    tfk.layers.Flatten(),\n",
        "    tfk.layers.Dense(64, activation='relu'),\n",
        "    tfk.layers.Dropout(0.3),\n",
        "    tfk.layers.Dense(2, activation='softmax')\n",
        "])"
      ],
      "execution_count": null,
      "outputs": []
    },
    {
      "cell_type": "code",
      "metadata": {
        "id": "xmJtLxF6z-Nm"
      },
      "source": [
        "brain.compile(optimizer='adam',\n",
        "              loss='sparse_categorical_crossentropy',\n",
        "              metrics=['accuracy'])"
      ],
      "execution_count": null,
      "outputs": []
    },
    {
      "cell_type": "code",
      "metadata": {
        "id": "LpHOIB0Fz-Nx",
        "colab": {
          "base_uri": "https://localhost:8080/",
          "height": 55
        },
        "outputId": "eef9c8a6-31ca-43c3-ea4b-3646c5203432"
      },
      "source": [
        "hist = brain.fit (train_data, epochs=1, validation_data=val_data)"
      ],
      "execution_count": null,
      "outputs": [
        {
          "output_type": "stream",
          "text": [
            "200/200 [==============================] - 4s 19ms/step - loss: 0.3649 - accuracy: 0.8675 - val_loss: 1.4593e-04 - val_accuracy: 1.0000\n"
          ],
          "name": "stdout"
        }
      ]
    },
    {
      "cell_type": "code",
      "metadata": {
        "id": "ClE5eZDmz-N6"
      },
      "source": [
        "brain.save(folder_path+'NN Models/TriEA_TriAFM2d_48cons.h5')"
      ],
      "execution_count": null,
      "outputs": []
    },
    {
      "cell_type": "markdown",
      "metadata": {
        "id": "5gT3LMLaz-OA"
      },
      "source": [
        "Testing neural network accuracy"
      ]
    },
    {
      "cell_type": "code",
      "metadata": {
        "id": "MC2hAgfkz-OC"
      },
      "source": [
        "test_lat1 = simulator.generate_train_data ('TriAFM',100)\n",
        "test_label1 = np.zeros (100, np.int32)\n",
        "test_lat2 = simulator.generate_train_data ('TriEAconst',100)\n",
        "test_label2 = np.ones (100, np.int32)\n",
        "test_lattice = np.concatenate ([test_lat1,test_lat2])\n",
        "test_label = np.concatenate ([test_label1,test_label2])\n",
        "\n",
        "test_data = tf.data.Dataset.from_tensor_slices ((test_lattice,test_label))\n",
        "test_data = test_data.shuffle(200).batch(8)\n",
        "output.eval_js('new Audio(\"https://upload.wikimedia.org/wikipedia/commons/0/05/Beep-09.ogg\").play()')"
      ],
      "execution_count": null,
      "outputs": []
    },
    {
      "cell_type": "code",
      "metadata": {
        "id": "PoTlGnV2z-OJ",
        "colab": {
          "base_uri": "https://localhost:8080/",
          "height": 54
        },
        "outputId": "0159dbe7-9a1d-4708-e954-f8485b97d23b"
      },
      "source": [
        "brain.evaluate (test_data)"
      ],
      "execution_count": null,
      "outputs": [
        {
          "output_type": "stream",
          "text": [
            "25/25 [==============================] - 0s 4ms/step - loss: 2.6807e-04 - accuracy: 1.0000\n"
          ],
          "name": "stdout"
        },
        {
          "output_type": "execute_result",
          "data": {
            "text/plain": [
              "[0.000268066389253363, 1.0]"
            ]
          },
          "metadata": {
            "tags": []
          },
          "execution_count": 19
        }
      ]
    },
    {
      "cell_type": "code",
      "metadata": {
        "id": "wiQNRf2Zz-OQ"
      },
      "source": [
        ""
      ],
      "execution_count": null,
      "outputs": []
    },
    {
      "cell_type": "code",
      "metadata": {
        "id": "4TQvwNhdzhjq"
      },
      "source": [
        ""
      ],
      "execution_count": null,
      "outputs": []
    },
    {
      "cell_type": "markdown",
      "metadata": {
        "id": "AxzDxDHbYzOi"
      },
      "source": [
        "# Correlation functions of antiferromagnetic and EA spin lattices"
      ]
    },
    {
      "cell_type": "code",
      "metadata": {
        "id": "HEW4isQScqFu"
      },
      "source": [
        "!curl https://colab.chainer.org/install | sh -"
      ],
      "execution_count": null,
      "outputs": []
    },
    {
      "cell_type": "code",
      "metadata": {
        "id": "5FMFmDbKcrcR"
      },
      "source": [
        "import math\n",
        "import numpy as np\n",
        "#import cupy as cp\n",
        "import matplotlib.pyplot as plt\n",
        "import tensorflow.keras as tfk\n",
        "import tensorflow as tf\n",
        "from numba import cuda, float32, int32\n",
        "from scipy.stats import pearsonr"
      ],
      "execution_count": null,
      "outputs": []
    },
    {
      "cell_type": "code",
      "metadata": {
        "id": "RmlUG1NVcuco",
        "colab": {
          "base_uri": "https://localhost:8080/",
          "height": 36
        },
        "outputId": "bff0d02f-066b-45a9-aa31-4db88088243d"
      },
      "source": [
        "from google.colab import drive\n",
        "from google.colab import output\n",
        "drive.mount('/content/drive', force_remount=True)\n",
        "folder_path = \"/content/drive/My Drive/Project Presentations/Spin_glass_phase_classification/\""
      ],
      "execution_count": null,
      "outputs": [
        {
          "output_type": "stream",
          "text": [
            "Mounted at /content/drive\n"
          ],
          "name": "stdout"
        }
      ]
    },
    {
      "cell_type": "markdown",
      "metadata": {
        "id": "4TKNgONTZB5p"
      },
      "source": [
        "We'll make use of data generated from the previous section to perform necessary calculations in this section:\n",
        "$$ G_2 (x_1,x_2) = \\frac{(<x_1x_2> - <x_1><x_2>)^2}{(<x_1^2>-<x_1>^2).(<x_2^2>-<x_2>^2)} $$\n",
        "$$ G_3 (x_1,x_2,x_3) = <x_1x_2x_3> - <x_1x_2><x_3> - <x_1x_3><x_2> - <x_2x_3><x1> - <x_1><x_2><x_3>$$"
      ]
    },
    {
      "cell_type": "code",
      "metadata": {
        "id": "sgPKx7xUZA4u"
      },
      "source": [
        "Tri_ea = np.load (folder_path+'Training Data/TriEA_48_40_500(1).npy')\n",
        "Tri_ea = np.concatenate ([Tri_ea,np.load (folder_path+'Training Data/TriEA_48_40_500(2).npy')])\n",
        "Tri_afm = np.load (folder_path+'Training Data/TriAFM_48_40_500(1).npy')\n",
        "Tri_afm = np.concatenate ([Tri_afm,np.load (folder_path+'Training Data/TriAFM_48_40_500(2).npy')])\n",
        "Tri_ea_cons = (np.load(folder_path+'Training Data/TriEA500_48_40_cons(1).npy'))\n",
        "Tri_ea_cons = np.concatenate ([Tri_ea_cons,np.load (folder_path+'Training Data/TriEA500_48_40_cons(2).npy')])"
      ],
      "execution_count": null,
      "outputs": []
    },
    {
      "cell_type": "markdown",
      "metadata": {
        "id": "ThFLKaywkyTd"
      },
      "source": [
        "## Two point correlation function estimation"
      ]
    },
    {
      "cell_type": "code",
      "metadata": {
        "id": "ZYoy8hNflHbd"
      },
      "source": [
        "#For Triangular antiferromagnetic lattice\n",
        "x1 = []\n",
        "x2 = []\n",
        "corr1 = [] #Result of correlations between x1 and x2\n",
        "for pos1 in range (20):\n",
        "    for pos2 in range (20):\n",
        "        x1.append (np.ravel(Tri_afm[:,pos1,pos2,:]))\n",
        "\n",
        "x1 = np.concatenate (x1)\n",
        "\n",
        "for _ in range (20):\n",
        "    x2.append ([])\n",
        "    corr1.append (0)\n",
        "\n",
        "for r in range (20):\n",
        "    for pos1 in range (20):\n",
        "        for pos2 in range (20):\n",
        "            x2[r].append (np.ravel(Tri_afm[:,pos1,r+1+pos2,:]))\n",
        "    x2[r] = np.concatenate (x2[r])\n",
        "    val,_ = pearsonr (x1,x2[r])\n",
        "    corr1[r] = val**2"
      ],
      "execution_count": null,
      "outputs": []
    },
    {
      "cell_type": "code",
      "metadata": {
        "id": "O2z49aI3ixst"
      },
      "source": [
        "corr1 = np.zeros ((20,20,20), np.float32)\n",
        "\n",
        "for r1 in range (20):\n",
        "    for r2 in range (20):\n",
        "        x1 = np.ravel(Tri_afm[:,r1,r2,:])\n",
        "        for r in range (20):\n",
        "            x2 = np.ravel(Tri_afm[:,r1,r2+r+1,:])\n",
        "            val, _ = pearsonr (x1,x2)\n",
        "            corr1 [r,r1,r2] = val**2\n",
        "\n",
        "corr1 = np.mean (corr1, axis=(1,2))"
      ],
      "execution_count": null,
      "outputs": []
    },
    {
      "cell_type": "code",
      "metadata": {
        "id": "ASPAFwQzmIV4",
        "colab": {
          "base_uri": "https://localhost:8080/",
          "height": 283
        },
        "outputId": "29436be5-dc65-414e-efbe-ebb193976214"
      },
      "source": [
        "plt.plot (range(1,21),corr1)"
      ],
      "execution_count": null,
      "outputs": [
        {
          "output_type": "execute_result",
          "data": {
            "text/plain": [
              "[<matplotlib.lines.Line2D at 0x7fa8f9095c50>]"
            ]
          },
          "metadata": {
            "tags": []
          },
          "execution_count": 30
        },
        {
          "output_type": "display_data",
          "data": {
            "image/png": "[encoded data removed]",
            "text/plain": [
              "<Figure size 432x288 with 1 Axes>"
            ]
          },
          "metadata": {
            "tags": [],
            "needs_background": "light"
          }
        }
      ]
    },
    {
      "cell_type": "code",
      "metadata": {
        "id": "ZWJvAcu4rDnX"
      },
      "source": [
        "#For Triangular EA lattice\n",
        "x1 = []\n",
        "x2 = []\n",
        "corr2 = [] #Result of correlations between x1 and x2\n",
        "for pos1 in range (20):\n",
        "    for pos2 in range (20):\n",
        "        x1.append (np.ravel(Tri_ea[:,pos1,pos2,:]))\n",
        "\n",
        "x1 = np.concatenate (x1)\n",
        "\n",
        "for _ in range (20):\n",
        "    x2.append ([])\n",
        "    corr2.append (0)\n",
        "\n",
        "for r in range (20):\n",
        "    for pos1 in range (20):\n",
        "        for pos2 in range (20):\n",
        "            x2[r].append (np.ravel(Tri_ea[:,pos1,r+1+pos2,:]))\n",
        "    x2[r] = np.concatenate (x2[r])\n",
        "    val,_ = pearsonr (x1,x2[r])\n",
        "    corr2[r] = val**2"
      ],
      "execution_count": null,
      "outputs": []
    },
    {
      "cell_type": "code",
      "metadata": {
        "id": "zpBWVyNurs89",
        "colab": {
          "base_uri": "https://localhost:8080/",
          "height": 295
        },
        "outputId": "67805cdf-348e-4c60-89d7-be784649f2bf"
      },
      "source": [
        "plt.plot (range(1,21),corr2)"
      ],
      "execution_count": null,
      "outputs": [
        {
          "output_type": "execute_result",
          "data": {
            "text/plain": [
              "[<matplotlib.lines.Line2D at 0x7f738d736d68>]"
            ]
          },
          "metadata": {
            "tags": []
          },
          "execution_count": 7
        },
        {
          "output_type": "display_data",
          "data": {
            "image/png": "[encoded data removed]",
            "text/plain": [
              "<Figure size 432x288 with 1 Axes>"
            ]
          },
          "metadata": {
            "tags": [],
            "needs_background": "light"
          }
        }
      ]
    },
    {
      "cell_type": "code",
      "metadata": {
        "id": "bWMCogd5r2ef",
        "colab": {
          "base_uri": "https://localhost:8080/",
          "height": 545
        },
        "outputId": "e74d51f9-bf3f-443a-e56f-8e43088c7911"
      },
      "source": [
        "_, ax1 = plt.subplots ()\n",
        "ax1.set_title ('Triangular Antiferromagnetic')\n",
        "ax1.plot (range(1,21),corr1,'r-',linewidth=2)\n",
        "ax1.plot (range(1,21),np.zeros(20),linewidth=1)\n",
        "ax1.grid()\n",
        "\n",
        "_, ax2 = plt.subplots ()\n",
        "ax2.set_title ('Triangular Edwards-Anderson')\n",
        "ax2.set_ylim (-0.4,0.4)\n",
        "ax2.plot (range(1,21),corr2,'r-',linewidth=2)\n",
        "ax2.grid()\n",
        "plt.show()"
      ],
      "execution_count": null,
      "outputs": [
        {
          "output_type": "display_data",
          "data": {
            "image/png": "[encoded data removed]",
            "text/plain": [
              "<Figure size 432x288 with 1 Axes>"
            ]
          },
          "metadata": {
            "tags": [],
            "needs_background": "light"
          }
        },
        {
          "output_type": "display_data",
          "data": {
            "image/png": "[encoded data removed]",
            "text/plain": [
              "<Figure size 432x288 with 1 Axes>"
            ]
          },
          "metadata": {
            "tags": [],
            "needs_background": "light"
          }
        }
      ]
    },
    {
      "cell_type": "code",
      "metadata": {
        "id": "8PMrSYii1_g-"
      },
      "source": [
        "#For Triangular EA lattice with cons couplings\n",
        "x1 = []\n",
        "x2 = []\n",
        "corr3 = [] #Result of correlations between x1 and x2\n",
        "for pos1 in range (20):\n",
        "    for pos2 in range (20):\n",
        "        x1.append (np.ravel(Tri_ea_cons[:,pos1,pos2,:]))\n",
        "\n",
        "x1 = np.concatenate (x1)\n",
        "\n",
        "for _ in range (20):\n",
        "    x2.append ([])\n",
        "    corr3.append (0)\n",
        "\n",
        "for r in range (20):\n",
        "    for pos1 in range (20):\n",
        "        for pos2 in range (20):\n",
        "            x2[r].append (np.ravel(Tri_ea_cons[:,pos1,r+1+pos2,:]))\n",
        "    x2[r] = np.concatenate (x2[r])\n",
        "    val,_ = pearsonr (x1,x2[r])\n",
        "    corr3[r] = val**2"
      ],
      "execution_count": null,
      "outputs": []
    },
    {
      "cell_type": "code",
      "metadata": {
        "id": "c46ZbhN3YCma"
      },
      "source": [
        "corr3 = np.zeros ((20,20,20), np.float32)\n",
        "\n",
        "for r1 in range (20):\n",
        "    for r2 in range (20):\n",
        "        x1 = np.ravel(Tri_ea_cons[:,r1,r2,:])\n",
        "        for r in range (20):\n",
        "            x2 = np.ravel(Tri_ea_cons[:,r1,r2+r+1,:])\n",
        "            val, _ = pearsonr (x1,x2)\n",
        "            corr3 [r,r1,r2] = val**2\n",
        "\n",
        "corr3 = np.mean (corr3, axis=(1,2))"
      ],
      "execution_count": null,
      "outputs": []
    },
    {
      "cell_type": "code",
      "metadata": {
        "id": "MS37vwCrtz5C",
        "colab": {
          "base_uri": "https://localhost:8080/",
          "height": 283
        },
        "outputId": "0d5f3aba-f3c4-44f1-b408-29117a6cba06"
      },
      "source": [
        "plt.plot (range (1,21), corr3)"
      ],
      "execution_count": null,
      "outputs": [
        {
          "output_type": "execute_result",
          "data": {
            "text/plain": [
              "[<matplotlib.lines.Line2D at 0x7fa8f9ecab38>]"
            ]
          },
          "metadata": {
            "tags": []
          },
          "execution_count": 28
        },
        {
          "output_type": "display_data",
          "data": {
            "image/png": "[encoded data removed]",
            "text/plain": [
              "<Figure size 432x288 with 1 Axes>"
            ]
          },
          "metadata": {
            "tags": [],
            "needs_background": "light"
          }
        }
      ]
    },
    {
      "cell_type": "code",
      "metadata": {
        "id": "HV6SEDLYt-dy",
        "colab": {
          "base_uri": "https://localhost:8080/",
          "height": 265
        },
        "outputId": "1293bdf7-f56c-4103-efec-de9cb19b818f"
      },
      "source": [
        "_, ax1 = plt.subplots ()\n",
        "ax1.plot (range(1,21),corr2,'black',linewidth=2,label='Triangular EA')\n",
        "ax1.plot (range(1,21),corr1,'r-',linewidth=2,label='Triangular antiferromagnetic')\n",
        "ax1.legend (loc='upper right')\n",
        "ax1.grid()\n",
        "plt.show()"
      ],
      "execution_count": null,
      "outputs": [
        {
          "output_type": "display_data",
          "data": {
            "image/png": "[encoded data removed]",
            "text/plain": [
              "<Figure size 432x288 with 1 Axes>"
            ]
          },
          "metadata": {
            "tags": [],
            "needs_background": "light"
          }
        }
      ]
    },
    {
      "cell_type": "code",
      "metadata": {
        "id": "kaTXxzXRvpIz",
        "colab": {
          "base_uri": "https://localhost:8080/",
          "height": 265
        },
        "outputId": "e795556c-cab9-44e8-eccc-b123bd34dbaf"
      },
      "source": [
        "_, ax2 = plt.subplots ()\n",
        "ax2.plot (range(21),[1,]+list(corr3),'black',linewidth=2,label='Triangular EA fixed coouplings')\n",
        "ax2.plot (range(21),[1,]+list(corr1),'r-',linewidth=2,label='Triangular antiferromagnetic')\n",
        "ax2.legend (loc='upper right')\n",
        "ax2.grid()\n",
        "plt.show()"
      ],
      "execution_count": null,
      "outputs": [
        {
          "output_type": "display_data",
          "data": {
            "image/png": "[encoded data removed]",
            "text/plain": [
              "<Figure size 432x288 with 1 Axes>"
            ]
          },
          "metadata": {
            "tags": [],
            "needs_background": "light"
          }
        }
      ]
    },
    {
      "cell_type": "code",
      "metadata": {
        "id": "X9gQbDEWwtwf"
      },
      "source": [
        ""
      ],
      "execution_count": null,
      "outputs": []
    },
    {
      "cell_type": "markdown",
      "metadata": {
        "id": "oSfC5GbynWZN"
      },
      "source": [
        "# Classify Bimodal EA lattices while continuously varying coupling probability"
      ]
    },
    {
      "cell_type": "code",
      "metadata": {
        "id": "4yJZ9M8G19d-"
      },
      "source": [
        "import math\n",
        "import numpy as np\n",
        "import cupy as cp\n",
        "import matplotlib.pyplot as plt\n",
        "import tensorflow.keras as tfk\n",
        "import tensorflow as tf\n",
        "from numba import cuda, float32, int32"
      ],
      "execution_count": null,
      "outputs": []
    },
    {
      "cell_type": "code",
      "metadata": {
        "id": "I64bdRxo2I6V",
        "colab": {
          "base_uri": "https://localhost:8080/"
        },
        "outputId": "34cae2b4-dda2-4fb8-94de-7e516a792a74"
      },
      "source": [
        "from google.colab import drive\n",
        "from google.colab import output\n",
        "drive.mount('/content/drive', force_remount=True)\n",
        "folder_path = \"/content/drive/My Drive/Project Presentations/Spin_glass_phase_classification/\""
      ],
      "execution_count": null,
      "outputs": [
        {
          "output_type": "stream",
          "text": [
            "Mounted at /content/drive\n"
          ],
          "name": "stdout"
        }
      ]
    },
    {
      "cell_type": "markdown",
      "metadata": {
        "id": "imm3qdNboFEj"
      },
      "source": [
        "## Necessary cuda kernels"
      ]
    },
    {
      "cell_type": "code",
      "metadata": {
        "id": "Rhc2S7Q_oFEn"
      },
      "source": [
        "#Triangular AFM Simulation\n",
        "@cuda.jit\n",
        "def update_red(spin, seed, T):\n",
        "    J = -1.0  # Nearest neighbour coupling constant\n",
        "\n",
        "    def random_uniform(x, y, z):\n",
        "        seed[x, y, z] = np.int32((seed[x, y, z]*1664525 + 1013904223) % 2**31)\n",
        "        return seed[x, y, z] / (2**31)\n",
        "\n",
        "    def bvc (x):\n",
        "        if x == spin.shape[0]:\n",
        "            x = 0\n",
        "        return x       \n",
        "\n",
        "    def sum_nn(x, y, z):  # This adds spins of six neighbours instead of 4 subject to\n",
        "        #many constraints characteristic of triangular lattices\n",
        "\n",
        "        value = 0\n",
        "        value += spin[x, bvc(y+1), z]\n",
        "        if (y % 2 == 0):\n",
        "            value += spin[x-1, bvc(y+1),z]\n",
        "        else:\n",
        "            value += spin[bvc(x+1), bvc(y+1), z]\n",
        "\n",
        "        value += spin[x, y-1, z]\n",
        "        if (y % 2 == 0):\n",
        "            value += spin[x-1, y-1, z]\n",
        "        else:\n",
        "            value += spin [bvc(x+1), y-1, z]\n",
        "\n",
        "        value += spin[bvc(x+1), y, z]\n",
        "        value += spin[x-1, y, z]\n",
        "\n",
        "        return value\n",
        "\n",
        "    def calc(x, y, z):\n",
        "        probs = random_uniform(x, y, z)\n",
        "        if (probs < math.exp(-2*J*spin[x, y, z]*sum_nn(x, y, z)/T[z])):\n",
        "            spin[x, y, z] *= np.int8(-1)\n",
        "\n",
        "    x, y, z = cuda.grid(3)\n",
        "    p, q = x % 3, y % 2\n",
        "\n",
        "    if x < spin.shape[0] and y < spin.shape[1] and z < spin.shape[2]:\n",
        "        if (p == 0 and q == 0) or (p == 1 and q == 1):\n",
        "            calc(x, y, z)\n",
        "\n",
        "@cuda.jit\n",
        "def update_blue(spin, seed, T):\n",
        "    J = -1.0  # Nearest neighbour coupling constant\n",
        "\n",
        "    def random_uniform(x, y, z):\n",
        "        seed[x, y, z] = np.int32((seed[x, y, z]*1664525 + 1013904223) % 2**31)\n",
        "        return seed[x, y, z] / (2**31)\n",
        "\n",
        "    def bvc (x):\n",
        "        if x == spin.shape[0]:\n",
        "            x = 0\n",
        "        return x\n",
        "\n",
        "    def sum_nn(x, y, z):  # This adds spins of six neighbours instead of 4 subject to\n",
        "        #many constraints characteristic of triangular lattices\n",
        "\n",
        "        value = 0\n",
        "        value += spin[x, bvc(y+1), z]\n",
        "        if (y % 2 == 0):\n",
        "            value += spin[x-1, bvc(y+1),z]\n",
        "        else:\n",
        "            value += spin[bvc(x+1), bvc(y+1), z]\n",
        "\n",
        "        value += spin[x, y-1, z]\n",
        "        if (y % 2 == 0):\n",
        "            value += spin[x-1, y-1, z]\n",
        "        else:\n",
        "            value += spin [bvc(x+1), y-1, z]\n",
        "\n",
        "        value += spin[bvc(x+1), y, z]\n",
        "        value += spin[x-1, y, z]\n",
        "\n",
        "        return value\n",
        "\n",
        "    def calc(x, y, z):\n",
        "        probs = random_uniform(x, y, z)\n",
        "        if (probs < math.exp(-2*J*spin[x, y, z]*sum_nn(x, y, z)/T[z])):\n",
        "            spin[x, y, z] *= np.int8(-1)\n",
        "\n",
        "    x, y, z = cuda.grid(3)\n",
        "    p, q = x % 3, y % 2\n",
        "\n",
        "    if x < spin.shape[0] and y < spin.shape[1] and z < spin.shape[2]:\n",
        "        if (p == 1 and q == 0) or (p == 2 and q == 1):\n",
        "            calc(x, y, z)\n",
        "\n",
        "@cuda.jit\n",
        "def update_green (spin, seed, T):\n",
        "    J = -1.0  # Nearest neighbour coupling constant\n",
        "\n",
        "    def random_uniform(x, y, z):\n",
        "        seed[x, y, z] = np.int32((seed[x, y, z]*1664525 + 1013904223) % 2**31)\n",
        "        return seed[x, y, z] / (2**31)\n",
        "\n",
        "    def bvc (x):\n",
        "        if x == spin.shape[0]:\n",
        "            x = 0\n",
        "        return x\n",
        "\n",
        "    def sum_nn(x, y, z):  # This adds spins of six neighbours instead of 4 subject to\n",
        "        #many constraints characteristic of triangular lattices\n",
        "\n",
        "        value = 0\n",
        "        value += spin[x, bvc(y+1), z]\n",
        "        if (y % 2 == 0):\n",
        "            value += spin[x-1, bvc(y+1),z]\n",
        "        else:\n",
        "            value += spin[bvc(x+1), bvc(y+1), z]\n",
        "\n",
        "        value += spin[x, y-1, z]\n",
        "        if (y % 2 == 0):\n",
        "            value += spin[x-1, y-1, z]\n",
        "        else:\n",
        "            value += spin [bvc(x+1), y-1, z]\n",
        "\n",
        "        value += spin[bvc(x+1), y, z]\n",
        "        value += spin[x-1, y, z]\n",
        "\n",
        "        return value\n",
        "\n",
        "    def calc(x, y, z):\n",
        "        probs = random_uniform(x, y, z)\n",
        "        if (probs < math.exp(-2*J*spin[x, y, z]*sum_nn(x, y, z)/T[z])):\n",
        "            spin[x, y, z] *= np.int8(-1)\n",
        "\n",
        "    x, y, z = cuda.grid(3)\n",
        "    p, q = x % 3, y % 2\n",
        "\n",
        "    if x < spin.shape[0] and y < spin.shape[1] and z < spin.shape[2]:\n",
        "        if (p == 2 and q == 0) or (p == 0 and q == 1):\n",
        "            calc(x, y, z)\n",
        "\n",
        "@cuda.jit\n",
        "def calc_energy_Tri (spin, energy):\n",
        "    def bvc (x):\n",
        "        if x == spin.shape[1]:\n",
        "            x = 0\n",
        "        return x\n",
        "    \n",
        "    def sum_nn_part(x, y, z):  # This adds spins of six neighbours instead of 4 subject to\n",
        "        #many constraints characteristic of triangular lattices\n",
        "\n",
        "        value = 0\n",
        "        value += spin[x, bvc(y+1), z]\n",
        "        if (y % 2 == 0):\n",
        "            value += spin[x-1, bvc(y+1),z]\n",
        "        else:\n",
        "            value += spin[bvc(x+1), bvc(y+1), z]\n",
        "\n",
        "        value += spin[bvc(x+1), y, z]\n",
        "        return value\n",
        "    \n",
        "    ener = 0\n",
        "    z = cuda.grid (1)\n",
        "    for x in range (spin.shape[0]):\n",
        "        for y in range (spin.shape[1]):\n",
        "            ener -= spin[x,y,z]*sum_nn_part(x,y,z)\n",
        "    energy[z] = ener"
      ],
      "execution_count": null,
      "outputs": []
    },
    {
      "cell_type": "code",
      "metadata": {
        "id": "VrvCxubyoFEz"
      },
      "source": [
        "#Triangular EA Simulation\n",
        "@cuda.jit\n",
        "def update_red_ea(spin, seed, T, J_nn):\n",
        "\n",
        "    def random_uniform(x, y, z):\n",
        "        seed[x, y, z] = np.int32((seed[x, y, z]*1664525 + 1013904223) % 2**31)\n",
        "        return seed[x, y, z] / (2**31)\n",
        "\n",
        "    def bvc (x):\n",
        "        if x == spin.shape[0]:\n",
        "            x = 0\n",
        "        return x       \n",
        "\n",
        "    def sum_nn(x, y, z):  # This adds spins of six neighbours instead of 4 subject to\n",
        "        #many constraints characteristic of triangular lattices\n",
        "        value = 0.\n",
        "        if (y % 2 == 0):\n",
        "            value += J_nn[x,y,0]*spin[x, bvc(y+1), z]\n",
        "            value += J_nn[x-1, bvc(y+1),2]*spin[x-1, bvc(y+1), z]\n",
        "            value += J_nn[x,y,2]*spin[x, y-1, z]\n",
        "            value += J_nn[x-1,y-1,0]*spin[x-1, y-1, z]\n",
        "        else:\n",
        "            value += J_nn[x,y,0]*spin[bvc(x+1), bvc(y+1), z]\n",
        "            value += J_nn[x,bvc(y+1),2]*spin[x, bvc(y+1), z]\n",
        "            value += J_nn[x,y,2]*spin[bvc(x+1), y-1, z]\n",
        "            value += J_nn[x,y-1,0]*spin[x, y-1, z]\n",
        "\n",
        "        value += J_nn[x,y,1]*spin[bvc(x+1), y, z]\n",
        "        value += J_nn[x-1,y,1]*spin[x-1, y, z]\n",
        "        return value\n",
        "\n",
        "    def calc(x, y, z):\n",
        "        probs = random_uniform(x, y, z)\n",
        "        if (probs < math.exp(2*spin[x, y, z]*sum_nn(x, y, z)/T[z])):\n",
        "            spin[x, y, z] *= np.int8(-1)\n",
        "\n",
        "    x, y, z = cuda.grid(3)\n",
        "    p, q = x % 3, y % 2\n",
        "\n",
        "    if x < spin.shape[0] and y < spin.shape[1] and z < spin.shape[2]:\n",
        "        if (p == 0 and q == 0) or (p == 1 and q == 1):\n",
        "            calc(x, y, z)\n",
        "\n",
        "@cuda.jit\n",
        "def update_blue_ea(spin, seed, T, J_nn):\n",
        "\n",
        "    def random_uniform(x, y, z):\n",
        "        seed[x, y, z] = np.int32((seed[x, y, z]*1664525 + 1013904223) % 2**31)\n",
        "        return seed[x, y, z] / (2**31)\n",
        "\n",
        "    def bvc (x):\n",
        "        if x == spin.shape[0]:\n",
        "            x = 0\n",
        "        return x       \n",
        "\n",
        "    def sum_nn(x, y, z):  # This adds spins of six neighbours instead of 4 subject to\n",
        "        #many constraints characteristic of triangular lattices\n",
        "        value = 0.\n",
        "        if (y % 2 == 0):\n",
        "            value += J_nn[x,y,0]*spin[x, bvc(y+1), z]\n",
        "            value += J_nn[x-1, bvc(y+1),2]*spin[x-1, bvc(y+1), z]\n",
        "            value += J_nn[x,y,2]*spin[x, y-1, z]\n",
        "            value += J_nn[x-1,y-1,0]*spin[x-1, y-1, z]\n",
        "        else:\n",
        "            value += J_nn[x,y,0]*spin[bvc(x+1), bvc(y+1), z]\n",
        "            value += J_nn[x,bvc(y+1),2]*spin[x, bvc(y+1), z]\n",
        "            value += J_nn[x,y,2]*spin[bvc(x+1), y-1, z]\n",
        "            value += J_nn[x,y-1,0]*spin[x, y-1, z]\n",
        "\n",
        "        value += J_nn[x,y,1]*spin[bvc(x+1), y, z]\n",
        "        value += J_nn[x-1,y,1]*spin[x-1, y, z]\n",
        "        return value\n",
        "\n",
        "    def calc(x, y, z):\n",
        "        probs = random_uniform(x, y, z)\n",
        "        if (probs < math.exp(2*spin[x, y, z]*sum_nn(x, y, z)/T[z])):\n",
        "            spin[x, y, z] *= np.int8(-1)\n",
        "\n",
        "    x, y, z = cuda.grid(3)\n",
        "    p, q = x % 3, y % 2\n",
        "\n",
        "    if x < spin.shape[0] and y < spin.shape[1] and z < spin.shape[2]:\n",
        "        if (p == 1 and q == 0) or (p == 2 and q == 1):\n",
        "            calc(x, y, z)\n",
        "\n",
        "#Triangular EA Simulation\n",
        "@cuda.jit\n",
        "def update_green_ea(spin, seed, T, J_nn):\n",
        "\n",
        "    def random_uniform(x, y, z):\n",
        "        seed[x, y, z] = np.int32((seed[x, y, z]*1664525 + 1013904223) % 2**31)\n",
        "        return seed[x, y, z] / (2**31)\n",
        "\n",
        "    def bvc (x):\n",
        "        if x == spin.shape[0]:\n",
        "            x = 0\n",
        "        return x       \n",
        "\n",
        "    def sum_nn(x, y, z):  # This adds spins of six neighbours instead of 4 subject to\n",
        "        #many constraints characteristic of triangular lattices\n",
        "        value = 0.\n",
        "        if (y % 2 == 0):\n",
        "            value += J_nn[x,y,0]*spin[x, bvc(y+1), z]\n",
        "            value += J_nn[x-1,bvc(y+1),2]*spin[x-1, bvc(y+1), z]\n",
        "            value += J_nn[x,y,2]*spin[x, y-1, z]\n",
        "            value += J_nn[x-1,y-1,0]*spin[x-1, y-1, z]\n",
        "        else:\n",
        "            value += J_nn[x,y,0]*spin[bvc(x+1), bvc(y+1), z]\n",
        "            value += J_nn[x,bvc(y+1),2]*spin[x, bvc(y+1), z]\n",
        "            value += J_nn[x,y,2]*spin[bvc(x+1), y-1, z]\n",
        "            value += J_nn[x,y-1,0]*spin[x, y-1, z]\n",
        "\n",
        "        value += J_nn[x,y,1]*spin[bvc(x+1), y, z]\n",
        "        value += J_nn[x-1,y,1]*spin[x-1, y, z]\n",
        "        return value\n",
        "\n",
        "    def calc(x, y, z):\n",
        "        probs = random_uniform(x, y, z)\n",
        "        if (probs < math.exp(2*spin[x, y, z]*sum_nn(x, y, z)/T[z])):\n",
        "            spin[x, y, z] *= np.int8(-1)\n",
        "\n",
        "    x, y, z = cuda.grid(3)\n",
        "    p, q = x % 3, y % 2\n",
        "\n",
        "    if x < spin.shape[0] and y < spin.shape[1] and z < spin.shape[2]:\n",
        "        if (p == 2 and q == 0) or (p == 0 and q == 1):\n",
        "            calc(x, y, z)\n",
        "\n",
        "@cuda.jit\n",
        "def parallel_temper(T, seed, energy):\n",
        "    z = cuda.grid(1)\n",
        "\n",
        "    rand_n = 0 if np.float32(seed[0, 0, 0]/2**31) < 0.5 else 1\n",
        "    ptr = 2*z + rand_n\n",
        "    if ptr < energy.shape[0]-1:\n",
        "        val0 = 1./T[ptr]\n",
        "        val1 = 1./T[ptr+1]\n",
        "        e0 = energy[ptr]\n",
        "        e1 = energy[ptr+1]\n",
        "        rand_unif = np.float32(seed[0, 1, z] / 2**31)\n",
        "        arg = (e0 - e1)*(val0 - val1)\n",
        "        if (arg < 0):\n",
        "            if rand_unif < math.exp(arg):\n",
        "                T[ptr] = 1/val1\n",
        "                T[ptr+1] = 1/val0\n",
        "        else:\n",
        "            T[ptr] = 1/val1\n",
        "            T[ptr+1] = 1/val0\n",
        "\n",
        "@cuda.jit\n",
        "def calc_energy_Triea (spin, energy, J_nn):\n",
        "    def bvc (x):\n",
        "        if x == spin.shape[1]:\n",
        "            x = 0\n",
        "        return x\n",
        "    \n",
        "    def sum_nn_part(x, y, z):  # This adds spins of six neighbours instead of 4 subject to\n",
        "        #many constraints characteristic of triangular lattices\n",
        "        value = 0.\n",
        "        if (x % 2 == 0):\n",
        "            value += J_nn[x,y,0]*spin[x, bvc(y+1), z]\n",
        "            value += J_nn[x,y,2]*spin[x, y-1, z]\n",
        "        else:\n",
        "            value += J_nn[x,y,0]*spin[bvc(x+1), bvc(y+1), z]\n",
        "            value += J_nn[x,y,2]*spin[bvc(x+1), y-1, z]\n",
        "\n",
        "        value += J_nn[x,y,1]*spin[bvc(x+1), y, z]\n",
        "        return value\n",
        "    \n",
        "    ener = 0\n",
        "    z = cuda.grid (1)\n",
        "    for x in range (spin.shape[0]):\n",
        "        for y in range (spin.shape[1]):\n",
        "            ener += spin[x,y,z]*sum_nn_part(x,y,z)\n",
        "    energy[z] = ener"
      ],
      "execution_count": null,
      "outputs": []
    },
    {
      "cell_type": "markdown",
      "metadata": {
        "id": "jA4d4IYwoOdu"
      },
      "source": [
        "## Simulator Class"
      ]
    },
    {
      "cell_type": "code",
      "metadata": {
        "id": "GShos8Lpn8M6"
      },
      "source": [
        "class SpinGlassData ():\n",
        "    def __init__(self, lat_len= 48, ens_size=80):\n",
        "        self.shape = (lat_len, lat_len)\n",
        "        self.m = ens_size\n",
        "        self.tpb = (8,8,1)\n",
        "        self.spin = cp.random.choice ([1,-1], self.shape+(self.m,)).astype(np.int8)\n",
        "        self.spin2 = cp.random.choice ([1,-1], self.shape+(self.m//2,)).astype(np.int8)\n",
        "        self.seed = cp.random.randint (-10000,10000, size=self.shape+(self.m,),\n",
        "                                       dtype=np.int32)\n",
        "        self.energy = cp.zeros (self.m, np.float32)\n",
        "        self.energy2 = cp.zeros (self.m//2, np.float32)\n",
        "        self.Jnn = cp.random.choice ([-1,1], self.shape+(3,), \n",
        "                                        p=[0.5, 0.5]).astype(np.float32)\n",
        "\n",
        "    def equilib_TriEA (self):\n",
        "        temp = 0.5\n",
        "        vr_T = cp.linspace (temp, temp+2.5, self.m, dtype=np.float32)\n",
        "        bpg = (self.shape[0]//self.tpb[0],self.shape[1]//self.tpb[1], self.m)\n",
        "        for _ in range(200):\n",
        "            for _ in range (4):\n",
        "                update_red_ea[bpg,self.tpb] (self.spin, self.seed, vr_T, self.Jnn)\n",
        "                update_blue_ea[bpg,self.tpb] (self.spin, self.seed, vr_T, self.Jnn)\n",
        "                update_green_ea[bpg,self.tpb] (self.spin, self.seed, vr_T, self.Jnn)\n",
        "            calc_energy_Triea[1, self.m](self.spin, self.energy, self.Jnn)\n",
        "            parallel_temper[1, self.m//2] (vr_T, self.seed, self.energy)\n",
        "        vr_T = cp.full (self.m, temp, np.float32)\n",
        "        for _ in range (500):\n",
        "            update_red_ea[bpg,self.tpb] (self.spin, self.seed, vr_T, self.Jnn)\n",
        "            update_blue_ea[bpg,self.tpb] (self.spin, self.seed, vr_T, self.Jnn)\n",
        "            update_green_ea[bpg,self.tpb] (self.spin, self.seed, vr_T, self.Jnn)\n",
        "        calc_energy_Triea[1, self.m](self.spin, self.energy, self.Jnn)\n",
        "        order = np.argsort(cp.asnumpy (self.energy))\n",
        "        return cp.asnumpy (self.energy)#cp.asnumpy(self.spin)[...,order[:self.m//2]]\n",
        "\n",
        "    def equilib_TriAFM (self):\n",
        "        temp = 0.5\n",
        "        bpg = (self.shape[0]//self.tpb[0], self.shape[1]//self.tpb[1], self.m)\n",
        "        vr_T = cp.array ([temp])\n",
        "        for _ in range (500):\n",
        "            update_red[bpg, self.tpb] (self.spin2, self.seed, vr_T)\n",
        "            update_blue[bpg, self.tpb] (self.spin2, self.seed, vr_T)\n",
        "            update_green[bpg, self.tpb] (self.spin2, self.seed, vr_T)\n",
        "        calc_energy_Tri[1, self.m//2](self.spin2, self.energy2)\n",
        "        order = np.argsort(cp.asnumpy (self.energy2))\n",
        "        return cp.asnumpy(self.spin2)[...,order]\n",
        "\n",
        "    def generate_train_data (self, prob, train_len=150):\n",
        "        t_lattice = []\n",
        "        for i in range (train_len):\n",
        "            self.Jnn = cp.random.choice ([-1,1], self.shape+(3,), \n",
        "                                        p=[1-prob, prob]).astype(np.float32)\n",
        "            t_lattice.append (self.equilib_TriEA(prob))\n",
        "        t_lattice = (0.5*np.concatenate(t_lattice, axis=-1)).astype (np.float32)\n",
        "        return np.swapaxes (t_lattice, -1, 0) [...,np.newaxis]\n",
        "\n",
        "    def generate_corr_data (self, prob, n=20, l=200):\n",
        "        t_lattice = []\n",
        "        for i in range (n):\n",
        "            self.Jnn = cp.random.choice ([-1,1], self.shape+(3,), \n",
        "                                        p=[1-prob, prob]).astype(np.float32)\n",
        "            for j in range ((2*l)//self.m):\n",
        "                t_lattice.append (self.equilib_TriEA(prob))\n",
        "        t_lattice = (0.5*np.concatenate(t_lattice, axis=-1)).astype (np.float32)\n",
        "        return np.swapaxes (t_lattice, -1, 0) [...,np.newaxis]"
      ],
      "execution_count": null,
      "outputs": []
    },
    {
      "cell_type": "code",
      "metadata": {
        "id": "7w0ljgUG2qBl"
      },
      "source": [
        "simulator = SpinGlassData()"
      ],
      "execution_count": null,
      "outputs": []
    },
    {
      "cell_type": "markdown",
      "metadata": {
        "id": "AeyZ6Oua4QQf"
      },
      "source": [
        "## Generate Train Data"
      ]
    },
    {
      "cell_type": "code",
      "metadata": {
        "colab": {
          "base_uri": "https://localhost:8080/"
        },
        "id": "f4JV11SB4AcJ",
        "outputId": "c1f3f59d-189d-4d07-cf30-5ff544bfd699"
      },
      "source": [
        "ener = simulator.equilib_TriEA ()\n",
        "ener"
      ],
      "execution_count": null,
      "outputs": [
        {
          "output_type": "execute_result",
          "data": {
            "text/plain": [
              "array([-2440., -2492., -2544., -2468., -2520., -2540., -2460., -2512.,\n",
              "       -2528., -2484., -2552., -2500., -2516., -2472., -2604., -2524.,\n",
              "       -2584., -2620., -2568., -2528., -2540., -2448., -2548., -2456.,\n",
              "       -2536., -2496., -2528., -2492., -2584., -2516., -2472., -2476.,\n",
              "       -2540., -2544., -2476., -2472., -2484., -2528., -2376., -2524.,\n",
              "       -2468., -2544., -2428., -2544., -2540., -2500., -2508., -2328.,\n",
              "       -2428., -2520., -2480., -2428., -2460., -2504., -2468., -2548.,\n",
              "       -2452., -2520., -2492., -2416., -2480., -2484., -2504., -2420.,\n",
              "       -2476., -2468., -2448., -2496., -2452., -2476., -2444., -2412.,\n",
              "       -2448., -2448., -2488., -2588., -2464., -2548., -2472., -2512.],\n",
              "      dtype=float32)"
            ]
          },
          "metadata": {
            "tags": []
          },
          "execution_count": 6
        }
      ]
    },
    {
      "cell_type": "code",
      "metadata": {
        "id": "o9WzL6rw24-H"
      },
      "source": [
        "p=0.5\n",
        "train_lattice = simulator.generate_train_data (p)\n",
        "np.save (folder_path+'Training Data/TriEA500_bim_0.5(2).npy', train_lattice)\n",
        "p=0.7\n",
        "train_lattice = simulator.generate_train_data (p)\n",
        "np.save (folder_path+'Training Data/TriEA500_bim_0.7(2).npy', train_lattice)\n",
        "output.eval_js('new Audio(\"https://upload.wikimedia.org/wikipedia/commons/0/05/Beep-09.ogg\").play()')"
      ],
      "execution_count": null,
      "outputs": []
    },
    {
      "cell_type": "code",
      "metadata": {
        "id": "QxEepalS4V6a"
      },
      "source": [
        "p=0.65\n",
        "train_lattice = simulator.generate_train_data (p)\n",
        "np.save (folder_path+'Training Data/TriEA500_bim_0.65.npy', train_lattice)\n",
        "p=0.75\n",
        "train_lattice = simulator.generate_train_data (p)\n",
        "np.save (folder_path+'Training Data/TriEA500_bim_0.75.npy', train_lattice)\n",
        "output.eval_js('new Audio(\"https://upload.wikimedia.org/wikipedia/commons/0/05/Beep-09.ogg\").play()')"
      ],
      "execution_count": null,
      "outputs": []
    },
    {
      "cell_type": "code",
      "metadata": {
        "id": "n5GDKfly9_1T"
      },
      "source": [
        "p=0.9\n",
        "train_lattice = simulator.generate_train_data (p)\n",
        "np.save (folder_path+'Training Data/TriEA500_bim_0.9.npy', train_lattice)\n",
        "p=1.0\n",
        "train_lattice = simulator.generate_train_data (p)\n",
        "np.save (folder_path+'Training Data/TriEA500_bim_1.0.npy', train_lattice)\n",
        "output.eval_js('new Audio(\"https://upload.wikimedia.org/wikipedia/commons/0/05/Beep-09.ogg\").play()')"
      ],
      "execution_count": null,
      "outputs": []
    },
    {
      "cell_type": "code",
      "metadata": {
        "id": "gBUjXPOi1YBT"
      },
      "source": [
        "p=0.95\n",
        "train_lattice = simulator.generate_train_data (p)\n",
        "np.save (folder_path+'Training Data/TriEA500_bim_0.95.npy', train_lattice)\n",
        "p=0.99\n",
        "train_lattice = simulator.generate_train_data (p)\n",
        "np.save (folder_path+'Training Data/TriEA500_bim_0.99.npy', train_lattice)\n",
        "output.eval_js('new Audio(\"https://upload.wikimedia.org/wikipedia/commons/0/05/Beep-09.ogg\").play()')"
      ],
      "execution_count": null,
      "outputs": []
    },
    {
      "cell_type": "markdown",
      "metadata": {
        "id": "ys1-MlRJL6Gf"
      },
      "source": [
        "## Load training data and create datasets"
      ]
    },
    {
      "cell_type": "code",
      "metadata": {
        "id": "ciqyC2r3LrGR"
      },
      "source": [
        "train_lattice = []\n",
        "train_label = []\n",
        "train_lattice.append (np.load(folder_path+'Training Data/TriEA500_bim_0.5.npy'))\n",
        "train_label.append (np.zeros (6000, np.int32))\n",
        "train_lattice.append (np.load(folder_path+'Training Data/TriEA500_bim_0.65.npy'))\n",
        "train_label.append (np.ones (6000, np.int32))\n",
        "train_lattice = np.concatenate (train_lattice)\n",
        "train_label = np.concatenate (train_label)\n",
        "\n",
        "train_data = tf.data.Dataset.from_tensor_slices ((train_lattice,train_label)).shuffle(12000)"
      ],
      "execution_count": null,
      "outputs": []
    },
    {
      "cell_type": "code",
      "metadata": {
        "id": "gNrapOyNZXCq"
      },
      "source": [
        "val_lattice = []\n",
        "val_label = []\n",
        "val_lattice.append (simulator.generate_train_data (0.5, 50))\n",
        "val_label.append (np.zeros (1000, np.int32))\n",
        "val_lattice.append (simulator.generate_train_data (0.7, 50))\n",
        "val_label.append (np.ones (1000, np.int32))\n",
        "val_lattice = np.concatenate (val_lattice)\n",
        "val_label = np.concatenate (val_label)\n",
        "\n",
        "val_data = tf.data.Dataset.from_tensor_slices ((val_lattice,val_label)).shuffle(2000)"
      ],
      "execution_count": null,
      "outputs": []
    },
    {
      "cell_type": "code",
      "metadata": {
        "id": "aTqFbbloLw3A"
      },
      "source": [
        "train_data = train_data.batch (16)\n",
        "#val_data = val_data.batch (16)"
      ],
      "execution_count": null,
      "outputs": []
    },
    {
      "cell_type": "markdown",
      "metadata": {
        "id": "w9TYk6QNNZJy"
      },
      "source": [
        "## Neural network initialization and training"
      ]
    },
    {
      "cell_type": "code",
      "metadata": {
        "id": "FzEW9wcFM07x"
      },
      "source": [
        "brain = tfk. Sequential([\n",
        "    tfk.layers.Conv2D(64, (2,2), activation='relu', input_shape = (48,48,1)),\n",
        "    tfk.layers.MaxPool2D (),\n",
        "    tfk.layers.Conv2D(64, (2,2), activation='relu'),\n",
        "    tfk.layers.Flatten(),\n",
        "    tfk.layers.Dense(64, activation='relu'),\n",
        "    tfk.layers.Dropout(0.3),\n",
        "    tfk.layers.Dense(2, activation='softmax')\n",
        "])"
      ],
      "execution_count": null,
      "outputs": []
    },
    {
      "cell_type": "code",
      "metadata": {
        "id": "XDgmFYgXNmrb"
      },
      "source": [
        "brain.compile(optimizer='adam',\n",
        "              loss='sparse_categorical_crossentropy',\n",
        "              metrics=['accuracy'])"
      ],
      "execution_count": null,
      "outputs": []
    },
    {
      "cell_type": "code",
      "metadata": {
        "id": "Rsem3kUHNxoe",
        "colab": {
          "base_uri": "https://localhost:8080/",
          "height": 35
        },
        "outputId": "8858aa90-2ce2-4101-e68d-87817a2b4715"
      },
      "source": [
        "hist = brain.fit (train_data, epochs=1)"
      ],
      "execution_count": null,
      "outputs": [
        {
          "output_type": "stream",
          "text": [
            "750/750 [==============================] - 2s 3ms/step - loss: 0.1179 - accuracy: 0.9624\n"
          ],
          "name": "stdout"
        }
      ]
    },
    {
      "cell_type": "code",
      "metadata": {
        "id": "X1rz-CqAN2Ih",
        "colab": {
          "base_uri": "https://localhost:8080/",
          "height": 171
        },
        "outputId": "dc759b8a-5921-4a28-d92a-31fa60394a24"
      },
      "source": [
        "brain.save(folder_path+'NN Models/TriEA_bim_48_05_07.h5')"
      ],
      "execution_count": null,
      "outputs": [
        {
          "output_type": "stream",
          "text": [
            "WARNING:tensorflow:From /usr/local/lib/python3.6/dist-packages/tensorflow/python/training/tracking/tracking.py:111: Model.state_updates (from tensorflow.python.keras.engine.training) is deprecated and will be removed in a future version.\n",
            "Instructions for updating:\n",
            "This property should not be used in TensorFlow 2.0, as updates are applied automatically.\n",
            "WARNING:tensorflow:From /usr/local/lib/python3.6/dist-packages/tensorflow/python/training/tracking/tracking.py:111: Layer.updates (from tensorflow.python.keras.engine.base_layer) is deprecated and will be removed in a future version.\n",
            "Instructions for updating:\n",
            "This property should not be used in TensorFlow 2.0, as updates are applied automatically.\n",
            "INFO:tensorflow:Assets written to: /content/drive/My Drive/Project Presentations/Spin_glass_phase_classification/NN Models/TriEA_bim_48_05_07/assets\n"
          ],
          "name": "stdout"
        }
      ]
    },
    {
      "cell_type": "code",
      "metadata": {
        "id": "1iAslCtOhCUm"
      },
      "source": [
        "brain2 = tfk.models.load_model (folder_path+'NN Models/TriEA_bim_48_05_07.h5')"
      ],
      "execution_count": null,
      "outputs": []
    },
    {
      "cell_type": "code",
      "metadata": {
        "id": "Y_NuwEiCOu73"
      },
      "source": [
        "test_lattice = []\n",
        "test_label = []\n",
        "test_lattice.append (simulator.generate_train_data (0.5, 20))\n",
        "test_label.append (np.zeros (400, np.int32))\n",
        "test_lattice.append (simulator.generate_train_data (0.7, 20))\n",
        "test_label.append (np.ones (400, np.int32))\n",
        "test_lattice = np.concatenate (test_lattice)\n",
        "test_label = np.concatenate (test_label)\n",
        "\n",
        "test_data = tf.data.Dataset.from_tensor_slices ((test_lattice,test_label))\n",
        "test_data = test_data.shuffle(1600).batch(16)\n",
        "output.eval_js('new Audio(\"https://upload.wikimedia.org/wikipedia/commons/0/05/Beep-09.ogg\").play()')"
      ],
      "execution_count": null,
      "outputs": []
    },
    {
      "cell_type": "code",
      "metadata": {
        "id": "ZX1JPRBdPKX5",
        "colab": {
          "base_uri": "https://localhost:8080/",
          "height": 55
        },
        "outputId": "c9a6bd09-795c-4f53-90cb-42275798bf2f"
      },
      "source": [
        "brain.evaluate (test_data)"
      ],
      "execution_count": null,
      "outputs": [
        {
          "output_type": "stream",
          "text": [
            "50/50 [==============================] - 0s 3ms/step - loss: 1.9082e-04 - accuracy: 1.0000\n"
          ],
          "name": "stdout"
        },
        {
          "output_type": "execute_result",
          "data": {
            "text/plain": [
              "[0.00019082405196968466, 1.0]"
            ]
          },
          "metadata": {
            "tags": []
          },
          "execution_count": 16
        }
      ]
    },
    {
      "cell_type": "code",
      "metadata": {
        "id": "dqER_sS1PM85"
      },
      "source": [
        "t_lattice = []\n",
        "prob = 0.5\n",
        "for _ in range (16):\n",
        "    t_lattice.append (simulator.generate_train_data (prob,16))\n",
        "    prob += 0.01\n",
        "t_lattice = np.concatenate (t_lattice)\n",
        "t_data = tf.data.Dataset.from_tensor_slices (t_lattice).batch (16)\n",
        "output.eval_js('new Audio(\"https://upload.wikimedia.org/wikipedia/commons/0/05/Beep-09.ogg\").play()')"
      ],
      "execution_count": null,
      "outputs": []
    },
    {
      "cell_type": "code",
      "metadata": {
        "id": "Jct-79AG1DsP"
      },
      "source": [
        "predictions = brain.predict (t_lattice)"
      ],
      "execution_count": null,
      "outputs": []
    },
    {
      "cell_type": "code",
      "metadata": {
        "id": "CBaD-ykP1XPz",
        "colab": {
          "base_uri": "https://localhost:8080/",
          "height": 283
        },
        "outputId": "de6bf6f5-053a-48cf-b860-7128094f77f5"
      },
      "source": [
        "datax = np.empty (16, np.float32)\n",
        "datay = np.empty (16, np.float32)\n",
        "for i in range (16):\n",
        "    datax[i] = 0.5 + (i*0.01)\n",
        "    datay[i] = predictions[320*i:320*(i+1),1].mean()\n",
        "plt.plot (datax, datay)"
      ],
      "execution_count": null,
      "outputs": [
        {
          "output_type": "execute_result",
          "data": {
            "text/plain": [
              "[<matplotlib.lines.Line2D at 0x7f9716e78a90>]"
            ]
          },
          "metadata": {
            "tags": []
          },
          "execution_count": 15
        },
        {
          "output_type": "display_data",
          "data": {
            "image/png": "[encoded data removed]",
            "text/plain": [
              "<Figure size 432x288 with 1 Axes>"
            ]
          },
          "metadata": {
            "tags": [],
            "needs_background": "light"
          }
        }
      ]
    },
    {
      "cell_type": "code",
      "metadata": {
        "id": "wPpVoeCSvFHh",
        "colab": {
          "base_uri": "https://localhost:8080/",
          "height": 36
        },
        "outputId": "7a0c031b-23fa-42b8-a6cc-adccb034e986"
      },
      "source": [
        "predictions[400:800,1].mean() == datay[1]"
      ],
      "execution_count": null,
      "outputs": [
        {
          "output_type": "execute_result",
          "data": {
            "text/plain": [
              "True"
            ]
          },
          "metadata": {
            "tags": []
          },
          "execution_count": 43
        }
      ]
    },
    {
      "cell_type": "markdown",
      "metadata": {
        "id": "udiqR9QQwRwB"
      },
      "source": [
        "## Correlation function for p=0.9"
      ]
    },
    {
      "cell_type": "code",
      "metadata": {
        "id": "N0_uiwtdxO6m"
      },
      "source": [
        "from scipy.stats import pearsonr\n",
        "import numpy as np\n",
        "import matplotlib.pyplot as plt"
      ],
      "execution_count": null,
      "outputs": []
    },
    {
      "cell_type": "code",
      "metadata": {
        "id": "HX2lZRMMUdmJ"
      },
      "source": [
        "n, l = 20, 400\n",
        "TriEA1 = simulator.generate_corr_data (0.5, n, l)\n",
        "TriEA2 = simulator.generate_corr_data (0.7, n, l)\n",
        "output.eval_js('new Audio(\"https://upload.wikimedia.org/wikipedia/commons/0/05/Beep-09.ogg\").play()')"
      ],
      "execution_count": null,
      "outputs": []
    },
    {
      "cell_type": "code",
      "metadata": {
        "id": "k6q3fV4YVMss"
      },
      "source": [
        "np.save (folder_path+'Training Data/TriEA8k_cor_0.5.npy', TriEA1)\n",
        "np.save (folder_path+'Training Data/TriEA8k_cor_0.7.npy', TriEA2)"
      ],
      "execution_count": null,
      "outputs": []
    },
    {
      "cell_type": "code",
      "metadata": {
        "id": "hIO715foRD55"
      },
      "source": [
        "TriEA1 = np.load (folder_path+'Training Data/TriEA8k_cor_0.5.npy')\n",
        "TriEA2 = np.load (folder_path+'Training Data/TriEA8k_cor_0.7.npy')"
      ],
      "execution_count": null,
      "outputs": []
    },
    {
      "cell_type": "code",
      "metadata": {
        "id": "FZ2xqmHLCnsH"
      },
      "source": [
        "corr3 = np.zeros ((20,300,20,20), np.float32)\n",
        "\n",
        "for r1 in range (20):\n",
        "    for r2 in range (20):\n",
        "        for n in range (30):\n",
        "            x1 = np.ravel(TriEA3[200*n:200*(n+1),r1,r2,:])\n",
        "            for r in range (20):\n",
        "                x2 = np.ravel(TriEA3[200*n:200*(n+1),r1,r2+r+1,:])\n",
        "                val, _ = pearsonr (x1,x2)\n",
        "                corr3 [r,n,r1,r2] = abs(val)\n",
        "\n",
        "corr3 = np.mean (corr3, axis=(1,2,3))"
      ],
      "execution_count": null,
      "outputs": []
    },
    {
      "cell_type": "markdown",
      "metadata": {
        "id": "mFxmrgfol4_m"
      },
      "source": [
        "We calculate correlation functions for n realizations of each of p=0.5 and p=0.7 EA models, averaged over translations and (3 possible) rotations:"
      ]
    },
    {
      "cell_type": "code",
      "metadata": {
        "id": "NsDPY-23mhl6"
      },
      "source": [
        "n,l = 20,400"
      ],
      "execution_count": null,
      "outputs": []
    },
    {
      "cell_type": "code",
      "metadata": {
        "id": "ngkxckJ3w0oj"
      },
      "source": [
        "corr1 = np.zeros ((n,3,20,24,24), np.float32)\n",
        "\n",
        "for i in range (n):\n",
        "    for r1 in range (24):\n",
        "        for r2 in range (24):\n",
        "            x1 = np.ravel (TriEA1[i*l:(i+1)*l,r1,r2,:])\n",
        "            for r in range (1,21):\n",
        "                x2 = np.ravel (TriEA1[i*l:(i+1)*l,r1+r,r2,:])\n",
        "                val, _ = pearsonr (x1,x2)\n",
        "                corr1 [i,0,r-1,r1,r2] = (val)\n",
        "\n",
        "                x2 = np.ravel(TriEA1[i*l:(i+1)*l,r1+int(r-(r%2)*(-1**r2))//2,\n",
        "                                     r2+r,:])\n",
        "                val, _ = pearsonr (x1,x2)\n",
        "                corr1 [i,1,r-1,r1,r2] = (val)\n",
        "\n",
        "                x2 = np.ravel(TriEA1[i*l:(i+1)*l,r1-int(r+(r%2)*(-1**r2))//2,\n",
        "                                     r2+r,:])\n",
        "                val, _ = pearsonr (x1,x2)\n",
        "                corr1 [i,2,r-1,r1,r2] = (val)\n",
        "\n",
        "corr1 = np.mean (corr1, axis=(0,1,3,4))"
      ],
      "execution_count": null,
      "outputs": []
    },
    {
      "cell_type": "code",
      "metadata": {
        "id": "8YqYb22f0ThJ"
      },
      "source": [
        "corr2 = np.zeros ((n,3,20,24,24), np.float32)\n",
        "\n",
        "for i in range (n):\n",
        "    for r1 in range (24):\n",
        "        for r2 in range (24):\n",
        "            x1 = np.ravel (TriEA2[i*l:(i+1)*l,r1,r2,:])\n",
        "            for r in range (1,21):\n",
        "                x2 = np.ravel (TriEA2[i*l:(i+1)*l,r1+r,r2,:])\n",
        "                val, _ = pearsonr (x1,x2)\n",
        "                corr2 [i,0,r-1,r1,r2] = (val)\n",
        "\n",
        "                x2 = np.ravel(TriEA2[i*l:(i+1)*l,r1+int(r-(r%2)*(-1**r2))//2,\n",
        "                                     r2+r,:])\n",
        "                val, _ = pearsonr (x1,x2)\n",
        "                corr2 [i,1,r-1,r1,r2] = (val)\n",
        "\n",
        "                x2 = np.ravel(TriEA2[i*l:(i+1)*l,r1-int(r+(r%2)*(-1**r2))//2,\n",
        "                                     r2+r,:])\n",
        "                val, _ = pearsonr (x1,x2)\n",
        "                corr2 [i,2,r-1,r1,r2] = (val)\n",
        "\n",
        "corr2 = np.mean (corr2, axis=(0,1,3,4))"
      ],
      "execution_count": null,
      "outputs": []
    },
    {
      "cell_type": "code",
      "metadata": {
        "id": "5cONOdSBxLOf",
        "colab": {
          "base_uri": "https://localhost:8080/"
        },
        "outputId": "32ff0623-3e11-46b1-b205-beaf91c92326"
      },
      "source": [
        "corr1, corr2"
      ],
      "execution_count": null,
      "outputs": [
        {
          "output_type": "execute_result",
          "data": {
            "text/plain": [
              "(array([0.70009416, 0.55758905, 0.438356  , 0.3502371 , 0.27851453,\n",
              "        0.22482704, 0.18189532, 0.1504402 , 0.1274748 , 0.11089361,\n",
              "        0.09906474, 0.0904049 , 0.08459232, 0.08081069, 0.07804296,\n",
              "        0.07620855, 0.07495563, 0.07396767, 0.07335277, 0.07295089],\n",
              "       dtype=float32),\n",
              " array([0.6890745 , 0.54762644, 0.4307335 , 0.3465476 , 0.27704948,\n",
              "        0.22537073, 0.18293415, 0.15155378, 0.12730525, 0.10989796,\n",
              "        0.09679928, 0.08785452, 0.08111381, 0.07713011, 0.07432663,\n",
              "        0.07274634, 0.07124731, 0.07060023, 0.06984687, 0.06959282],\n",
              "       dtype=float32))"
            ]
          },
          "metadata": {
            "tags": []
          },
          "execution_count": 9
        }
      ]
    },
    {
      "cell_type": "code",
      "metadata": {
        "id": "1CTqqg-DyDUn",
        "colab": {
          "base_uri": "https://localhost:8080/",
          "height": 265
        },
        "outputId": "7966e274-c9c6-4340-9cc0-faa85ec8687e"
      },
      "source": [
        "_, ax = plt.subplots()\n",
        "ax.plot (range(1,21), list(corr1), label='p = 0.5')\n",
        "ax.plot (range(1,21), list(corr2), label='p = 0.7')\n",
        "ax.legend (loc= 'upper right' )\n",
        "ax.grid ()\n",
        "plt.show()"
      ],
      "execution_count": null,
      "outputs": [
        {
          "output_type": "display_data",
          "data": {
            "image/png": "[encoded data removed]",
            "text/plain": [
              "<Figure size 432x288 with 1 Axes>"
            ]
          },
          "metadata": {
            "tags": [],
            "needs_background": "light"
          }
        }
      ]
    },
    {
      "cell_type": "code",
      "metadata": {
        "id": "x1coq67kxfmI",
        "colab": {
          "base_uri": "https://localhost:8080/",
          "height": 284
        },
        "outputId": "90f2dd54-d7e3-479e-cb36-47e48577c722"
      },
      "source": [
        "_, ax = plt.subplots()\n",
        "ax.plot (range(1,21), corr1, label='p = 0.65')\n",
        "ax.plot (range(1,21), corr2, label='p = 0.99')\n",
        "ax.grid()\n",
        "ax.legend (loc= 'upper right')"
      ],
      "execution_count": null,
      "outputs": [
        {
          "output_type": "execute_result",
          "data": {
            "text/plain": [
              "<matplotlib.legend.Legend at 0x7fb5d92820b8>"
            ]
          },
          "metadata": {
            "tags": []
          },
          "execution_count": 24
        },
        {
          "output_type": "display_data",
          "data": {
            "image/png": "[encoded data removed]",
            "text/plain": [
              "<Figure size 432x288 with 1 Axes>"
            ]
          },
          "metadata": {
            "tags": [],
            "needs_background": "light"
          }
        }
      ]
    },
    {
      "cell_type": "code",
      "metadata": {
        "id": "95aIWx6dDuH5",
        "colab": {
          "base_uri": "https://localhost:8080/",
          "height": 284
        },
        "outputId": "ac86459c-c2e8-44d6-be06-174440b32b53"
      },
      "source": [
        "_, ax = plt.subplots()\n",
        "ax.plot (range(1,21), corr3, label='p = 0.9')\n",
        "ax.plot (range(1,21), corr4, label='p = 0.91')\n",
        "ax.grid()\n",
        "ax.legend (loc= 'upper right' )"
      ],
      "execution_count": null,
      "outputs": [
        {
          "output_type": "execute_result",
          "data": {
            "text/plain": [
              "<matplotlib.legend.Legend at 0x7fda58c7e588>"
            ]
          },
          "metadata": {
            "tags": []
          },
          "execution_count": 27
        },
        {
          "output_type": "display_data",
          "data": {
            "image/png": "[encoded data removed]",
            "text/plain": [
              "<Figure size 432x288 with 1 Axes>"
            ]
          },
          "metadata": {
            "tags": [],
            "needs_background": "light"
          }
        }
      ]
    },
    {
      "cell_type": "code",
      "metadata": {
        "id": "6Mb3u3ojw7fE"
      },
      "source": [
        ""
      ],
      "execution_count": null,
      "outputs": []
    }
  ]
}
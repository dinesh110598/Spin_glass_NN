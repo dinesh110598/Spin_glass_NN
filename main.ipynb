{
  "nbformat": 4,
  "nbformat_minor": 0,
  "metadata": {
    "colab": {
      "name": "EA_classification.ipynb",
      "provenance": [],
      "toc_visible": true,
      "authorship_tag": "ABX9TyNwc57+JS4QXaFKgCdvxaE5",
      "include_colab_link": true
    },
    "kernelspec": {
      "name": "python3",
      "display_name": "Python 3"
    },
    "accelerator": "GPU"
  },
  "cells": [
    {
      "cell_type": "markdown",
      "metadata": {
        "id": "view-in-github",
        "colab_type": "text"
      },
      "source": [
        "<a href=\"https://colab.research.google.com/github/dinesh110598/Spin_glass_NN/blob/master/main.ipynb\" target=\"_parent\"><img src=\"https://colab.research.google.com/assets/colab-badge.svg\" alt=\"Open In Colab\"/></a>"
      ]
    },
    {
      "cell_type": "markdown",
      "metadata": {
        "id": "SV2nuUHhw0NF"
      },
      "source": [
        "# Classifying Bimodal triangular EA lattices\n",
        "The Hamiltonian for the EA model on a 2d triangular lattice with spins {S}:\n",
        "\n",
        "$ H = \\displaystyle\\sum_{<i,j>} J_{ij}(p).S_iS_j$ where \\<ij\\> denotes nearest neighbour positions on a triangular lattice and $J_{ij}(p)$ takes values +1 and -1 with probabilities p and 1-p respectively. We'll consider only the values of p between 0.5 and 1 throughout this notebook."
      ]
    },
    {
      "cell_type": "markdown",
      "metadata": {
        "id": "CiMrHL630GQx"
      },
      "source": [
        "## Classification between p=0.5 and p=0.7\n",
        "In this subsection, we will supply a convolutional neural network (CNN) with properly labelled samples for p=0.5 and p=0.7, over multiple realisations of couplings $J_{ij}$ in each category. Later, we'll analyse the network's output for intermediate values of p. Following this, we'll look at 2 point correlation functions of these lattices for the same values and compare the variation of correlation functions with that of neural network output. "
      ]
    },
    {
      "cell_type": "markdown",
      "metadata": {
        "id": "oaGIUS_0gkaa"
      },
      "source": [
        "### Imports and dependecies"
      ]
    },
    {
      "cell_type": "code",
      "metadata": {
        "id": "anOPkWDHwq8h"
      },
      "source": [
        "import math\n",
        "import numpy as np\n",
        "import cupy as cp\n",
        "import tensorflow.keras as tfk\n",
        "import tensorflow as tf\n",
        "import matplotlib.pyplot as plt"
      ],
      "execution_count": 1,
      "outputs": []
    },
    {
      "cell_type": "code",
      "metadata": {
        "id": "1A-E1QM825-j",
        "colab": {
          "base_uri": "https://localhost:8080/"
        },
        "outputId": "04c577ab-bdf1-460f-c694-b7c3fa0c95e9"
      },
      "source": [
        "from google.colab import drive\n",
        "from google.colab import output\n",
        "drive.mount('/content/drive', force_remount=True)\n",
        "folder_path = \"/content/drive/My Drive/Project Presentations/Spin_glass_phase_classification/\""
      ],
      "execution_count": 2,
      "outputs": [
        {
          "output_type": "stream",
          "text": [
            "Mounted at /content/drive\n"
          ],
          "name": "stdout"
        }
      ]
    },
    {
      "cell_type": "markdown",
      "metadata": {
        "id": "7WwgIeQxKcXY"
      },
      "source": [
        "I've written Numba CUDA kernels (functions that perform calculations inside GPUs using CUDA) for simulating MCMC and parallel tempering algorithms for triangular EA model, in a seperate python file. Let's import the file and its contents inside this notebook:"
      ]
    },
    {
      "cell_type": "code",
      "metadata": {
        "colab": {
          "base_uri": "https://localhost:8080/"
        },
        "id": "enbqC50_Low8",
        "outputId": "6dfc1a6f-4cc3-477c-f979-e47eec1c3262"
      },
      "source": [
        "!curl -o TriEA_kernels.py https://raw.githubusercontent.com/dinesh110598/Spin_glass_NN/master/TriEA_kernels.py"
      ],
      "execution_count": 3,
      "outputs": [
        {
          "output_type": "stream",
          "text": [
            "  % Total    % Received % Xferd  Average Speed   Time    Time     Time  Current\n",
            "                                 Dload  Upload   Total   Spent    Left  Speed\n",
            "100  6315  100  6315    0     0  24667      0 --:--:-- --:--:-- --:--:-- 24667\n"
          ],
          "name": "stdout"
        }
      ]
    },
    {
      "cell_type": "code",
      "metadata": {
        "id": "3L3kskP0PQzb"
      },
      "source": [
        "from TriEA_kernels import *"
      ],
      "execution_count": 4,
      "outputs": []
    },
    {
      "cell_type": "code",
      "metadata": {
        "colab": {
          "base_uri": "https://localhost:8080/"
        },
        "id": "RQkoDlxRglWD",
        "outputId": "29d36f10-c85f-4adc-cd49-77bd905fb8a1"
      },
      "source": [
        "!nvidia-smi -L"
      ],
      "execution_count": 5,
      "outputs": [
        {
          "output_type": "stream",
          "text": [
            "GPU 0: Tesla T4 (UUID: GPU-9fbab0e4-2274-a0ee-7a8c-6f5d3b83d5cb)\n"
          ],
          "name": "stdout"
        }
      ]
    },
    {
      "cell_type": "markdown",
      "metadata": {
        "id": "KHr2MUUa0vdo"
      },
      "source": [
        "### Data generating function"
      ]
    },
    {
      "cell_type": "markdown",
      "metadata": {
        "id": "9EWAZJIQPX4v"
      },
      "source": [
        "Let's write a function that uses the imported kernels to generate our training data:"
      ]
    },
    {
      "cell_type": "code",
      "metadata": {
        "id": "JBgVsH-f0sCa"
      },
      "source": [
        "#Jnn = cp.random.choice ([-1,1], (1,48,48,3), \n",
        "                        #p=[1.0, 0.]).astype(np.float32)"
      ],
      "execution_count": null,
      "outputs": []
    },
    {
      "cell_type": "code",
      "metadata": {
        "id": "Kqyv-iOPP0uu"
      },
      "source": [
        "def generate_train_data (train_len, prob, lat_len=48, m=100):\n",
        "    shape = (lat_len, lat_len)\n",
        "    n_ens = train_len//m\n",
        "    spin = cp.random.choice ([1,-1], (train_len,)+shape).astype(np.int8)\n",
        "    seed = cp.random.randint (-10000,10000, size=(train_len,)+shape,\n",
        "                                       dtype=np.int32)\n",
        "    Jnn = cp.random.choice ([-1,1], (n_ens,)+shape+(3,), \n",
        "                                        p=[1-prob, prob]).astype(np.float32)\n",
        "    energy = cp.zeros ((n_ens,m), np.float32)\n",
        "    tpb = (1,8,8)\n",
        "    bpg = (train_len, lat_len//8, lat_len//8)\n",
        "    perm = cp.arange (0, train_len, dtype=np.int32)\n",
        "    temp = 0.5\n",
        "    T = cp.full ((n_ens,m), 0.5, np.float32)\n",
        "    for _ in range (3000):\n",
        "        update_red [bpg,tpb] (spin, seed, T, Jnn, perm)\n",
        "        update_blue [bpg,tpb] (spin, seed, T, Jnn, perm)\n",
        "        update_green [bpg,tpb] (spin, seed, T, Jnn, perm)\n",
        "\n",
        "    calc_energy [math.ceil(train_len/64),64] (spin, energy, Jnn)\n",
        "    spin = 0.5*cp.asnumpy (spin)\n",
        "    #return cp.asnumpy (energy)\n",
        "    return spin[...,np.newaxis]#Additional axis required for conv2d layer"
      ],
      "execution_count": 28,
      "outputs": []
    },
    {
      "cell_type": "code",
      "metadata": {
        "id": "dC1tIN-ndoVH"
      },
      "source": [
        "energy = generate_train_data (1000, 0.5)"
      ],
      "execution_count": null,
      "outputs": []
    },
    {
      "cell_type": "code",
      "metadata": {
        "id": "lPS5xP_hd1BI"
      },
      "source": [
        "np.sort(energy[0]/(48**2))"
      ],
      "execution_count": null,
      "outputs": []
    },
    {
      "cell_type": "markdown",
      "metadata": {
        "id": "L8c7u_bNg3vw"
      },
      "source": [
        "Let's generate training data for p=0.5 and concatenate with that of p=0.7, with corresponding labels 0 and 1 respectively:"
      ]
    },
    {
      "cell_type": "code",
      "metadata": {
        "id": "-G23fGzjxBJt"
      },
      "source": [
        "t_lattice = generate_train_data (8000, 0.8)\r\n",
        "t_label = np.zeros (8000, np.int32)\r\n",
        "t_lattice = np.concatenate ([t_lattice, generate_train_data (8000,0.9)])\r\n",
        "t_label = np.concatenate ([t_label, np.ones (8000, np.int32)])\r\n",
        "output.eval_js('new Audio(\"https://upload.wikimedia.org/wikipedia/commons/0/05/Beep-09.ogg\").play()')"
      ],
      "execution_count": 58,
      "outputs": []
    },
    {
      "cell_type": "markdown",
      "metadata": {
        "id": "GQrG6XJHjwhK"
      },
      "source": [
        "Let's gather our numpy data in a single tf.data dataset"
      ]
    },
    {
      "cell_type": "code",
      "metadata": {
        "id": "SB0scrmVxMNX"
      },
      "source": [
        "train_data = tf.data.Dataset.from_tensor_slices ((t_lattice,t_label))\r\n",
        "train_data = train_data.shuffle (buffer_size=16000)"
      ],
      "execution_count": 59,
      "outputs": []
    },
    {
      "cell_type": "markdown",
      "metadata": {
        "id": "prnmD3WRmdXq"
      },
      "source": [
        "Splitting the dataset into training and validation datasets:"
      ]
    },
    {
      "cell_type": "code",
      "metadata": {
        "id": "EomAcq6_YWlU"
      },
      "source": [
        "val_data = train_data.take (4000)\r\n",
        "train_data = train_data.skip (4000)"
      ],
      "execution_count": 60,
      "outputs": []
    },
    {
      "cell_type": "code",
      "metadata": {
        "id": "7_C9LhYXn8Zw"
      },
      "source": [
        "val_data = val_data.batch (8)\r\n",
        "train_data = train_data.batch (8)"
      ],
      "execution_count": 61,
      "outputs": []
    },
    {
      "cell_type": "markdown",
      "metadata": {
        "id": "Lf0efs6em_5v"
      },
      "source": [
        "### Neural network initialization and training:"
      ]
    },
    {
      "cell_type": "code",
      "metadata": {
        "id": "ubdpCQCWnKm-"
      },
      "source": [
        "brain = tfk. Sequential([\r\n",
        "    tfk.layers.Conv2D(64, (2,2), activation='relu', input_shape = (48,48,1)),\r\n",
        "    tfk.layers.MaxPool2D (),\r\n",
        "    tfk.layers.Conv2D(64, (2,2), activation='relu'),\r\n",
        "    tfk.layers.Flatten(),\r\n",
        "    tfk.layers.Dense(64, activation='relu'),\r\n",
        "    tfk.layers.Dropout(0.3),\r\n",
        "    tfk.layers.Dense(2, activation='softmax')\r\n",
        "])"
      ],
      "execution_count": 62,
      "outputs": []
    },
    {
      "cell_type": "code",
      "metadata": {
        "id": "rVcreEIjngmO"
      },
      "source": [
        "brain.compile(optimizer='adam',\r\n",
        "              loss='sparse_categorical_crossentropy',\r\n",
        "              metrics=['accuracy'])"
      ],
      "execution_count": 63,
      "outputs": []
    },
    {
      "cell_type": "code",
      "metadata": {
        "colab": {
          "base_uri": "https://localhost:8080/"
        },
        "id": "fEChRZbDnoW_",
        "outputId": "96ba6139-e871-4566-cf4f-bea383c543f1"
      },
      "source": [
        "hist = brain.fit (train_data, epochs=1, validation_data=val_data)"
      ],
      "execution_count": 64,
      "outputs": [
        {
          "output_type": "stream",
          "text": [
            "1500/1500 [==============================] - 6s 3ms/step - loss: 0.5472 - accuracy: 0.6831 - val_loss: 0.0068 - val_accuracy: 0.9992\n"
          ],
          "name": "stdout"
        }
      ]
    },
    {
      "cell_type": "code",
      "metadata": {
        "id": "b_3Y7RCn670V"
      },
      "source": [
        "brain.save (folder_path+\"EA_8_9.h5\")"
      ],
      "execution_count": 65,
      "outputs": []
    },
    {
      "cell_type": "markdown",
      "metadata": {
        "id": "D7FAwZCOo1Nv"
      },
      "source": [
        "### Neural network predictions for intermediate values"
      ]
    },
    {
      "cell_type": "code",
      "metadata": {
        "id": "qZKI9VgZnstN"
      },
      "source": [
        "datax = []\r\n",
        "lattice = []\r\n",
        "p = 0.5\r\n",
        "while (p < 0.601):\r\n",
        "    lattice.append (generate_train_data (2000, p))\r\n",
        "    datax.append (p)\r\n",
        "    p += 0.01\r\n",
        "lattice = np.concatenate (lattice)\r\n",
        "output.eval_js('new Audio(\"https://upload.wikimedia.org/wikipedia/commons/0/05/Beep-09.ogg\").play()')"
      ],
      "execution_count": null,
      "outputs": []
    },
    {
      "cell_type": "code",
      "metadata": {
        "id": "7YKKiK3KidQS"
      },
      "source": [
        "brain = tfk.models.load_model (folder_path+\"EA_7_8.h5\")"
      ],
      "execution_count": 87,
      "outputs": []
    },
    {
      "cell_type": "code",
      "metadata": {
        "id": "WTRotvJLrd33"
      },
      "source": [
        "predictions = brain.predict (lattice[10000:16000])"
      ],
      "execution_count": 88,
      "outputs": []
    },
    {
      "cell_type": "code",
      "metadata": {
        "colab": {
          "base_uri": "https://localhost:8080/"
        },
        "id": "JC4nWXquj7IU",
        "outputId": "5b80fd4b-caf3-4f54-adc3-8591761d3940"
      },
      "source": [
        "predictions.shape"
      ],
      "execution_count": 89,
      "outputs": [
        {
          "output_type": "execute_result",
          "data": {
            "text/plain": [
              "(6000, 2)"
            ]
          },
          "metadata": {
            "tags": []
          },
          "execution_count": 89
        }
      ]
    },
    {
      "cell_type": "code",
      "metadata": {
        "colab": {
          "base_uri": "https://localhost:8080/",
          "height": 265
        },
        "id": "xakHqE1usJpO",
        "outputId": "56d3ba24-891e-4829-c8cf-e9c5dcdd34f2"
      },
      "source": [
        "datax = np.arange (0.7, 0.801, 0.02)\r\n",
        "datay = []\r\n",
        "for i in range (len(datax)):\r\n",
        "    datay.append (predictions[1000*i:1000*(i+1),0].mean())\r\n",
        "plt.plot (datax, datay)\r\n",
        "plt.grid()"
      ],
      "execution_count": 90,
      "outputs": [
        {
          "output_type": "display_data",
          "data": {
            "image/png": "[encoded data removed]",
            "text/plain": [
              "<Figure size 432x288 with 1 Axes>"
            ]
          },
          "metadata": {
            "tags": [],
            "needs_background": "light"
          }
        }
      ]
    },
    {
      "cell_type": "markdown",
      "metadata": {
        "id": "DjExmP0_JCzg"
      },
      "source": [
        "### Correlation functions for intermediate values"
      ]
    },
    {
      "cell_type": "markdown",
      "metadata": {
        "id": "9j8bFomqJjpY"
      },
      "source": [
        "Let's calculate 2 point correlation functions with distance, averaged over both translations and the three rotations possible on a triangular lattice, using the below expression:\r\n",
        "$$ C_2(r) = \\frac{<S(x).S(x+r)>_x}{<S(x)^2>_x-<S(x)>^2_x} $$ which assumes translational invariance between averaging over x as opposed to x+r, and that $<S_x>=0$ for all x. The assumptions are perfectly valid for Edwards Anderson model with periodic boundary conditions.\r\n",
        "\r\n",
        "On that note, we'll import a scipy library function pearsonr that'd help us calculate correlation between data without getting our hands dirty:"
      ]
    },
    {
      "cell_type": "code",
      "metadata": {
        "id": "4qQsUeZTtXo0"
      },
      "source": [
        "from scipy.stats import pearsonr"
      ],
      "execution_count": 14,
      "outputs": []
    },
    {
      "cell_type": "markdown",
      "metadata": {
        "id": "WMlpmMPtS2fh"
      },
      "source": [
        "We'll sample Jnn's from appropriate distributions for each p:"
      ]
    },
    {
      "cell_type": "code",
      "metadata": {
        "id": "g0d_pWYwaau5"
      },
      "source": [
        "Jnn = []\n",
        "p = 0.5\n",
        "while (p < 0.9001):\n",
        "    Jnn.append (np.random.choice ([-1,1], (100,48,48,3), p=[1-p,p]))\n",
        "    p += 0.02\n",
        "Jnn = np.concatenate (Jnn)\n",
        "Jnn = cp.asarray (Jnn)"
      ],
      "execution_count": 6,
      "outputs": []
    },
    {
      "cell_type": "markdown",
      "metadata": {
        "id": "2c-aFfPLczCN"
      },
      "source": [
        "We've made changes to the previous generating function to run this:"
      ]
    },
    {
      "cell_type": "code",
      "metadata": {
        "id": "veQxIyyATGeQ"
      },
      "source": [
        "def generate_train_data (train_len, lat_len=48, m=10):\r\n",
        "    shape = (lat_len, lat_len)\r\n",
        "    n_ens = train_len//m\r\n",
        "    spin = cp.random.choice ([1,-1], (train_len,)+shape).astype(np.int8)\r\n",
        "    seed = cp.random.randint (-10000,10000, size=(train_len,)+shape,\r\n",
        "                                       dtype=np.int32)\r\n",
        "    #Jnn = cp.random.choice ([-1,1], (n_ens,)+shape+(3,), \r\n",
        "                                        #p=[1-prob, prob]).astype(np.float32)\r\n",
        "    energy = cp.zeros ((n_ens,m), np.float32)\r\n",
        "    tpb = (1,8,8)\r\n",
        "    bpg = (train_len, lat_len//8, lat_len//8)\r\n",
        "    perm = cp.arange (0, train_len, dtype=np.int32)\r\n",
        "    temp = 0.5\r\n",
        "    T = cp.full ((n_ens,m), 0.5, np.float32)\r\n",
        "    for _ in range (3000):\r\n",
        "        update_red [bpg,tpb] (spin, seed, T, Jnn, perm)\r\n",
        "        update_blue [bpg,tpb] (spin, seed, T, Jnn, perm)\r\n",
        "        update_green [bpg,tpb] (spin, seed, T, Jnn, perm)\r\n",
        "\r\n",
        "    calc_energy [math.ceil(train_len/64),64] (spin, energy, Jnn)\r\n",
        "    spin = 0.5*cp.asnumpy (spin)\r\n",
        "    #return cp.asnumpy (energy)\r\n",
        "    return spin[...,np.newaxis]#Additional axis required for conv2d layer"
      ],
      "execution_count": 8,
      "outputs": []
    },
    {
      "cell_type": "code",
      "metadata": {
        "id": "3_vTsmANcmtJ"
      },
      "source": [
        "lattice = generate_train_data (Jnn.shape[0]*10)"
      ],
      "execution_count": 9,
      "outputs": []
    },
    {
      "cell_type": "code",
      "metadata": {
        "id": "WhcVAuyad9lW"
      },
      "source": [
        "np.save (folder_path+\"Training Data/TriEAlattice.npy\", lattice)"
      ],
      "execution_count": 27,
      "outputs": []
    },
    {
      "cell_type": "code",
      "metadata": {
        "id": "4YWTjiDiNPlp"
      },
      "source": [
        "TriEA = []\n",
        "for i in range (21):\n",
        "    TriEA.append (lattice[1000*i:1000*(i+1)])"
      ],
      "execution_count": 12,
      "outputs": []
    },
    {
      "cell_type": "code",
      "metadata": {
        "id": "kMEDEbM3Mgx9"
      },
      "source": [
        "corr = np.zeros ((21,3,20,24,24), np.float32)\n",
        "\n",
        "for n in range (21):\n",
        "    for r1 in range (24):\n",
        "        for r2 in range (24):\n",
        "            x1 = np.ravel (TriEA[n][:,r1,r2,:])\n",
        "            for r in range (1,21):\n",
        "                x2 = np.ravel (TriEA[n][:,r1+r,r2,:])\n",
        "                val, _ = pearsonr (x1,x2)\n",
        "                corr [n,0,r-1,r1,r2] = (val)\n",
        "\n",
        "                x2 = np.ravel(TriEA[n][:,r1+int(r-(r%2)*(-1**r2))//2,\n",
        "                                        r2+r,:])\n",
        "                val, _ = pearsonr (x1,x2)\n",
        "                corr [n,1,r-1,r1,r2] = (val)\n",
        "\n",
        "                x2 = np.ravel(TriEA[n][:,r1-int(r+(r%2)*(-1**r2))//2,\n",
        "                                        r2+r,:])\n",
        "                val, _ = pearsonr (x1,x2)\n",
        "                corr [n,2,r-1,r1,r2] = (val)\n",
        "\n",
        "corr = np.mean (corr, axis=(1,3,4))"
      ],
      "execution_count": 15,
      "outputs": []
    },
    {
      "cell_type": "code",
      "metadata": {
        "id": "mtHpj7uuSsT3"
      },
      "source": [
        "corr2 = np.zeros ((3,20,24,24), np.float32)\n",
        "\n",
        "for r1 in range (24):\n",
        "    for r2 in range (24):\n",
        "        x1 = np.ravel (TriEA2[:,r1,r2,:])\n",
        "        for r in range (1,21):\n",
        "            x2 = np.ravel (TriEA2[:,r1+r,r2,:])\n",
        "            val, _ = pearsonr (x1,x2)\n",
        "            corr2 [0,r-1,r1,r2] = (val)\n",
        "\n",
        "            x2 = np.ravel(TriEA2[:,r1+int(r-(r%2)*(-1**r2))//2,\n",
        "                                    r2+r,:])\n",
        "            val, _ = pearsonr (x1,x2)\n",
        "            corr2 [1,r-1,r1,r2] = (val)\n",
        "\n",
        "            x2 = np.ravel(TriEA2[:,r1-int(r+(r%2)*(-1**r2))//2,\n",
        "                                    r2+r,:])\n",
        "            val, _ = pearsonr (x1,x2)\n",
        "            corr2 [2,r-1,r1,r2] = (val)\n",
        "\n",
        "corr2 = np.mean (corr2, axis=(0,2,3))"
      ],
      "execution_count": null,
      "outputs": []
    },
    {
      "cell_type": "code",
      "metadata": {
        "id": "ACv9Gw8-lHT2"
      },
      "source": [
        "corr3 = np.zeros ((3,20,24,24), np.float32)\n",
        "\n",
        "for r1 in range (24):\n",
        "    for r2 in range (24):\n",
        "        x1 = np.ravel (TriEA3[:,r1,r2,:])\n",
        "        for r in range (1,21):\n",
        "            x2 = np.ravel (TriEA3[:,r1+r,r2,:])\n",
        "            val, _ = pearsonr (x1,x2)\n",
        "            corr3 [0,r-1,r1,r2] = (val)\n",
        "\n",
        "            x2 = np.ravel(TriEA3[:,r1+int(r-(r%2)*(-1**r2))//2,\n",
        "                                    r2+r,:])\n",
        "            val, _ = pearsonr (x1,x2)\n",
        "            corr3 [1,r-1,r1,r2] = (val)\n",
        "\n",
        "            x2 = np.ravel(TriEA3[:,r1-int(r+(r%2)*(-1**r2))//2,\n",
        "                                    r2+r,:])\n",
        "            val, _ = pearsonr (x1,x2)\n",
        "            corr3 [2,r-1,r1,r2] = (val)\n",
        "\n",
        "corr3 = np.mean (corr3, axis=(0,2,3))"
      ],
      "execution_count": null,
      "outputs": []
    },
    {
      "cell_type": "code",
      "metadata": {
        "id": "v1ZoLD7tkVhZ"
      },
      "source": [
        "output.eval_js('new Audio(\"https://upload.wikimedia.org/wikipedia/commons/0/05/Beep-09.ogg\").play()')"
      ],
      "execution_count": null,
      "outputs": []
    },
    {
      "cell_type": "code",
      "metadata": {
        "colab": {
          "base_uri": "https://localhost:8080/",
          "height": 265
        },
        "id": "C_M98oyoVGk-",
        "outputId": "adfc35b4-cd65-493b-b7e6-305ff8410dc2"
      },
      "source": [
        "_, ax = plt.subplots()\n",
        "ax.plot (range(1,21), list(corr1), label='p = 0.50')\n",
        "ax.plot (range(1,21), list(corr2), label='p = 0.52')\n",
        "ax.plot (range(1,21), list(corr3), label='p = 0.54')\n",
        "ax.legend (loc= 'upper right' )\n",
        "ax.grid ()\n",
        "plt.show ()"
      ],
      "execution_count": null,
      "outputs": [
        {
          "output_type": "display_data",
          "data": {
            "image/png": "[encoded data removed]",
            "text/plain": [
              "<Figure size 432x288 with 1 Axes>"
            ]
          },
          "metadata": {
            "tags": [],
            "needs_background": "light"
          }
        }
      ]
    },
    {
      "cell_type": "code",
      "metadata": {
        "colab": {
          "base_uri": "https://localhost:8080/",
          "height": 265
        },
        "id": "7lRgnzzss0b1",
        "outputId": "597c0abc-ed2d-4b05-9b3d-c498c5435189"
      },
      "source": [
        "_, ax = plt.subplots()\n",
        "ax.plot (range(1,21), list(corr1), label='p = 0.56')\n",
        "ax.plot (range(1,21), list(corr2), label='p = 0.58')\n",
        "ax.plot (range(1,21), list(corr3), label='p = 0.60')\n",
        "ax.legend (loc= 'upper right' )\n",
        "ax.grid ()\n",
        "plt.show ()"
      ],
      "execution_count": null,
      "outputs": [
        {
          "output_type": "display_data",
          "data": {
            "image/png": "[encoded data removed]",
            "text/plain": [
              "<Figure size 432x288 with 1 Axes>"
            ]
          },
          "metadata": {
            "tags": [],
            "needs_background": "light"
          }
        }
      ]
    },
    {
      "cell_type": "code",
      "metadata": {
        "colab": {
          "base_uri": "https://localhost:8080/",
          "height": 268
        },
        "id": "dmskoc0nFljR",
        "outputId": "1fa3682c-2d85-438d-9eba-48f4cf161f03"
      },
      "source": [
        "_, ax = plt.subplots()\n",
        "ax.plot (range(1,21), list(corr[3]), label='p = 0.56')\n",
        "ax.plot (range(1,21), list(corr[5]), label='p = 0.60')\n",
        "ax.plot (range(1,21), list(corr[7]), label='p = 0.64')\n",
        "ax.plot (range(1,21), list(corr[9]), label='p = 0.68')\n",
        "ax.legend (loc= 'upper right' )\n",
        "ax.grid ()\n",
        "plt.show ()"
      ],
      "execution_count": 24,
      "outputs": [
        {
          "output_type": "display_data",
          "data": {
            "image/png": "[encoded data removed]",
            "text/plain": [
              "<Figure size 432x288 with 1 Axes>"
            ]
          },
          "metadata": {
            "tags": [],
            "needs_background": "light"
          }
        }
      ]
    },
    {
      "cell_type": "code",
      "metadata": {
        "colab": {
          "base_uri": "https://localhost:8080/",
          "height": 279
        },
        "id": "HskKFimuV870",
        "outputId": "50da8882-f9f9-49c3-aff2-e30843653b21"
      },
      "source": [
        "param = (corr[:,0])\n",
        "probs = np.arange (0.5, 0.91, 0.02)\n",
        "plt.plot (probs, param)\n",
        "plt.xlabel (\"p\")\n",
        "plt.ylabel (\"\")\n",
        "plt.grid ()"
      ],
      "execution_count": 26,
      "outputs": [
        {
          "output_type": "display_data",
          "data": {
            "image/png": "[encoded data removed]",
            "text/plain": [
              "<Figure size 432x288 with 1 Axes>"
            ]
          },
          "metadata": {
            "tags": [],
            "needs_background": "light"
          }
        }
      ]
    },
    {
      "cell_type": "code",
      "metadata": {
        "id": "21WzMRmfuP_d"
      },
      "source": [
        "mags = np.mean(t_lattice, axis=(2,3,4))\n",
        "mags = np.abs (mags)\n",
        "mags = np.mean (mags, axis=1)"
      ],
      "execution_count": null,
      "outputs": []
    },
    {
      "cell_type": "code",
      "metadata": {
        "colab": {
          "base_uri": "https://localhost:8080/"
        },
        "id": "yCYb90C1R0YC",
        "outputId": "143fcfab-25fb-4e1a-a374-9052ac4bfc28"
      },
      "source": [
        "mags"
      ],
      "execution_count": null,
      "outputs": [
        {
          "output_type": "execute_result",
          "data": {
            "text/plain": [
              "array([0.01222434, 0.01131912, 0.01041802, 0.00966857, 0.00878114,\n",
              "       0.00835623, 0.00773389, 0.00723947, 0.00668739, 0.00663856,\n",
              "       0.00611019])"
            ]
          },
          "metadata": {
            "tags": []
          },
          "execution_count": 49
        }
      ]
    },
    {
      "cell_type": "code",
      "metadata": {
        "colab": {
          "base_uri": "https://localhost:8080/",
          "height": 282
        },
        "id": "fTaV1TxlR1H6",
        "outputId": "e6d22803-d504-4a11-8200-04dfe72e0ada"
      },
      "source": [
        "plt.plot (np.arange (0.4, 0.61, 0.02, float), mags)"
      ],
      "execution_count": null,
      "outputs": [
        {
          "output_type": "execute_result",
          "data": {
            "text/plain": [
              "[<matplotlib.lines.Line2D at 0x7f9e11bcc908>]"
            ]
          },
          "metadata": {
            "tags": []
          },
          "execution_count": 53
        },
        {
          "output_type": "display_data",
          "data": {
            "image/png": "[encoded data removed]",
            "text/plain": [
              "<Figure size 432x288 with 1 Axes>"
            ]
          },
          "metadata": {
            "tags": [],
            "needs_background": "light"
          }
        }
      ]
    },
    {
      "cell_type": "code",
      "metadata": {
        "id": "9SY5v1s2SPLz"
      },
      "source": [
        ""
      ],
      "execution_count": null,
      "outputs": []
    },
    {
      "cell_type": "markdown",
      "metadata": {
        "id": "eHD96EKdhYSB"
      },
      "source": [
        "# Bimodal EA lattice temperature evolution"
      ]
    },
    {
      "cell_type": "code",
      "metadata": {
        "id": "hNHztCvt4Nf-"
      },
      "source": [
        "import math\n",
        "import numpy as np\n",
        "import cupy as cp\n",
        "import tensorflow.keras as tfk\n",
        "import tensorflow as tf\n",
        "import matplotlib.pyplot as plt\n",
        "from numba import cuda"
      ],
      "execution_count": null,
      "outputs": []
    },
    {
      "cell_type": "markdown",
      "metadata": {
        "id": "XprywpKbhhsw"
      },
      "source": [
        "## Fixed couplings"
      ]
    },
    {
      "cell_type": "markdown",
      "metadata": {
        "id": "0mC7Tk30iGDY"
      },
      "source": [
        "Let's fix our couplings and broadcast the same to the entire ensemble:"
      ]
    },
    {
      "cell_type": "code",
      "metadata": {
        "id": "Q62rpOXPhgqc"
      },
      "source": [
        "Jnn = cp.random.choice ([-1,1], (48,48,2))\n",
        "Jnn = cp.broadcast_to (Jnn, (10,48,48,2))"
      ],
      "execution_count": null,
      "outputs": []
    },
    {
      "cell_type": "code",
      "metadata": {
        "id": "Hk-kqH9mn4EO"
      },
      "source": [
        "@cuda.jit\n",
        "def update_sq (spin, seed, T, J_nn, is_black, perm):\n",
        "    m = T.shape[1]\n",
        "    z, x, y = cuda.grid (3)\n",
        "    z = perm[z]\n",
        "    n = int(math.floor (z / m))\n",
        "    l = z % m\n",
        "    p, q = x % 3, y % 2\n",
        "\n",
        "    def random_uniform ():\n",
        "        seed[z, x, y] = np.int32((seed[z ,x, y]*1664525 + 1013904223) % 2**31)\n",
        "        return seed[z, x, y] / (2**31)\n",
        "\n",
        "    def bvc (x):\n",
        "        if x == spin.shape[1]:\n",
        "            x = 0\n",
        "        return x       \n",
        "\n",
        "    def sum_nn():  # This adds spins of six neighbours instead of 4 subject to\n",
        "        #many constraints characteristic of triangular lattices\n",
        "        value = 0.\n",
        "        value += J_nn[n,x,y,0]*spin[z, bvc(x+1), y]\n",
        "        value += J_nn[n,x,y,1]*spin[z, x, bvc(y+1)]\n",
        "        value += J_nn[n,x-1,y,0]*spin[z, x-1, y]\n",
        "        value += J_nn[n,x,y-1,1]*spin[z, x-1, y]\n",
        "        return value\n",
        "\n",
        "    def calc():\n",
        "        probs = random_uniform()\n",
        "        if (probs < math.exp(2*spin[z, x, y]*sum_nn()/T[n,l])):\n",
        "            spin[z, x, y] *= np.int8(-1)\n",
        "    \n",
        "    if is_black==True:\n",
        "        if (p == 0 and q == 0) or (p == 1 and q == 1):\n",
        "            calc()\n",
        "\n",
        "    else:\n",
        "        if (p == 0 and q == 1) or (p == 1 and q == 0):\n",
        "            calc()\n",
        "\n",
        "@cuda.jit\n",
        "def calc_energy_sq (spin, energy, J_nn):\n",
        "    z = cuda.grid (1)\n",
        "    n = int(math.floor (z / energy.shape[1]))\n",
        "    l = z % energy.shape[1]\n",
        "\n",
        "    def bvc (x):\n",
        "        if x == spin.shape[1]:\n",
        "            x = 0\n",
        "        return x\n",
        "    \n",
        "    def sum_nn_part(x, y, z):  # This adds spins of six neighbours instead of 4 subject to\n",
        "        #many constraints characteristic of triangular lattices\n",
        "        value = 0.\n",
        "\n",
        "        value += J_nn[n,x,y,0]*spin[z, bvc(x+1), y]\n",
        "        value += J_nn[n,x,y,1]*spin[z, x, bvc(y+1)]\n",
        "        return value\n",
        "    \n",
        "    ener = 0\n",
        "    if z < spin.shape[0]:\n",
        "        for x in range (spin.shape[1]):\n",
        "            for y in range (spin.shape[2]):\n",
        "                ener += spin[z,x,y]*sum_nn_part(x,y,z)\n",
        "        energy[n,l] = ener\n",
        "\n",
        "@cuda.jit\n",
        "def parallel_temper2 (T, seed, energy, perm):\n",
        "    z = cuda.grid(1)\n",
        "    m = T.shape[1]//2\n",
        "    n = int(math.floor (z/m))\n",
        "    l = z % m #Takes values between 0 and m//2\n",
        "    if z < seed.shape[0]//2:\n",
        "        rand_n = 0 if np.float32(seed[n, 0, 0]/2**31) < 0.5 else 1\n",
        "        ptr = 2*l + rand_n\n",
        "        z = 2*z + rand_n\n",
        "        if ptr < energy.shape[0]-1:\n",
        "            val0 = perm[z]\n",
        "            val1 = perm[z+1]\n",
        "            e0 = energy[n,ptr]\n",
        "            e1 = energy[n,ptr+1]\n",
        "            rand_unif = np.float32(seed[z, 1, 0] / 2**31)\n",
        "            arg = (e0 - e1)*((1./T[n,ptr]) - (1./T[n,ptr+1]))\n",
        "            if (arg < 0):\n",
        "                if rand_unif < math.exp(arg):\n",
        "                    perm[z] = val1\n",
        "                    perm[z+1] = val0\n",
        "            else:\n",
        "                perm[z] = val1\n",
        "                perm[z+1] = val0"
      ],
      "execution_count": null,
      "outputs": []
    },
    {
      "cell_type": "code",
      "metadata": {
        "id": "x632YGjKn52h"
      },
      "source": [
        "def generate_train_data (train_len, prob, lat_len=48, m=100):\n",
        "    shape = (lat_len, lat_len)\n",
        "    n_ens = train_len//m\n",
        "    spin = cp.random.choice ([1,-1], (train_len,)+shape).astype(np.int8)\n",
        "    seed = cp.random.randint (-10000,10000, size=(train_len,)+shape,\n",
        "                                       dtype=np.int32)\n",
        "    #Jnn = cp.random.choice ([-1,1], (n_ens,)+shape+(3,), \n",
        "                                        #p=[1-prob, prob]).astype(np.float32)\n",
        "    energy = cp.zeros ((n_ens,m), np.float32)\n",
        "    tpb = (1,8,8)\n",
        "    bpg = (train_len, lat_len//8, lat_len//8)\n",
        "    perm = cp.arange (0, train_len, dtype=np.int32)\n",
        "\n",
        "    T = cp.linspace (0.5, 4.0, m, dtype=np.float32)\n",
        "    T = cp.broadcast_to (T, (n_ens,m))\n",
        "    for _ in range (500):\n",
        "        for _ in range (4):\n",
        "            update_sq [bpg,tpb] (spin, seed, T, Jnn, True, perm)\n",
        "            update_sq [bpg,tpb] (spin, seed, T, Jnn, True, perm)\n",
        "        calc_energy_sq [math.ceil(train_len/64),64] (spin, energy, Jnn)\n",
        "        parallel_temper2 [math.ceil(train_len/128),64] (T, seed, energy, perm)\n",
        "\n",
        "    T = cp.full ((n_ens,m), 0.5, np.float32)\n",
        "    for _ in range (2000):\n",
        "        update_sq [bpg,tpb] (spin, seed, T, Jnn, True, perm)\n",
        "        update_sq [bpg,tpb] (spin, seed, T, Jnn, True, perm)\n",
        "\n",
        "    calc_energy_sq [math.ceil(train_len/64),64] (spin, energy, Jnn)\n",
        "    spin = 0.5*cp.asnumpy (spin)\n",
        "    return cp.asnumpy (energy)"
      ],
      "execution_count": null,
      "outputs": []
    },
    {
      "cell_type": "code",
      "metadata": {
        "id": "oJUy8kx_obST"
      },
      "source": [
        "energy = generate_train_data (1000, 0.5)"
      ],
      "execution_count": null,
      "outputs": []
    },
    {
      "cell_type": "code",
      "metadata": {
        "colab": {
          "base_uri": "https://localhost:8080/"
        },
        "id": "NdjlCHbOo2np",
        "outputId": "604ad2fc-7700-421a-d213-cf7023ee4000"
      },
      "source": [
        "np.sort(energy[0])"
      ],
      "execution_count": null,
      "outputs": [
        {
          "output_type": "execute_result",
          "data": {
            "text/plain": [
              "array([-1504., -1460., -1456., -1444., -1436., -1432., -1432., -1428.,\n",
              "       -1412., -1412., -1392., -1388., -1384., -1384., -1372., -1372.,\n",
              "       -1364., -1364., -1364., -1356., -1356., -1356., -1356., -1352.,\n",
              "       -1352., -1340., -1324., -1316., -1316., -1312., -1304., -1300.,\n",
              "       -1292., -1292., -1288., -1284., -1268., -1260., -1260., -1256.,\n",
              "       -1252., -1236., -1232., -1232., -1232., -1228., -1224., -1224.,\n",
              "       -1208., -1208., -1208., -1208., -1204., -1200., -1196., -1192.,\n",
              "       -1188., -1184., -1168., -1168., -1168., -1168., -1164., -1164.,\n",
              "       -1156., -1156., -1156., -1152., -1152., -1152., -1148., -1148.,\n",
              "       -1144., -1140., -1132., -1128., -1128., -1116., -1112., -1112.,\n",
              "       -1112., -1108., -1104., -1104., -1100., -1100., -1100., -1100.,\n",
              "       -1096., -1092., -1080., -1076., -1072., -1064., -1052., -1032.,\n",
              "       -1020., -1016., -1004.,  -944.], dtype=float32)"
            ]
          },
          "metadata": {
            "tags": []
          },
          "execution_count": 57
        }
      ]
    },
    {
      "cell_type": "code",
      "metadata": {
        "colab": {
          "base_uri": "https://localhost:8080/"
        },
        "id": "3uFjzb23oU28",
        "outputId": "0df8c463-6918-42be-a002-28d3b729aa18"
      },
      "source": [
        "val = cp.asarray (True)\n",
        "val == False"
      ],
      "execution_count": null,
      "outputs": [
        {
          "output_type": "execute_result",
          "data": {
            "text/plain": [
              "array(False)"
            ]
          },
          "metadata": {
            "tags": []
          },
          "execution_count": 56
        }
      ]
    },
    {
      "cell_type": "code",
      "metadata": {
        "id": "UrDTsdCzpP4O"
      },
      "source": [
        ""
      ],
      "execution_count": null,
      "outputs": []
    }
  ]
}
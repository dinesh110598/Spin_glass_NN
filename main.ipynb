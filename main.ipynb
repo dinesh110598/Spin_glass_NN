{
  "nbformat": 4,
  "nbformat_minor": 0,
  "metadata": {
    "colab": {
      "name": "EA_classification.ipynb",
      "provenance": [],
      "toc_visible": true,
      "authorship_tag": "ABX9TyPUCtGaYnJcufrVnM0wNAUi",
      "include_colab_link": true
    },
    "kernelspec": {
      "name": "python3",
      "display_name": "Python 3"
    },
    "accelerator": "GPU"
  },
  "cells": [
    {
      "cell_type": "markdown",
      "metadata": {
        "id": "view-in-github",
        "colab_type": "text"
      },
      "source": [
        "<a href=\"https://colab.research.google.com/github/dinesh110598/Spin_glass_NN/blob/master/main.ipynb\" target=\"_parent\"><img src=\"https://colab.research.google.com/assets/colab-badge.svg\" alt=\"Open In Colab\"/></a>"
      ]
    },
    {
      "cell_type": "markdown",
      "metadata": {
        "id": "SV2nuUHhw0NF"
      },
      "source": [
        "# Classifying Bimodal triangular EA lattices\n",
        "The Hamiltonian for the EA model on a 2d triangular lattice with spins {S}:\n",
        "\n",
        "$ H = \\displaystyle\\sum_{<i,j>} J_{ij}(p).S_iS_j$ where \\<ij\\> denotes nearest neighbour positions on a triangular lattice and $J_{ij}(p)$ takes values +1 and -1 with probabilities p and 1-p respectively. We'll consider only the values of p between 0.5 and 1 throughout this notebook."
      ]
    },
    {
      "cell_type": "markdown",
      "metadata": {
        "id": "CiMrHL630GQx"
      },
      "source": [
        "## Classification between p=0.5 and p=0.7\n",
        "In this subsection, we will supply a convolutional neural network (CNN) with properly labelled samples for p=0.5 and p=0.7, over multiple realisations of couplings $J_{ij}$ in each category. Later, we'll analyse the network's output for intermediate values of p. Following this, we'll look at 2 point correlation functions of these lattices for the same values and compare the variation of correlation functions with that of neural network output. "
      ]
    },
    {
      "cell_type": "markdown",
      "metadata": {
        "id": "oaGIUS_0gkaa"
      },
      "source": [
        "### Imports and dependecies"
      ]
    },
    {
      "cell_type": "code",
      "metadata": {
        "id": "anOPkWDHwq8h"
      },
      "source": [
        "import math\n",
        "import numpy as np\n",
        "import cupy as cp\n",
        "import tensorflow.keras as tfk\n",
        "import tensorflow as tf\n",
        "import matplotlib.pyplot as plt"
      ],
      "execution_count": null,
      "outputs": []
    },
    {
      "cell_type": "code",
      "metadata": {
        "id": "1A-E1QM825-j"
      },
      "source": [
        "from google.colab import drive\n",
        "from google.colab import output\n",
        "drive.mount('/content/drive', force_remount=True)\n",
        "folder_path = \"/content/drive/My Drive/Project Presentations/Spin_glass_phase_classification/\""
      ],
      "execution_count": null,
      "outputs": []
    },
    {
      "cell_type": "markdown",
      "metadata": {
        "id": "7WwgIeQxKcXY"
      },
      "source": [
        "I've written Numba CUDA kernels (functions that perform calculations inside GPUs using CUDA) for simulating MCMC and parallel tempering algorithms for triangular EA model, in a seperate python file. Let's import the file and its contents inside this notebook:"
      ]
    },
    {
      "cell_type": "code",
      "metadata": {
        "colab": {
          "base_uri": "https://localhost:8080/"
        },
        "id": "enbqC50_Low8",
        "outputId": "313f2adc-4fdf-470c-a096-3f0c973ad741"
      },
      "source": [
        "!curl -o TriEA_kernels.py https://raw.githubusercontent.com/dinesh110598/Spin_glass_NN/master/TriEA_kernels.py"
      ],
      "execution_count": null,
      "outputs": [
        {
          "output_type": "stream",
          "text": [
            "  % Total    % Received % Xferd  Average Speed   Time    Time     Time  Current\n",
            "                                 Dload  Upload   Total   Spent    Left  Speed\n",
            "100  6063  100  6063    0     0  14970      0 --:--:-- --:--:-- --:--:-- 14970\n"
          ],
          "name": "stdout"
        }
      ]
    },
    {
      "cell_type": "code",
      "metadata": {
        "id": "3L3kskP0PQzb"
      },
      "source": [
        "from TriEA_kernels import *"
      ],
      "execution_count": null,
      "outputs": []
    },
    {
      "cell_type": "markdown",
      "metadata": {
        "id": "KHr2MUUa0vdo"
      },
      "source": [
        "### Data generating function"
      ]
    },
    {
      "cell_type": "markdown",
      "metadata": {
        "id": "9EWAZJIQPX4v"
      },
      "source": [
        "Let's write a function that uses the imported kernels to generate our training data:"
      ]
    },
    {
      "cell_type": "code",
      "metadata": {
        "id": "Kqyv-iOPP0uu"
      },
      "source": [
        "def generate_train_data (train_len, prob, lat_len=48, m=100):\n",
        "    shape = (lat_len, lat_len)\n",
        "    n_ens = train_len//m\n",
        "    spin = cp.random.choice ([1,-1], (train_len,)+shape).astype(np.int8)\n",
        "    seed = cp.random.randint (-10000,10000, size=(train_len,)+shape,\n",
        "                                       dtype=np.int32)\n",
        "    Jnn = cp.random.choice ([-1,1], (n_ens,)+shape+(3,), \n",
        "                                        p=[1-prob, prob]).astype(np.float32)\n",
        "    energy = cp.zeros ((n_ens,m), np.float32)\n",
        "    tpb = (1,8,8)\n",
        "    bpg = (train_len, lat_len//8, lat_len//8)\n",
        "    temp = 0.5\n",
        "    T = cp.linspace (temp, temp+2.5, m, dtype=np.float32)\n",
        "    T = cp.broadcast_to (T, (n_ens,m))\n",
        "    for _ in range (300):\n",
        "        for _ in range (4):\n",
        "            update_red [bpg,tpb] (spin, seed, T, Jnn)\n",
        "            update_blue [bpg,tpb] (spin, seed, T, Jnn)\n",
        "            update_green [bpg,tpb] (spin, seed, T, Jnn)\n",
        "        calc_energy [math.ceil(train_len/64),64] (spin, energy, Jnn)\n",
        "        parallel_temper2 [math.ceil(train_len/128),64] (T, seed, energy)\n",
        "    T = cp.full (T.shape, temp, np.float32)\n",
        "    for _ in range (500):\n",
        "        update_red [bpg,tpb] (spin, seed, T, Jnn)\n",
        "        update_blue [bpg,tpb] (spin, seed, T, Jnn)\n",
        "        update_green [bpg,tpb] (spin, seed, T, Jnn)\n",
        "\n",
        "    calc_energy [math.ceil(train_len/64),64] (spin, energy, Jnn)\n",
        "    spin = 0.5*cp.asnumpy (spin)\n",
        "    return spin[...,np.newaxis]#Additional axis required for conv2d layer"
      ],
      "execution_count": null,
      "outputs": []
    },
    {
      "cell_type": "markdown",
      "metadata": {
        "id": "L8c7u_bNg3vw"
      },
      "source": [
        "Let's generate training data for p=0.5 and concatenate with that of p=0.7, with corresponding labels 0 and 1 respectively:"
      ]
    },
    {
      "cell_type": "code",
      "metadata": {
        "id": "-G23fGzjxBJt"
      },
      "source": [
        "t_lattice = generate_train_data (8000, 0.5)\r\n",
        "t_label = np.zeros (8000, np.int32)\r\n",
        "t_lattice = np.concatenate ([t_lattice, generate_train_data (8000,0.7)])\r\n",
        "t_label = np.concatenate ([t_label, np.ones (8000, np.int32)])"
      ],
      "execution_count": null,
      "outputs": []
    },
    {
      "cell_type": "code",
      "metadata": {
        "colab": {
          "base_uri": "https://localhost:8080/"
        },
        "id": "tR-JxvYZkfNI",
        "outputId": "dcc98efb-5359-4089-ae54-f45698883756"
      },
      "source": [
        "t_lattice.shape"
      ],
      "execution_count": null,
      "outputs": [
        {
          "output_type": "execute_result",
          "data": {
            "text/plain": [
              "(16000, 48, 48, 1)"
            ]
          },
          "metadata": {
            "tags": []
          },
          "execution_count": 14
        }
      ]
    },
    {
      "cell_type": "markdown",
      "metadata": {
        "id": "GQrG6XJHjwhK"
      },
      "source": [
        "Let's gather our numpy data in a single tf.data dataset"
      ]
    },
    {
      "cell_type": "code",
      "metadata": {
        "id": "SB0scrmVxMNX"
      },
      "source": [
        "train_data = tf.data.Dataset.from_tensor_slices ((t_lattice,t_label))\r\n",
        "train_data = train_data.shuffle (buffer_size=16000)"
      ],
      "execution_count": null,
      "outputs": []
    },
    {
      "cell_type": "markdown",
      "metadata": {
        "id": "prnmD3WRmdXq"
      },
      "source": [
        "Splitting the dataset into training and validation datasets:"
      ]
    },
    {
      "cell_type": "code",
      "metadata": {
        "id": "EomAcq6_YWlU"
      },
      "source": [
        "val_data = train_data.take (4000)\r\n",
        "train_data = train_data.skip (4000)"
      ],
      "execution_count": null,
      "outputs": []
    },
    {
      "cell_type": "code",
      "metadata": {
        "id": "7_C9LhYXn8Zw"
      },
      "source": [
        "val_data = val_data.batch (16)\r\n",
        "train_data = train_data.batch (16)"
      ],
      "execution_count": null,
      "outputs": []
    },
    {
      "cell_type": "markdown",
      "metadata": {
        "id": "Lf0efs6em_5v"
      },
      "source": [
        "### Neural network initialization and training:"
      ]
    },
    {
      "cell_type": "code",
      "metadata": {
        "id": "ubdpCQCWnKm-"
      },
      "source": [
        "brain = tfk. Sequential([\r\n",
        "    tfk.layers.Conv2D(64, (2,2), activation='relu', input_shape = (48,48,1)),\r\n",
        "    tfk.layers.MaxPool2D (),\r\n",
        "    tfk.layers.Conv2D(64, (2,2), activation='relu'),\r\n",
        "    tfk.layers.Flatten(),\r\n",
        "    tfk.layers.Dense(64, activation='relu'),\r\n",
        "    tfk.layers.Dropout(0.3),\r\n",
        "    tfk.layers.Dense(2, activation='softmax')\r\n",
        "])"
      ],
      "execution_count": null,
      "outputs": []
    },
    {
      "cell_type": "code",
      "metadata": {
        "id": "rVcreEIjngmO"
      },
      "source": [
        "brain.compile(optimizer='adam',\r\n",
        "              loss='sparse_categorical_crossentropy',\r\n",
        "              metrics=['accuracy'])"
      ],
      "execution_count": null,
      "outputs": []
    },
    {
      "cell_type": "code",
      "metadata": {
        "colab": {
          "base_uri": "https://localhost:8080/"
        },
        "id": "fEChRZbDnoW_",
        "outputId": "727b74ab-9177-498f-a0dc-03c5cd93aafe"
      },
      "source": [
        "hist = brain.fit (train_data, epochs=1, validation_data=val_data)"
      ],
      "execution_count": null,
      "outputs": [
        {
          "output_type": "stream",
          "text": [
            "750/750 [==============================] - 5s 5ms/step - loss: 0.1879 - accuracy: 0.9058 - val_loss: 1.0642e-05 - val_accuracy: 1.0000\n"
          ],
          "name": "stdout"
        }
      ]
    },
    {
      "cell_type": "markdown",
      "metadata": {
        "id": "D7FAwZCOo1Nv"
      },
      "source": [
        "### Neural network predictions for intermediate values"
      ]
    },
    {
      "cell_type": "code",
      "metadata": {
        "id": "qZKI9VgZnstN"
      },
      "source": [
        "datax = []\r\n",
        "t_lattice = []\r\n",
        "p = 0.5\r\n",
        "while (p < 0.701):\r\n",
        "    t_lattice.append (generate_train_data (1000, p))\r\n",
        "    datax.append (p)\r\n",
        "    p += 0.02\r\n",
        "t_lattice = np.concatenate (t_lattice)"
      ],
      "execution_count": null,
      "outputs": []
    },
    {
      "cell_type": "code",
      "metadata": {
        "id": "WTRotvJLrd33"
      },
      "source": [
        "predictions = brain.predict (t_lattice)"
      ],
      "execution_count": null,
      "outputs": []
    },
    {
      "cell_type": "code",
      "metadata": {
        "colab": {
          "base_uri": "https://localhost:8080/"
        },
        "id": "SRhi_bFJsrWR",
        "outputId": "34a74d50-17b8-42cd-f7b5-fd83ec4aacd0"
      },
      "source": [
        "predictions.shape"
      ],
      "execution_count": null,
      "outputs": [
        {
          "output_type": "execute_result",
          "data": {
            "text/plain": [
              "(11000, 2)"
            ]
          },
          "metadata": {
            "tags": []
          },
          "execution_count": 41
        }
      ]
    },
    {
      "cell_type": "code",
      "metadata": {
        "colab": {
          "base_uri": "https://localhost:8080/",
          "height": 283
        },
        "id": "xakHqE1usJpO",
        "outputId": "d02e6d68-ced0-4289-b205-92ea270e8ae8"
      },
      "source": [
        "datay = []\r\n",
        "for i in range (11):\r\n",
        "    datay.append (predictions[1000*i:1000*(i+1),0].mean())\r\n",
        "plt.plot (datax, datay)"
      ],
      "execution_count": null,
      "outputs": [
        {
          "output_type": "execute_result",
          "data": {
            "text/plain": [
              "[<matplotlib.lines.Line2D at 0x7fa737dede80>]"
            ]
          },
          "metadata": {
            "tags": []
          },
          "execution_count": 42
        },
        {
          "output_type": "display_data",
          "data": {
            "image/png": "[encoded data removed]",
            "text/plain": [
              "<Figure size 432x288 with 1 Axes>"
            ]
          },
          "metadata": {
            "tags": [],
            "needs_background": "light"
          }
        }
      ]
    },
    {
      "cell_type": "code",
      "metadata": {
        "id": "4qQsUeZTtXo0"
      },
      "source": [
        ""
      ],
      "execution_count": null,
      "outputs": []
    }
  ]
}
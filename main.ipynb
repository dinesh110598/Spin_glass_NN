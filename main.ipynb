{
  "nbformat": 4,
  "nbformat_minor": 0,
  "metadata": {
    "language_info": {
      "codemirror_mode": {
        "name": "ipython",
        "version": 3
      },
      "file_extension": ".py",
      "mimetype": "text/x-python",
      "name": "python",
      "nbconvert_exporter": "python",
      "pygments_lexer": "ipython3",
      "version": "3.8.3-final"
    },
    "orig_nbformat": 2,
    "kernelspec": {
      "name": "python3",
      "display_name": "Python 3"
    },
    "colab": {
      "name": "spin_glass_class.ipynb",
      "provenance": [],
      "collapsed_sections": [],
      "toc_visible": true,
      "include_colab_link": true
    },
    "accelerator": "GPU"
  },
  "cells": [
    {
      "cell_type": "markdown",
      "metadata": {
        "id": "view-in-github",
        "colab_type": "text"
      },
      "source": [
        "<a href=\"https://colab.research.google.com/github/dinesh110598/Spin_glass_NN/blob/master/main.ipynb\" target=\"_parent\"><img src=\"https://colab.research.google.com/assets/colab-badge.svg\" alt=\"Open In Colab\"/></a>"
      ]
    },
    {
      "cell_type": "markdown",
      "metadata": {
        "id": "VVQzGF2lGJlc",
        "colab_type": "text"
      },
      "source": [
        "# Classification of different types of spin glass phases\n",
        "\n",
        "Spin glass phases typically occur in frustrated spin systems where minimum energy cannot be attained in all lattice sites. They can occur in two possible situations:\n",
        "1. Disorder in values of coupling constants. Eg: Edwards Anderson (EA) spin glass phase\n",
        "2. Geometric constraints on neighbouring spin values. Eg: Antiferromagnetic triangular Ising glass phase\n",
        "\n",
        "As it turns out, distinguishing these two kinds of spin glass phases is non-trivial and not possible by calculating quantities like magnetization, susceptibility, two point correlations. Our aim will be to feed simulated thermal ensembles of EA spin glass and triangular antiferromagnetic spin glass labelled categorically, to a convolutional neural network and see whether it accurately learns the inherent difference in their statistics "
      ]
    },
    {
      "cell_type": "markdown",
      "metadata": {
        "id": "xhxXA5ZUSaec",
        "colab_type": "text"
      },
      "source": [
        "## Phase change in 2D Triangular Antiferromagnetic Ising Model"
      ]
    },
    {
      "cell_type": "code",
      "metadata": {
        "id": "NJP1G36LGJle",
        "colab_type": "code",
        "colab": {}
      },
      "source": [
        "#importing necessary libraries\n",
        "import numpy as np\n",
        "import tensorflow as tf\n",
        "from numba import cuda,jit\n",
        "from tensorflow import keras\n",
        "import math\n",
        "import matplotlib.pyplot as plt"
      ],
      "execution_count": null,
      "outputs": []
    },
    {
      "cell_type": "code",
      "metadata": {
        "id": "jwHXdBf72pDV",
        "colab_type": "code",
        "colab": {
          "base_uri": "https://localhost:8080/",
          "height": 133
        },
        "outputId": "481bd45d-2c6f-49a1-b862-e51b34825abf"
      },
      "source": [
        "from google.colab import drive\n",
        "drive.mount(\"/content/drive\", force_remount=True)"
      ],
      "execution_count": null,
      "outputs": [
        {
          "output_type": "stream",
          "text": [
            "Go to this URL in a browser: https://accounts.google.com/o/oauth2/auth?client_id=947318989803-6bn6qk8qdgf4n4g3pfee6491hc0brc4i.apps.googleusercontent.com&redirect_uri=urn%3aietf%3awg%3aoauth%3a2.0%3aoob&scope=email%20https%3a%2f%2fwww.googleapis.com%2fauth%2fdocs.test%20https%3a%2f%2fwww.googleapis.com%2fauth%2fdrive%20https%3a%2f%2fwww.googleapis.com%2fauth%2fdrive.photos.readonly%20https%3a%2f%2fwww.googleapis.com%2fauth%2fpeopleapi.readonly&response_type=code\n",
            "\n",
            "Enter your authorization code:\n",
            "··········\n",
            "Mounted at /content/drive\n"
          ],
          "name": "stdout"
        }
      ]
    },
    {
      "cell_type": "markdown",
      "metadata": {
        "id": "_NvcanzgEfA6",
        "colab_type": "text"
      },
      "source": [
        "We'll import the pre-written CUDA simulator class that will provide MCMC samples of 2D Triangular Antiferromagnetic Ising Model of given lattice length and ensemble size...  "
      ]
    },
    {
      "cell_type": "code",
      "metadata": {
        "id": "4r3_lgVJ3JkF",
        "colab_type": "code",
        "colab": {}
      },
      "source": [
        "import os\n",
        "import sys\n",
        "sys.path.append(os.path.abspath(\n",
        "\"/content/drive/My Drive/Project Presentations/Spin_glass_phase_classification/Ising_simulation\"))\n",
        "import TriAFM_2d #Stands for Triangular antiferromagnetic 2d"
      ],
      "execution_count": null,
      "outputs": []
    },
    {
      "cell_type": "markdown",
      "metadata": {
        "id": "7aQiorDJTZ-P",
        "colab_type": "text"
      },
      "source": [
        "Below line initializes the class object that has various functionalities to simulate and generate different kinds of data related to the model..."
      ]
    },
    {
      "cell_type": "code",
      "metadata": {
        "id": "2tABxprqGJl6",
        "colab_type": "code",
        "colab": {}
      },
      "source": [
        "simulator = TriAFM_2d.GPUSimulator (60,40)"
      ],
      "execution_count": null,
      "outputs": []
    },
    {
      "cell_type": "markdown",
      "metadata": {
        "id": "cqXi4ejrGJls",
        "colab_type": "text"
      },
      "source": [
        "Let's run a simulation to output magnetization vs temperature plot:"
      ]
    },
    {
      "cell_type": "code",
      "metadata": {
        "id": "We48E7oMOKew",
        "colab_type": "code",
        "colab": {
          "base_uri": "https://localhost:8080/",
          "height": 269
        },
        "outputId": "a25760cd-862a-4183-d14c-b932b05a8e02"
      },
      "source": [
        "simulator.mag_data (0.5,3.0,0.1)"
      ],
      "execution_count": null,
      "outputs": [
        {
          "output_type": "display_data",
          "data": {
            "image/png": "[encoded data removed]",
            "text/plain": [
              "<Figure size 432x288 with 1 Axes>"
            ]
          },
          "metadata": {
            "tags": [],
            "needs_background": "light"
          }
        }
      ]
    },
    {
      "cell_type": "markdown",
      "metadata": {
        "id": "hTdRDF_u5W7j",
        "colab_type": "text"
      },
      "source": [
        "It's clear that average magnetization is totally incapable of determining any phase transition in the system here. Let's now have a neural network that detects phase transition in the antiferromagnetic triangular Ising model, if any..."
      ]
    },
    {
      "cell_type": "code",
      "metadata": {
        "id": "Wx9KxhX5TgqL",
        "colab_type": "code",
        "colab": {}
      },
      "source": [
        "#Very long runtime expected...\n",
        "train_len = 5000\n",
        "train_lattice, train_label = simulator.generate_train_data (train_len)"
      ],
      "execution_count": null,
      "outputs": []
    },
    {
      "cell_type": "markdown",
      "metadata": {
        "id": "lkfUI42Ee5UK",
        "colab_type": "text"
      },
      "source": [
        "I'll save the generated dataset so that the simulation above can be skipped"
      ]
    },
    {
      "cell_type": "code",
      "metadata": {
        "id": "H4vAHpILgWuq",
        "colab_type": "code",
        "colab": {}
      },
      "source": [
        "train_path = '/content/drive/My Drive/Project Presentations/Spin_glass_phase_classification/Training Data'\n",
        "np.save (train_path+'/TrAFM5k_60_40_lattice.npy',train_lattice)\n",
        "np.save (train_path+'/TrAFM5k_60_40_label.npy',train_label)"
      ],
      "execution_count": null,
      "outputs": []
    },
    {
      "cell_type": "markdown",
      "metadata": {
        "id": "K84nAu8Ki0Qg",
        "colab_type": "text"
      },
      "source": [
        "Here, we load the simulated data directly:"
      ]
    },
    {
      "cell_type": "code",
      "metadata": {
        "id": "-Zduf6lri6Vb",
        "colab_type": "code",
        "colab": {}
      },
      "source": [
        "train_path = '/content/drive/My Drive/Project Presentations/Spin_glass_phase_classification/Training Data'\n",
        "train_len = 5000\n",
        "train_lattice = np.load (train_path+'/TrAFM5k_60_40_lattice.npy')\n",
        "train_label = np.load (train_path+'/TrAFM5k_60_40_label.npy')"
      ],
      "execution_count": null,
      "outputs": []
    },
    {
      "cell_type": "code",
      "metadata": {
        "id": "-hrSBsKEQNNn",
        "colab_type": "code",
        "colab": {
          "base_uri": "https://localhost:8080/",
          "height": 36
        },
        "outputId": "0e2fb21b-c540-4fa0-f2f3-16ad89a6eace"
      },
      "source": [
        "#train_dataset = tf.data.Dataset.from_tensor_slices((train_lattice, train_label))\n",
        "\n",
        "#writer = tf.data.experimental.TFRecordWriter ('TrAFM5k_60_40.tfrecord')\n",
        "#writer.write ()"
      ],
      "execution_count": null,
      "outputs": [
        {
          "output_type": "execute_result",
          "data": {
            "text/plain": [
              "tensorflow.python.data.ops.dataset_ops.TensorSliceDataset"
            ]
          },
          "metadata": {
            "tags": []
          },
          "execution_count": 8
        }
      ]
    },
    {
      "cell_type": "markdown",
      "metadata": {
        "id": "VvcjeTfVoLs2",
        "colab_type": "text"
      },
      "source": [
        "Splitting validation sets:"
      ]
    },
    {
      "cell_type": "code",
      "metadata": {
        "id": "CcsnyNqM0--d",
        "colab_type": "code",
        "colab": {}
      },
      "source": [
        "val_lattice = train_lattice [int(0.8*train_len):]\n",
        "val_label = train_label [int(0.8*train_len):]\n",
        "train_lattice = train_lattice [:int(0.8*train_len)]\n",
        "train_label = train_label [:int(0.8*train_len)]"
      ],
      "execution_count": null,
      "outputs": []
    },
    {
      "cell_type": "code",
      "metadata": {
        "id": "ypy4hRcSp0TQ",
        "colab_type": "code",
        "colab": {}
      },
      "source": [
        "shape = train_lattice.shape [1:3]\n",
        "ensemble_size = (train_lattice.shape [3],)"
      ],
      "execution_count": null,
      "outputs": []
    },
    {
      "cell_type": "markdown",
      "metadata": {
        "id": "5odhfvCSoWJK",
        "colab_type": "text"
      },
      "source": [
        "We'll define a typical convnet architecture to train with our data:"
      ]
    },
    {
      "cell_type": "code",
      "metadata": {
        "id": "e5RaHBlt7Awk",
        "colab_type": "code",
        "colab": {}
      },
      "source": [
        "brain = keras. Sequential([\n",
        "    keras.layers.Conv2D(32, (3,3), input_shape= shape+ensemble_size),\n",
        "    keras.layers.MaxPool2D (),\n",
        "    keras.layers.Conv2D(32,(3,3)),\n",
        "    keras.layers.MaxPool2D (),\n",
        "    keras.layers.Conv2D(32,(3,3)),\n",
        "    keras.layers.Flatten(),\n",
        "    keras.layers.BatchNormalization (),\n",
        "    keras.layers.Dense(25, activation='relu'),\n",
        "    keras.layers.Dropout(0.3),\n",
        "    keras.layers.Dense(25, activation='relu'),\n",
        "    keras.layers.Dropout(0.3),\n",
        "    keras.layers.Dense(2, activation='softmax')\n",
        "])\n",
        "\n",
        "brain.compile(optimizer='adam',\n",
        "              loss='sparse_categorical_crossentropy',\n",
        "              metrics=['accuracy'])"
      ],
      "execution_count": null,
      "outputs": []
    },
    {
      "cell_type": "markdown",
      "metadata": {
        "id": "_8sJLf43HKdX",
        "colab_type": "text"
      },
      "source": [
        ""
      ]
    },
    {
      "cell_type": "code",
      "metadata": {
        "id": "qqG0P2iSoxzp",
        "colab_type": "code",
        "colab": {
          "base_uri": "https://localhost:8080/",
          "height": 113
        },
        "outputId": "e526d6d4-98cc-48bd-b92e-f64c7fc12c55"
      },
      "source": [
        "hist = brain.fit (train_lattice, train_label, batch_size=4, epochs=2,\n",
        "                  validation_data= (val_lattice,val_label))"
      ],
      "execution_count": null,
      "outputs": [
        {
          "output_type": "stream",
          "text": [
            "Epoch 1/2\n",
            "1000/1000 [==============================] - 4s 4ms/step - loss: 0.1123 - accuracy: 0.9390 - val_loss: 0.0381 - val_accuracy: 0.9990\n",
            "Epoch 2/2\n",
            "1000/1000 [==============================] - 5s 5ms/step - loss: 0.1170 - accuracy: 0.9362 - val_loss: 8.5351e-04 - val_accuracy: 1.0000\n"
          ],
          "name": "stdout"
        }
      ]
    },
    {
      "cell_type": "code",
      "metadata": {
        "id": "3MOaqDrBr6yd",
        "colab_type": "code",
        "colab": {}
      },
      "source": [
        "test_len = 500\n",
        "test_lattice, test_label = simulator.generate_train_data (test_len)"
      ],
      "execution_count": null,
      "outputs": []
    },
    {
      "cell_type": "code",
      "metadata": {
        "id": "4VNcWPm5tJYN",
        "colab_type": "code",
        "colab": {
          "base_uri": "https://localhost:8080/",
          "height": 36
        },
        "outputId": "ce85ae21-a931-4ebb-acdc-06ed781505f3"
      },
      "source": [
        "test_lattice.shape"
      ],
      "execution_count": null,
      "outputs": [
        {
          "output_type": "execute_result",
          "data": {
            "text/plain": [
              "(500, 60, 60, 40)"
            ]
          },
          "metadata": {
            "tags": []
          },
          "execution_count": 17
        }
      ]
    },
    {
      "cell_type": "code",
      "metadata": {
        "id": "SJX8Nf84sea8",
        "colab_type": "code",
        "colab": {
          "base_uri": "https://localhost:8080/",
          "height": 55
        },
        "outputId": "482ed972-80ab-4832-88cd-6f643ad503be"
      },
      "source": [
        "brain.evaluate (test_lattice, test_label,verbose=1)"
      ],
      "execution_count": null,
      "outputs": [
        {
          "output_type": "stream",
          "text": [
            "16/16 [==============================] - 0s 13ms/step - loss: 4.5039e-05 - accuracy: 1.0000\n"
          ],
          "name": "stdout"
        },
        {
          "output_type": "execute_result",
          "data": {
            "text/plain": [
              "[4.503871969063766e-05, 1.0]"
            ]
          },
          "metadata": {
            "tags": []
          },
          "execution_count": 15
        }
      ]
    },
    {
      "cell_type": "markdown",
      "metadata": {
        "id": "g-WnsHZAuxaQ",
        "colab_type": "text"
      },
      "source": [
        "Let's save the neural network model:"
      ]
    },
    {
      "cell_type": "code",
      "metadata": {
        "id": "aUmsPenOtAkE",
        "colab_type": "code",
        "colab": {}
      },
      "source": [
        "nn_path = '/content/drive/My Drive/Project Presentations/Spin_glass_phase_classification/'\n",
        "brain.save(nn_path+'TrAFM_60_40.h5')"
      ],
      "execution_count": null,
      "outputs": []
    },
    {
      "cell_type": "markdown",
      "metadata": {
        "id": "7vcjUCqwzfjA",
        "colab_type": "text"
      },
      "source": [
        "Load the neural network directly here:"
      ]
    },
    {
      "cell_type": "code",
      "metadata": {
        "id": "RqvQCrwDvjri",
        "colab_type": "code",
        "colab": {}
      },
      "source": [
        "nn_path = '/content/drive/My Drive/Project Presentations/Spin_glass_phase_classification/NN Models/'\n",
        "brain = keras.models.load_model (nn_path+'TrAFM_60_40.h5')"
      ],
      "execution_count": null,
      "outputs": []
    },
    {
      "cell_type": "markdown",
      "metadata": {
        "id": "NluHZ3gS0dm8",
        "colab_type": "text"
      },
      "source": [
        "Let's plot the temperature vs NN Output graph:"
      ]
    },
    {
      "cell_type": "code",
      "metadata": {
        "id": "FhmUQn6j0rZi",
        "colab_type": "code",
        "colab": {
          "base_uri": "https://localhost:8080/",
          "height": 265
        },
        "outputId": "5780ed61-a15e-40a8-83db-ed616b96043e"
      },
      "source": [
        "simulator.neural_data (2.0,7.0,0.1,brain)"
      ],
      "execution_count": null,
      "outputs": [
        {
          "output_type": "display_data",
          "data": {
            "image/png": "[encoded data removed]",
            "text/plain": [
              "<Figure size 432x288 with 1 Axes>"
            ]
          },
          "metadata": {
            "tags": [],
            "needs_background": "light"
          }
        }
      ]
    },
    {
      "cell_type": "markdown",
      "metadata": {
        "id": "sXLF7SgKPncB",
        "colab_type": "text"
      },
      "source": [
        "From the above graph, we see there's definitely some property of the ensemble that varies with temperature. However, it isn't clear whether it indicates a phase transition in some order..."
      ]
    },
    {
      "cell_type": "markdown",
      "metadata": {
        "id": "SBQb6CArSVRX",
        "colab_type": "text"
      },
      "source": [
        "## Phase change in 2D Edwards-Anderson (EA) square Ising Model"
      ]
    },
    {
      "cell_type": "code",
      "metadata": {
        "id": "MOoXNrKy1xcU",
        "colab_type": "code",
        "colab": {}
      },
      "source": [
        "#importing necessary libraries\n",
        "import numpy as np\n",
        "import tensorflow as tf\n",
        "from numba import cuda,jit\n",
        "from tensorflow import keras\n",
        "import math\n",
        "import matplotlib.pyplot as plt"
      ],
      "execution_count": null,
      "outputs": []
    },
    {
      "cell_type": "code",
      "metadata": {
        "id": "CTiyBeZjTJRv",
        "colab_type": "code",
        "colab": {
          "base_uri": "https://localhost:8080/",
          "height": 36
        },
        "outputId": "f28eff22-0b8b-4420-b48a-599541d8997b"
      },
      "source": [
        "from google.colab import drive\n",
        "drive.mount(\"/content/drive\", force_remount=True)"
      ],
      "execution_count": null,
      "outputs": [
        {
          "output_type": "stream",
          "text": [
            "Mounted at /content/drive\n"
          ],
          "name": "stdout"
        }
      ]
    },
    {
      "cell_type": "markdown",
      "metadata": {
        "colab_type": "text",
        "id": "A6j0ABrK2bts"
      },
      "source": [
        "We'll import the pre-written CUDA simulator class that will provide MCMC samples of 2D Square Edward-Anderson Ising Model of given lattice length and ensemble size...  "
      ]
    },
    {
      "cell_type": "code",
      "metadata": {
        "id": "evtaF0I4z54t",
        "colab_type": "code",
        "colab": {}
      },
      "source": [
        "import os\n",
        "import sys\n",
        "sys.path.append(os.path.abspath(\n",
        "\"/content/drive/My Drive/Project Presentations/Spin_glass_phase_classification/Ising_simulation\"))\n",
        "import SqEA_2d #Stands for Triangular antiferromagnetic 2d"
      ],
      "execution_count": null,
      "outputs": []
    },
    {
      "cell_type": "markdown",
      "metadata": {
        "id": "a2H6cmgO2Mj_",
        "colab_type": "text"
      },
      "source": [
        "Below line initializes the class object that has various functionalities to simulate and generate different kinds of data related to the model..."
      ]
    },
    {
      "cell_type": "code",
      "metadata": {
        "id": "kNvTmfFj0Cn5",
        "colab_type": "code",
        "colab": {}
      },
      "source": [
        "simulator = SqEA_2d.GPUsimulator (60,40)"
      ],
      "execution_count": null,
      "outputs": []
    },
    {
      "cell_type": "markdown",
      "metadata": {
        "id": "1J2WoQ6S3AdG",
        "colab_type": "text"
      },
      "source": [
        "Let's generate the magnetisation vs temperature plot using the above object:"
      ]
    },
    {
      "cell_type": "code",
      "metadata": {
        "id": "J-2EP7DZfDig",
        "colab_type": "code",
        "colab": {}
      },
      "source": [
        "simulator.equilib (0.5)"
      ],
      "execution_count": null,
      "outputs": []
    },
    {
      "cell_type": "code",
      "metadata": {
        "id": "m5IIk2Lz0Uuu",
        "colab_type": "code",
        "colab": {
          "base_uri": "https://localhost:8080/",
          "height": 327
        },
        "outputId": "51bf79d2-9074-453d-b97c-c791a41e86ce"
      },
      "source": [
        "simulator.mag_data (0.5,3.5,0.1)"
      ],
      "execution_count": null,
      "outputs": [
        {
          "output_type": "stream",
          "text": [
            "/content/drive/My Drive/Project Presentations/Spin_glass_phase_classification/Ising_simulation/SqEA_2d.py:129: RuntimeWarning: overflow encountered in exp\n",
            "  if np.random.uniform() < np.exp(arg):\n"
          ],
          "name": "stderr"
        },
        {
          "output_type": "display_data",
          "data": {
            "image/png": "[encoded data removed]",
            "text/plain": [
              "<Figure size 432x288 with 1 Axes>"
            ]
          },
          "metadata": {
            "tags": [],
            "needs_background": "light"
          }
        }
      ]
    },
    {
      "cell_type": "markdown",
      "metadata": {
        "colab_type": "text",
        "id": "msqDR83WcMjg"
      },
      "source": [
        "Once again, it's clear that average magnetization is totally incapable of determining any phase transition in the system here. Let's now have a neural network that detects phase transition in the EA square Ising model, if any...\n",
        "\n",
        "Note: If already saved data in drive, load the data by running the cell below [here](#load_data) and proceed"
      ]
    },
    {
      "cell_type": "code",
      "metadata": {
        "id": "uEoG2Fbl3Xd9",
        "colab_type": "code",
        "colab": {
          "base_uri": "https://localhost:8080/",
          "height": 452
        },
        "outputId": "5f2328ab-f14b-4e6f-d9a8-d0fab4506ae8"
      },
      "source": [
        "#Very long runtime expected...\n",
        "train_len = 5000\n",
        "train_lattice, train_label = simulator.generate_train_data (train_len)"
      ],
      "execution_count": null,
      "outputs": [
        {
          "output_type": "stream",
          "text": [
            "/content/drive/My Drive/Project Presentations/Spin_glass_phase_classification/Ising_simulation/SqEA_2d.py:129: RuntimeWarning: overflow encountered in exp\n",
            "  if np.random.uniform() < np.exp(arg):\n"
          ],
          "name": "stderr"
        },
        {
          "output_type": "error",
          "ename": "KeyboardInterrupt",
          "evalue": "ignored",
          "traceback": [
            "\u001b[0;31m---------------------------------------------------------------------------\u001b[0m",
            "\u001b[0;31mKeyboardInterrupt\u001b[0m                         Traceback (most recent call last)",
            "\u001b[0;32m<ipython-input-7-33c29a0bee0f>\u001b[0m in \u001b[0;36m<module>\u001b[0;34m()\u001b[0m\n\u001b[1;32m      1\u001b[0m \u001b[0;31m#Very long runtime expected...\u001b[0m\u001b[0;34m\u001b[0m\u001b[0;34m\u001b[0m\u001b[0;34m\u001b[0m\u001b[0m\n\u001b[1;32m      2\u001b[0m \u001b[0mtrain_len\u001b[0m \u001b[0;34m=\u001b[0m \u001b[0;36m5000\u001b[0m\u001b[0;34m\u001b[0m\u001b[0;34m\u001b[0m\u001b[0m\n\u001b[0;32m----> 3\u001b[0;31m \u001b[0mtrain_lattice\u001b[0m\u001b[0;34m,\u001b[0m \u001b[0mtrain_label\u001b[0m \u001b[0;34m=\u001b[0m \u001b[0msimulator\u001b[0m\u001b[0;34m.\u001b[0m\u001b[0mgenerate_train_data\u001b[0m \u001b[0;34m(\u001b[0m\u001b[0mtrain_len\u001b[0m\u001b[0;34m)\u001b[0m\u001b[0;34m\u001b[0m\u001b[0;34m\u001b[0m\u001b[0m\n\u001b[0m",
            "\u001b[0;32m/content/drive/My Drive/Project Presentations/Spin_glass_phase_classification/Ising_simulation/SqEA_2d.py\u001b[0m in \u001b[0;36mgenerate_train_data\u001b[0;34m(self, train_len, phase, T_c)\u001b[0m\n\u001b[1;32m    164\u001b[0m             \u001b[0;32melse\u001b[0m\u001b[0;34m:\u001b[0m\u001b[0;34m\u001b[0m\u001b[0;34m\u001b[0m\u001b[0m\n\u001b[1;32m    165\u001b[0m                 \u001b[0mtemp\u001b[0m \u001b[0;34m=\u001b[0m \u001b[0;36m0.5\u001b[0m\u001b[0;34m*\u001b[0m\u001b[0mT_c\u001b[0m\u001b[0;34m\u001b[0m\u001b[0;34m\u001b[0m\u001b[0m\n\u001b[0;32m--> 166\u001b[0;31m             \u001b[0mt_lattice\u001b[0m\u001b[0;34m.\u001b[0m\u001b[0mappend\u001b[0m\u001b[0;34m(\u001b[0m\u001b[0mself\u001b[0m\u001b[0;34m.\u001b[0m\u001b[0mequilib\u001b[0m\u001b[0;34m(\u001b[0m\u001b[0mtemp\u001b[0m\u001b[0;34m)\u001b[0m\u001b[0;34m.\u001b[0m\u001b[0mastype\u001b[0m\u001b[0;34m(\u001b[0m\u001b[0mnp\u001b[0m\u001b[0;34m.\u001b[0m\u001b[0mfloat32\u001b[0m\u001b[0;34m)\u001b[0m\u001b[0;34m)\u001b[0m\u001b[0;34m\u001b[0m\u001b[0;34m\u001b[0m\u001b[0m\n\u001b[0m\u001b[1;32m    167\u001b[0m             \u001b[0mt_label\u001b[0m\u001b[0;34m.\u001b[0m\u001b[0mappend\u001b[0m\u001b[0;34m(\u001b[0m\u001b[0mnp\u001b[0m\u001b[0;34m.\u001b[0m\u001b[0mint32\u001b[0m\u001b[0;34m(\u001b[0m\u001b[0mtemp\u001b[0m \u001b[0;34m<\u001b[0m \u001b[0mT_c\u001b[0m\u001b[0;34m)\u001b[0m\u001b[0;34m)\u001b[0m\u001b[0;34m\u001b[0m\u001b[0;34m\u001b[0m\u001b[0m\n\u001b[1;32m    168\u001b[0m         \u001b[0;32mreturn\u001b[0m \u001b[0mnp\u001b[0m\u001b[0;34m.\u001b[0m\u001b[0mstack\u001b[0m\u001b[0;34m(\u001b[0m\u001b[0mt_lattice\u001b[0m\u001b[0;34m)\u001b[0m\u001b[0;34m,\u001b[0m \u001b[0mnp\u001b[0m\u001b[0;34m.\u001b[0m\u001b[0mstack\u001b[0m\u001b[0;34m(\u001b[0m\u001b[0mt_label\u001b[0m\u001b[0;34m)\u001b[0m\u001b[0;34m\u001b[0m\u001b[0;34m\u001b[0m\u001b[0m\n",
            "\u001b[0;32m/content/drive/My Drive/Project Presentations/Spin_glass_phase_classification/Ising_simulation/SqEA_2d.py\u001b[0m in \u001b[0;36mequilib\u001b[0;34m(self, temp)\u001b[0m\n\u001b[1;32m    125\u001b[0m                                                 np.reshape(spin[...,p], (prod, 1)))\n\u001b[1;32m    126\u001b[0m             e2 = np.reshape(spin[...,p+1], (1, prod)) @ (Jnn_matrix @\n\u001b[0;32m--> 127\u001b[0;31m                                                 np.reshape(spin[...,p+1], (prod, 1)))\n\u001b[0m\u001b[1;32m    128\u001b[0m             \u001b[0marg\u001b[0m \u001b[0;34m=\u001b[0m \u001b[0;34m(\u001b[0m\u001b[0me1\u001b[0m \u001b[0;34m-\u001b[0m \u001b[0me2\u001b[0m\u001b[0;34m)\u001b[0m\u001b[0;34m*\u001b[0m\u001b[0;34m(\u001b[0m\u001b[0;36m1\u001b[0m\u001b[0;34m/\u001b[0m\u001b[0mT\u001b[0m\u001b[0;34m[\u001b[0m\u001b[0mp\u001b[0m\u001b[0;34m]\u001b[0m \u001b[0;34m-\u001b[0m \u001b[0;36m1\u001b[0m\u001b[0;34m/\u001b[0m\u001b[0mT\u001b[0m\u001b[0;34m[\u001b[0m\u001b[0mp\u001b[0m\u001b[0;34m+\u001b[0m\u001b[0;36m1\u001b[0m\u001b[0;34m]\u001b[0m\u001b[0;34m)\u001b[0m\u001b[0;34m\u001b[0m\u001b[0;34m\u001b[0m\u001b[0m\n\u001b[1;32m    129\u001b[0m             \u001b[0;32mif\u001b[0m \u001b[0mnp\u001b[0m\u001b[0;34m.\u001b[0m\u001b[0mrandom\u001b[0m\u001b[0;34m.\u001b[0m\u001b[0muniform\u001b[0m\u001b[0;34m(\u001b[0m\u001b[0;34m)\u001b[0m \u001b[0;34m<\u001b[0m \u001b[0mnp\u001b[0m\u001b[0;34m.\u001b[0m\u001b[0mexp\u001b[0m\u001b[0;34m(\u001b[0m\u001b[0marg\u001b[0m\u001b[0;34m)\u001b[0m\u001b[0;34m:\u001b[0m\u001b[0;34m\u001b[0m\u001b[0;34m\u001b[0m\u001b[0m\n",
            "\u001b[0;31mKeyboardInterrupt\u001b[0m: "
          ]
        }
      ]
    },
    {
      "cell_type": "markdown",
      "metadata": {
        "id": "KzMr1FVPc_RV",
        "colab_type": "text"
      },
      "source": [
        "We'll save the data to drive so that the above step could be skipped:"
      ]
    },
    {
      "cell_type": "code",
      "metadata": {
        "id": "IMbMl94mcgFS",
        "colab_type": "code",
        "colab": {}
      },
      "source": [
        "train_path = '/content/drive/My Drive/Project Presentations/Spin_glass_phase_classification/Training Data'\n",
        "np.save (train_path+'/SqEA5k_60_40_lattice.npy',train_lattice)\n",
        "np.save (train_path+'/SqEA5k_60_40_label.npy',train_label)"
      ],
      "execution_count": null,
      "outputs": []
    },
    {
      "cell_type": "markdown",
      "metadata": {
        "id": "Maxejv6Jd529",
        "colab_type": "text"
      },
      "source": [
        "<a id='load_data'></a>\n",
        "Loading the pre-saved training data from here:"
      ]
    },
    {
      "cell_type": "code",
      "metadata": {
        "id": "WfTTH-60eXxL",
        "colab_type": "code",
        "colab": {}
      },
      "source": [
        "train_path = '/content/drive/My Drive/Project Presentations/Spin_glass_phase_classification/Training Data'\n",
        "train_len = 5000\n",
        "train_lattice = np.load (train_path+'/SqEA5k_60_40_lattice.npy')\n",
        "train_label = np.load (train_path+'/SqEA5k_60_40_label.npy')"
      ],
      "execution_count": null,
      "outputs": []
    }
  ]
}